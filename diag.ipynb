{
 "cells": [
  {
   "cell_type": "code",
   "execution_count": 18,
   "metadata": {},
   "outputs": [],
   "source": [
    "import pandas as pd\n",
    "import datetime\n",
    "import os\n",
    "import importlib"
   ]
  },
  {
   "cell_type": "code",
   "execution_count": 1,
   "metadata": {},
   "outputs": [],
   "source": [
    "import talib"
   ]
  },
  {
   "cell_type": "code",
   "execution_count": 36,
   "metadata": {},
   "outputs": [],
   "source": [
    "importlib.reload(functions)\n",
    "from functions import *"
   ]
  },
  {
   "cell_type": "code",
   "execution_count": 24,
   "metadata": {},
   "outputs": [],
   "source": [
    "files = os.listdir('day_aggs')"
   ]
  },
  {
   "cell_type": "code",
   "execution_count": 25,
   "metadata": {},
   "outputs": [],
   "source": [
    "filedates = [datetime.strptime(f.split('.')[0], '%Y-%m-%d').date() for f in files]"
   ]
  },
  {
   "cell_type": "code",
   "execution_count": 53,
   "metadata": {},
   "outputs": [
    {
     "ename": "ModuleNotFoundError",
     "evalue": "No module named 'talib'",
     "output_type": "error",
     "traceback": [
      "\u001b[1;31m---------------------------------------------------------------------------\u001b[0m",
      "\u001b[1;31mModuleNotFoundError\u001b[0m                       Traceback (most recent call last)",
      "Input \u001b[1;32mIn [53]\u001b[0m, in \u001b[0;36m<cell line: 1>\u001b[1;34m()\u001b[0m\n\u001b[1;32m----> 1\u001b[0m \u001b[38;5;28;01mimport\u001b[39;00m \u001b[38;5;21;01mtalib\u001b[39;00m\n",
      "\u001b[1;31mModuleNotFoundError\u001b[0m: No module named 'talib'"
     ]
    }
   ],
   "source": [
    "import talib"
   ]
  },
  {
   "cell_type": "code",
   "execution_count": 51,
   "metadata": {},
   "outputs": [],
   "source": [
    "df = pd.read_csv('all_dailies.csv')"
   ]
  },
  {
   "cell_type": "code",
   "execution_count": 52,
   "metadata": {},
   "outputs": [
    {
     "data": {
      "text/html": [
       "<div>\n",
       "<style scoped>\n",
       "    .dataframe tbody tr th:only-of-type {\n",
       "        vertical-align: middle;\n",
       "    }\n",
       "\n",
       "    .dataframe tbody tr th {\n",
       "        vertical-align: top;\n",
       "    }\n",
       "\n",
       "    .dataframe thead th {\n",
       "        text-align: right;\n",
       "    }\n",
       "</style>\n",
       "<table border=\"1\" class=\"dataframe\">\n",
       "  <thead>\n",
       "    <tr style=\"text-align: right;\">\n",
       "      <th></th>\n",
       "      <th>ticker</th>\n",
       "      <th>volume</th>\n",
       "      <th>open</th>\n",
       "      <th>close</th>\n",
       "      <th>high</th>\n",
       "      <th>low</th>\n",
       "      <th>window_start</th>\n",
       "      <th>transactions</th>\n",
       "      <th>date</th>\n",
       "    </tr>\n",
       "  </thead>\n",
       "  <tbody>\n",
       "    <tr>\n",
       "      <th>0</th>\n",
       "      <td>A</td>\n",
       "      <td>783350</td>\n",
       "      <td>81.57</td>\n",
       "      <td>81.69</td>\n",
       "      <td>81.71</td>\n",
       "      <td>80.585</td>\n",
       "      <td>1554696000000000000</td>\n",
       "      <td>8040</td>\n",
       "      <td>2019-04-08</td>\n",
       "    </tr>\n",
       "    <tr>\n",
       "      <th>1</th>\n",
       "      <td>AA</td>\n",
       "      <td>2375490</td>\n",
       "      <td>29.55</td>\n",
       "      <td>29.66</td>\n",
       "      <td>29.73</td>\n",
       "      <td>29.320</td>\n",
       "      <td>1554696000000000000</td>\n",
       "      <td>13301</td>\n",
       "      <td>2019-04-08</td>\n",
       "    </tr>\n",
       "    <tr>\n",
       "      <th>2</th>\n",
       "      <td>AAAU</td>\n",
       "      <td>10896</td>\n",
       "      <td>13.00</td>\n",
       "      <td>12.96</td>\n",
       "      <td>13.01</td>\n",
       "      <td>12.960</td>\n",
       "      <td>1554696000000000000</td>\n",
       "      <td>29</td>\n",
       "      <td>2019-04-08</td>\n",
       "    </tr>\n",
       "    <tr>\n",
       "      <th>3</th>\n",
       "      <td>AABA</td>\n",
       "      <td>16611754</td>\n",
       "      <td>73.65</td>\n",
       "      <td>74.46</td>\n",
       "      <td>74.78</td>\n",
       "      <td>73.580</td>\n",
       "      <td>1554696000000000000</td>\n",
       "      <td>78459</td>\n",
       "      <td>2019-04-08</td>\n",
       "    </tr>\n",
       "    <tr>\n",
       "      <th>4</th>\n",
       "      <td>AAC</td>\n",
       "      <td>97919</td>\n",
       "      <td>2.04</td>\n",
       "      <td>2.06</td>\n",
       "      <td>2.07</td>\n",
       "      <td>1.980</td>\n",
       "      <td>1554696000000000000</td>\n",
       "      <td>540</td>\n",
       "      <td>2019-04-08</td>\n",
       "    </tr>\n",
       "  </tbody>\n",
       "</table>\n",
       "</div>"
      ],
      "text/plain": [
       "  ticker    volume   open  close   high     low         window_start  \\\n",
       "0      A    783350  81.57  81.69  81.71  80.585  1554696000000000000   \n",
       "1     AA   2375490  29.55  29.66  29.73  29.320  1554696000000000000   \n",
       "2   AAAU     10896  13.00  12.96  13.01  12.960  1554696000000000000   \n",
       "3   AABA  16611754  73.65  74.46  74.78  73.580  1554696000000000000   \n",
       "4    AAC     97919   2.04   2.06   2.07   1.980  1554696000000000000   \n",
       "\n",
       "   transactions        date  \n",
       "0          8040  2019-04-08  \n",
       "1         13301  2019-04-08  \n",
       "2            29  2019-04-08  \n",
       "3         78459  2019-04-08  \n",
       "4           540  2019-04-08  "
      ]
     },
     "execution_count": 52,
     "metadata": {},
     "output_type": "execute_result"
    }
   ],
   "source": [
    "df.head()"
   ]
  }
 ],
 "metadata": {
  "kernelspec": {
   "display_name": "Python 3",
   "language": "python",
   "name": "python3"
  },
  "language_info": {
   "codemirror_mode": {
    "name": "ipython",
    "version": 3
   },
   "file_extension": ".py",
   "mimetype": "text/x-python",
   "name": "python",
   "nbconvert_exporter": "python",
   "pygments_lexer": "ipython3",
   "version": "3.12.3"
  }
 },
 "nbformat": 4,
 "nbformat_minor": 2
}
