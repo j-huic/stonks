{
 "cells": [
  {
   "cell_type": "code",
   "execution_count": 53,
   "metadata": {},
   "outputs": [],
   "source": [
    "import requests\n",
    "import pandas as pd\n",
    "from datetime import datetime, timedelta\n",
    "import pandas_market_calendars as mcal\n",
    "from importlib import reload\n",
    "import sys\n",
    "import os\n",
    "import time\n",
    "from IPython.display import clear_output, display\n",
    "from tqdm import tqdm"
   ]
  },
  {
   "cell_type": "code",
   "execution_count": 16,
   "metadata": {},
   "outputs": [],
   "source": [
    "import functions; functions = reload(functions)\n",
    "from functions import *"
   ]
  },
  {
   "cell_type": "code",
   "execution_count": 3,
   "metadata": {},
   "outputs": [],
   "source": [
    "apikey = '3CenRhJBzNqh2_C_5S38pOyt3ozLvQDm'"
   ]
  },
  {
   "cell_type": "code",
   "execution_count": 4,
   "metadata": {},
   "outputs": [],
   "source": [
    "# todo\n",
    "# 1. test function for daily aggregates - none/errors/edge cases/before available\n",
    "# 2. design pipeline for many jsons to csv\n",
    "# 3. .db maybe?\n",
    "# 4. if not, make csv\n",
    "# 5. update/remake .py files to download and merge missing"
   ]
  },
  {
   "cell_type": "code",
   "execution_count": 5,
   "metadata": {},
   "outputs": [],
   "source": [
    "date = '2020-01-01'\n",
    "url = f'https://api.polygon.io/v2/aggs/grouped/locale/us/market/stocks/{date}?apiKey={apikey}'"
   ]
  },
  {
   "cell_type": "code",
   "execution_count": 6,
   "metadata": {},
   "outputs": [],
   "source": [
    "response = requests.get(url)"
   ]
  },
  {
   "cell_type": "code",
   "execution_count": 7,
   "metadata": {},
   "outputs": [
    {
     "data": {
      "text/plain": [
       "{'queryCount': 0,\n",
       " 'resultsCount': 0,\n",
       " 'adjusted': True,\n",
       " 'status': 'OK',\n",
       " 'request_id': 'a426fcea4aa5004a97f7d0e49adcb888'}"
      ]
     },
     "execution_count": 7,
     "metadata": {},
     "output_type": "execute_result"
    }
   ],
   "source": [
    "response.json()"
   ]
  },
  {
   "cell_type": "code",
   "execution_count": 50,
   "metadata": {},
   "outputs": [
    {
     "name": "stdout",
     "output_type": "stream",
     "text": [
      "Attempted to request data past historical entitlements. Please upgrade your plan at https://polygon.io/pricing\n",
      "No data available for 2020-01-01\n"
     ]
    }
   ],
   "source": [
    "unauth = daily_agg('2018-01-02')\n",
    "holiday = daily_agg('2020-01-01')\n",
    "good = daily_agg('2020-06-01')"
   ]
  },
  {
   "cell_type": "code",
   "execution_count": 17,
   "metadata": {},
   "outputs": [],
   "source": [
    "mon = daily_agg('2024-06-03')\n",
    "tue = daily_agg('2024-06-04')\n",
    "wed = daily_agg('2024-06-05')"
   ]
  },
  {
   "cell_type": "code",
   "execution_count": 18,
   "metadata": {},
   "outputs": [],
   "source": [
    "alljson = []\n",
    "for json in [mon, tue, wed]:\n",
    "    alljson.extend(json)"
   ]
  },
  {
   "cell_type": "code",
   "execution_count": 135,
   "metadata": {},
   "outputs": [],
   "source": [
    "def loadtest(filename, onecol=False):\n",
    "    before = datetime.now()\n",
    "    \n",
    "    if onecol:\n",
    "        df = pd.read_csv(filename, usecols=[0])\n",
    "    else:\n",
    "        df = pd.read_csv(filename)\n",
    "\n",
    "    after = datetime.now()\n",
    "    print((after - before).total_seconds())\n",
    "\n",
    "def datelist_to_df(datelist):\n",
    "    before = datetime.now()\n",
    "    \n",
    "    alljson = []\n",
    "    for i, date in enumerate(tqdm(datelist)):\n",
    "        data = daily_agg(date)\n",
    "        if data is not None:\n",
    "            alljson.extend(data)\n",
    "    \n",
    "    after = datetime.now()\n",
    "    totalseconds = (after - before).total_seconds()\n",
    "    minutes = totalseconds // 60\n",
    "    seconds = totalseconds % 60\n",
    "    print(f'{len(datelist)} file requests done in {minutes} minutes and {round(seconds, 2)} seconds')\n",
    "    \n",
    "    return pd.DataFrame(alljson)\n",
    "\n",
    "def datestring_from_timestamp(timestamp):\n",
    "    return datetime.fromtimestamp(timestamp / 1000).strftime('%Y-%m-%d')"
   ]
  },
  {
   "cell_type": "code",
   "execution_count": 85,
   "metadata": {},
   "outputs": [],
   "source": [
    "alldates = get_trading_days()\n",
    "all = datelist_to_df(alldates)"
   ]
  }
 ],
 "metadata": {
  "kernelspec": {
   "display_name": "stonks",
   "language": "python",
   "name": "python3"
  },
  "language_info": {
   "codemirror_mode": {
    "name": "ipython",
    "version": 3
   },
   "file_extension": ".py",
   "mimetype": "text/x-python",
   "name": "python",
   "nbconvert_exporter": "python",
   "pygments_lexer": "ipython3",
   "version": "3.12.3"
  }
 },
 "nbformat": 4,
 "nbformat_minor": 2
}
