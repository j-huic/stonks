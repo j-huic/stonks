{
 "cells": [
  {
   "cell_type": "code",
   "execution_count": 53,
   "metadata": {},
   "outputs": [],
   "source": [
    "import requests\n",
    "import pandas as pd\n",
    "from datetime import datetime, timedelta\n",
    "import pandas_market_calendars as mcal\n",
    "from importlib import reload\n",
    "import sys\n",
    "import os\n",
    "import time\n",
    "from IPython.display import clear_output, display\n",
    "from tqdm import tqdm"
   ]
  },
  {
   "cell_type": "code",
   "execution_count": 16,
   "metadata": {},
   "outputs": [],
   "source": [
    "import functions; functions = reload(functions)\n",
    "from functions import *"
   ]
  },
  {
   "cell_type": "code",
   "execution_count": 3,
   "metadata": {},
   "outputs": [],
   "source": [
    "apikey = '3CenRhJBzNqh2_C_5S38pOyt3ozLvQDm'"
   ]
  },
  {
   "cell_type": "code",
   "execution_count": 4,
   "metadata": {},
   "outputs": [],
   "source": [
    "# todo\n",
    "# 1. test function for daily aggregates - none/errors/edge cases/before available\n",
    "# 2. design pipeline for many jsons to csv\n",
    "# 3. .db maybe?\n",
    "# 4. if not, make csv\n",
    "# 5. update/remake .py files to download and merge missing"
   ]
  },
  {
   "cell_type": "code",
   "execution_count": 5,
   "metadata": {},
   "outputs": [],
   "source": [
    "date = '2020-01-01'\n",
    "url = f'https://api.polygon.io/v2/aggs/grouped/locale/us/market/stocks/{date}?apiKey={apikey}'"
   ]
  },
  {
   "cell_type": "code",
   "execution_count": 6,
   "metadata": {},
   "outputs": [],
   "source": [
    "response = requests.get(url)"
   ]
  },
  {
   "cell_type": "code",
   "execution_count": 7,
   "metadata": {},
   "outputs": [
    {
     "data": {
      "text/plain": [
       "{'queryCount': 0,\n",
       " 'resultsCount': 0,\n",
       " 'adjusted': True,\n",
       " 'status': 'OK',\n",
       " 'request_id': 'a426fcea4aa5004a97f7d0e49adcb888'}"
      ]
     },
     "execution_count": 7,
     "metadata": {},
     "output_type": "execute_result"
    }
   ],
   "source": [
    "response.json()"
   ]
  },
  {
   "cell_type": "code",
   "execution_count": 50,
   "metadata": {},
   "outputs": [
    {
     "name": "stdout",
     "output_type": "stream",
     "text": [
      "Attempted to request data past historical entitlements. Please upgrade your plan at https://polygon.io/pricing\n",
      "No data available for 2020-01-01\n"
     ]
    }
   ],
   "source": [
    "unauth = daily_agg('2018-01-02')\n",
    "holiday = daily_agg('2020-01-01')\n",
    "good = daily_agg('2020-06-01')"
   ]
  },
  {
   "cell_type": "code",
   "execution_count": 17,
   "metadata": {},
   "outputs": [],
   "source": [
    "mon = daily_agg('2024-06-03')\n",
    "tue = daily_agg('2024-06-04')\n",
    "wed = daily_agg('2024-06-05')"
   ]
  },
  {
   "cell_type": "code",
   "execution_count": 18,
   "metadata": {},
   "outputs": [],
   "source": [
    "alljson = []\n",
    "for json in [mon, tue, wed]:\n",
    "    alljson.extend(json)"
   ]
  },
  {
   "cell_type": "code",
   "execution_count": 135,
   "metadata": {},
   "outputs": [],
   "source": []
  },
  {
   "cell_type": "code",
   "execution_count": 85,
   "metadata": {},
   "outputs": [],
   "source": [
    "alldates = get_trading_days()\n",
    "all = datelist_to_df(alldates)"
   ]
  },
  {
   "cell_type": "code",
   "execution_count": 147,
   "metadata": {},
   "outputs": [],
   "source": [
    "import sqlite3"
   ]
  },
  {
   "cell_type": "code",
   "execution_count": 162,
   "metadata": {},
   "outputs": [],
   "source": [
    "conn = sqlite3.connect('main.db')"
   ]
  },
  {
   "cell_type": "code",
   "execution_count": 163,
   "metadata": {},
   "outputs": [
    {
     "data": {
      "text/html": [
       "<div>\n",
       "<style scoped>\n",
       "    .dataframe tbody tr th:only-of-type {\n",
       "        vertical-align: middle;\n",
       "    }\n",
       "\n",
       "    .dataframe tbody tr th {\n",
       "        vertical-align: top;\n",
       "    }\n",
       "\n",
       "    .dataframe thead th {\n",
       "        text-align: right;\n",
       "    }\n",
       "</style>\n",
       "<table border=\"1\" class=\"dataframe\">\n",
       "  <thead>\n",
       "    <tr style=\"text-align: right;\">\n",
       "      <th></th>\n",
       "      <th>T</th>\n",
       "      <th>v</th>\n",
       "      <th>vw</th>\n",
       "      <th>o</th>\n",
       "      <th>c</th>\n",
       "      <th>h</th>\n",
       "      <th>l</th>\n",
       "      <th>t</th>\n",
       "      <th>n</th>\n",
       "    </tr>\n",
       "  </thead>\n",
       "  <tbody>\n",
       "    <tr>\n",
       "      <th>0</th>\n",
       "      <td>WB</td>\n",
       "      <td>981967.0</td>\n",
       "      <td>41.5953</td>\n",
       "      <td>41.47</td>\n",
       "      <td>41.61</td>\n",
       "      <td>41.93</td>\n",
       "      <td>41.02</td>\n",
       "      <td>1560801600000</td>\n",
       "      <td>11076.0</td>\n",
       "    </tr>\n",
       "    <tr>\n",
       "      <th>1</th>\n",
       "      <td>DLNGpB</td>\n",
       "      <td>14056.0</td>\n",
       "      <td>16.1327</td>\n",
       "      <td>16.51</td>\n",
       "      <td>16.00</td>\n",
       "      <td>16.51</td>\n",
       "      <td>15.90</td>\n",
       "      <td>1560801600000</td>\n",
       "      <td>102.0</td>\n",
       "    </tr>\n",
       "    <tr>\n",
       "      <th>2</th>\n",
       "      <td>WDC</td>\n",
       "      <td>4109647.0</td>\n",
       "      <td>36.3187</td>\n",
       "      <td>36.21</td>\n",
       "      <td>36.27</td>\n",
       "      <td>36.66</td>\n",
       "      <td>35.61</td>\n",
       "      <td>1560801600000</td>\n",
       "      <td>33259.0</td>\n",
       "    </tr>\n",
       "    <tr>\n",
       "      <th>3</th>\n",
       "      <td>GNTX</td>\n",
       "      <td>998643.0</td>\n",
       "      <td>23.4434</td>\n",
       "      <td>23.54</td>\n",
       "      <td>23.36</td>\n",
       "      <td>23.67</td>\n",
       "      <td>23.32</td>\n",
       "      <td>1560801600000</td>\n",
       "      <td>9896.0</td>\n",
       "    </tr>\n",
       "    <tr>\n",
       "      <th>4</th>\n",
       "      <td>BZQ</td>\n",
       "      <td>33935.5</td>\n",
       "      <td>104.5164</td>\n",
       "      <td>104.88</td>\n",
       "      <td>105.64</td>\n",
       "      <td>106.44</td>\n",
       "      <td>103.28</td>\n",
       "      <td>1560801600000</td>\n",
       "      <td>627.0</td>\n",
       "    </tr>\n",
       "  </tbody>\n",
       "</table>\n",
       "</div>"
      ],
      "text/plain": [
       "        T          v        vw       o       c       h       l              t  \\\n",
       "0      WB   981967.0   41.5953   41.47   41.61   41.93   41.02  1560801600000   \n",
       "1  DLNGpB    14056.0   16.1327   16.51   16.00   16.51   15.90  1560801600000   \n",
       "2     WDC  4109647.0   36.3187   36.21   36.27   36.66   35.61  1560801600000   \n",
       "3    GNTX   998643.0   23.4434   23.54   23.36   23.67   23.32  1560801600000   \n",
       "4     BZQ    33935.5  104.5164  104.88  105.64  106.44  103.28  1560801600000   \n",
       "\n",
       "         n  \n",
       "0  11076.0  \n",
       "1    102.0  \n",
       "2  33259.0  \n",
       "3   9896.0  \n",
       "4    627.0  "
      ]
     },
     "execution_count": 163,
     "metadata": {},
     "output_type": "execute_result"
    }
   ],
   "source": [
    "all.head()"
   ]
  },
  {
   "cell_type": "code",
   "execution_count": 180,
   "metadata": {},
   "outputs": [],
   "source": [
    "c = conn.cursor()"
   ]
  },
  {
   "cell_type": "code",
   "execution_count": null,
   "metadata": {},
   "outputs": [],
   "source": [
    "c.execute('''\n",
    "CREATE TABLE stonks (\n",
    "    ticker TEXT,\n",
    "    volume REAL,\n",
    "    vw REAL,\n",
    "    open REAL,\n",
    "    close REAL,\n",
    "    high REAL,\n",
    "    low REAL,\n",
    "    time INTEGER,\n",
    "    n INTEGER\n",
    ")\n",
    "''')"
   ]
  },
  {
   "cell_type": "code",
   "execution_count": 189,
   "metadata": {},
   "outputs": [],
   "source": [
    "info = c.execute('PRAGMA table_info(stonks)').fetchall()"
   ]
  },
  {
   "cell_type": "code",
   "execution_count": 190,
   "metadata": {},
   "outputs": [
    {
     "data": {
      "text/plain": [
       "[(0, 'ticker', 'TEXT', 0, None, 0),\n",
       " (1, 'volume', 'REAL', 0, None, 0),\n",
       " (2, 'vw', 'REAL', 0, None, 0),\n",
       " (3, 'open', 'REAL', 0, None, 0),\n",
       " (4, 'close', 'REAL', 0, None, 0),\n",
       " (5, 'high', 'REAL', 0, None, 0),\n",
       " (6, 'low', 'REAL', 0, None, 0),\n",
       " (7, 'time', 'INTEGER', 0, None, 0),\n",
       " (8, 'n', 'INTEGER', 0, None, 0)]"
      ]
     },
     "execution_count": 190,
     "metadata": {},
     "output_type": "execute_result"
    }
   ],
   "source": [
    "info"
   ]
  },
  {
   "cell_type": "code",
   "execution_count": 192,
   "metadata": {},
   "outputs": [
    {
     "data": {
      "text/plain": [
       "['ticker', 'volume', 'vw', 'open', 'close', 'high', 'low', 'time', 'n']"
      ]
     },
     "execution_count": 192,
     "metadata": {},
     "output_type": "execute_result"
    }
   ],
   "source": [
    "[i[1] for i in info]   "
   ]
  },
  {
   "cell_type": "code",
   "execution_count": 197,
   "metadata": {},
   "outputs": [
    {
     "data": {
      "text/plain": [
       "12678885"
      ]
     },
     "execution_count": 197,
     "metadata": {},
     "output_type": "execute_result"
    }
   ],
   "source": [
    "all.to_sql('stonks', conn, if_exists='append', index=False)"
   ]
  },
  {
   "cell_type": "code",
   "execution_count": null,
   "metadata": {},
   "outputs": [],
   "source": []
  }
 ],
 "metadata": {
  "kernelspec": {
   "display_name": "stonks",
   "language": "python",
   "name": "python3"
  },
  "language_info": {
   "codemirror_mode": {
    "name": "ipython",
    "version": 3
   },
   "file_extension": ".py",
   "mimetype": "text/x-python",
   "name": "python",
   "nbconvert_exporter": "python",
   "pygments_lexer": "ipython3",
   "version": "3.12.3"
  }
 },
 "nbformat": 4,
 "nbformat_minor": 2
}
