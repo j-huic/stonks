{
 "cells": [
  {
   "cell_type": "code",
   "execution_count": 6,
   "metadata": {},
   "outputs": [],
   "source": [
    "import requests\n",
    "import pandas as pd\n",
    "from datetime import datetime, timedelta\n",
    "import pandas_market_calendars as mcal\n",
    "from importlib import reload\n",
    "import sys\n",
    "import os\n",
    "import time\n",
    "from IPython.display import clear_output, display\n",
    "from tqdm import tqdm"
   ]
  },
  {
   "cell_type": "code",
   "execution_count": 7,
   "metadata": {},
   "outputs": [],
   "source": [
    "import functions; functions = reload(functions)\n",
    "from functions import *"
   ]
  },
  {
   "cell_type": "code",
   "execution_count": 8,
   "metadata": {},
   "outputs": [],
   "source": [
    "apikey = '3CenRhJBzNqh2_C_5S38pOyt3ozLvQDm'"
   ]
  },
  {
   "cell_type": "code",
   "execution_count": 4,
   "metadata": {},
   "outputs": [],
   "source": [
    "# todo\n",
    "# 1. test function for daily aggregates - none/errors/edge cases/before available\n",
    "# 2. design pipeline for many jsons to csv\n",
    "# 3. .db maybe?\n",
    "# 4. if not, make csv\n",
    "# 5. update/remake .py files to download and merge missing"
   ]
  },
  {
   "cell_type": "code",
   "execution_count": 15,
   "metadata": {},
   "outputs": [],
   "source": [
    "baseurl = 'v3/reference/splits'\n",
    "spliturl = 'https://api.polygon.io/v3/reference/splits?execution_date.lt=2024-06-01&apiKey=3CenRhJBzNqh2_C_5S38pOyt3ozLvQDm'"
   ]
  },
  {
   "cell_type": "code",
   "execution_count": 24,
   "metadata": {},
   "outputs": [],
   "source": [
    "def option_handler(apikey='3CenRhJBzNqh2_C_5S38pOyt3ozLvQDm', noqm=False, **kwargs):\n",
    "    kwargs['apiKey'] = apikey\n",
    "\n",
    "    if 'from_date' in kwargs:\n",
    "        kwargs['execution_date.gte'] = kwargs['from_date']\n",
    "        del kwargs['from_date']\n",
    "    if 'to_date' in kwargs:\n",
    "        kwargs['execution_date.lte'] = kwargs['to_date']\n",
    "        del kwargs['to_date']\n",
    "        \n",
    "    options = [f'{key}={value}' for key, value in kwargs.items()]\n",
    "    output = '?' + '&'.join(options) if not noqm else '&' + '&'.join(options)\n",
    "    \n",
    "    return output\n",
    "        \n",
    "def make_request(baseurl, output='json', apikey='3CenRhJBzNqh2_C_5S38pOyt3ozLvQDm', **kwargs):\n",
    "    if baseurl[:5] != 'https': baseurl = 'https://api.polygon.io/' + baseurl\n",
    "    \n",
    "    optionstring = option_handler(apikey, **kwargs) if 'cursor' not in baseurl else option_handler(apikey, noqm=True, **kwargs)\n",
    "    url = baseurl + optionstring\n",
    "    \n",
    "    if output == 'json':\n",
    "        return requests.get(url).json()\n",
    "    else:\n",
    "        return requests.get(url)"
   ]
  },
  {
   "cell_type": "code",
   "execution_count": 54,
   "metadata": {},
   "outputs": [],
   "source": [
    "def get_splits(output='json', **kwargs):\n",
    "    output = []\n",
    "    response = make_request('v3/reference/splits', **kwargs)\n",
    "    output.extend(response['results'])\n",
    "\n",
    "    while ('next_url' in response.keys()):\n",
    "        response = make_request(response['next_url'])\n",
    "        output.extend(response['results'])\n",
    "        \n",
    "    return pd.DataFrame(output)"
   ]
  },
  {
   "cell_type": "code",
   "execution_count": 57,
   "metadata": {},
   "outputs": [],
   "source": [
    "splits = get_splits(from_date='2024-05-01', to_date='2024-07-01')"
   ]
  },
  {
   "cell_type": "code",
   "execution_count": 59,
   "metadata": {},
   "outputs": [
    {
     "data": {
      "text/html": [
       "<div>\n",
       "<style scoped>\n",
       "    .dataframe tbody tr th:only-of-type {\n",
       "        vertical-align: middle;\n",
       "    }\n",
       "\n",
       "    .dataframe tbody tr th {\n",
       "        vertical-align: top;\n",
       "    }\n",
       "\n",
       "    .dataframe thead th {\n",
       "        text-align: right;\n",
       "    }\n",
       "</style>\n",
       "<table border=\"1\" class=\"dataframe\">\n",
       "  <thead>\n",
       "    <tr style=\"text-align: right;\">\n",
       "      <th></th>\n",
       "      <th>execution_date</th>\n",
       "      <th>split_from</th>\n",
       "      <th>split_to</th>\n",
       "      <th>ticker</th>\n",
       "    </tr>\n",
       "  </thead>\n",
       "  <tbody>\n",
       "    <tr>\n",
       "      <th>0</th>\n",
       "      <td>2024-07-01</td>\n",
       "      <td>8.0</td>\n",
       "      <td>1.0</td>\n",
       "      <td>YGMZ</td>\n",
       "    </tr>\n",
       "    <tr>\n",
       "      <th>1</th>\n",
       "      <td>2024-07-01</td>\n",
       "      <td>17.0</td>\n",
       "      <td>1.0</td>\n",
       "      <td>RELI</td>\n",
       "    </tr>\n",
       "    <tr>\n",
       "      <th>2</th>\n",
       "      <td>2024-07-01</td>\n",
       "      <td>5.0</td>\n",
       "      <td>1.0</td>\n",
       "      <td>KORE</td>\n",
       "    </tr>\n",
       "    <tr>\n",
       "      <th>3</th>\n",
       "      <td>2024-07-01</td>\n",
       "      <td>10.0</td>\n",
       "      <td>1.0</td>\n",
       "      <td>JDST</td>\n",
       "    </tr>\n",
       "    <tr>\n",
       "      <th>4</th>\n",
       "      <td>2024-07-01</td>\n",
       "      <td>12.0</td>\n",
       "      <td>1.0</td>\n",
       "      <td>DARE</td>\n",
       "    </tr>\n",
       "  </tbody>\n",
       "</table>\n",
       "</div>"
      ],
      "text/plain": [
       "  execution_date  split_from  split_to ticker\n",
       "0     2024-07-01         8.0       1.0   YGMZ\n",
       "1     2024-07-01        17.0       1.0   RELI\n",
       "2     2024-07-01         5.0       1.0   KORE\n",
       "3     2024-07-01        10.0       1.0   JDST\n",
       "4     2024-07-01        12.0       1.0   DARE"
      ]
     },
     "execution_count": 59,
     "metadata": {},
     "output_type": "execute_result"
    }
   ],
   "source": [
    "splits.head()"
   ]
  },
  {
   "cell_type": "code",
   "execution_count": 58,
   "metadata": {},
   "outputs": [
    {
     "data": {
      "text/plain": [
       "False"
      ]
     },
     "execution_count": 58,
     "metadata": {},
     "output_type": "execute_result"
    }
   ],
   "source": [
    "'WKHS' in splits.ticker"
   ]
  },
  {
   "cell_type": "code",
   "execution_count": null,
   "metadata": {},
   "outputs": [],
   "source": []
  },
  {
   "cell_type": "code",
   "execution_count": 44,
   "metadata": {},
   "outputs": [],
   "source": [
    "s = pd.DataFrame(make_request('v3/reference/splits', from_date='2024-01-01', to_date='2024-02-01', limit=100)['results'])"
   ]
  },
  {
   "cell_type": "code",
   "execution_count": 46,
   "metadata": {},
   "outputs": [
    {
     "data": {
      "text/plain": [
       "(89, 4)"
      ]
     },
     "execution_count": 46,
     "metadata": {},
     "output_type": "execute_result"
    }
   ],
   "source": [
    "s.shape"
   ]
  },
  {
   "cell_type": "code",
   "execution_count": 51,
   "metadata": {},
   "outputs": [],
   "source": [
    "output = []\n",
    "response = make_request('v3/reference/splits', limit=10, from_date='2024-01-01', to_date='2024-02-01')\n",
    "output.extend(response['results'])\n",
    "\n",
    "while ('next_url' in response.keys()):\n",
    "    response = make_request(response['next_url'], limit=10)\n",
    "    output.extend(response['results'])"
   ]
  },
  {
   "cell_type": "code",
   "execution_count": null,
   "metadata": {},
   "outputs": [],
   "source": [
    "has_next = True\n",
    "output = []\n",
    "while has_next:\n",
    "    response = make_request('v3/reference/splits', limit=1000)\n",
    "    output.extend(response['results'])\n",
    "    if 'next_url' in response.keys():\n",
    "    has_next = response['has_next']\n",
    "    cursor = response['cursor']\n",
    "\n",
    "    "
   ]
  },
  {
   "cell_type": "code",
   "execution_count": null,
   "metadata": {},
   "outputs": [
    {
     "data": {
      "text/plain": [
       "'?apiKey=3CenRhJBzNqh2_C_5S38pOyt3ozLvQDm&execution_date.gte=2024-03-28'"
      ]
     },
     "metadata": {},
     "output_type": "display_data"
    }
   ],
   "source": [
    "option_handler(from_date='2024-03-28')"
   ]
  },
  {
   "cell_type": "code",
   "execution_count": 37,
   "metadata": {},
   "outputs": [],
   "source": [
    "spls = make_request(baseurl, from_date='2024-01-01', limit=100)"
   ]
  },
  {
   "cell_type": "code",
   "execution_count": 36,
   "metadata": {},
   "outputs": [
    {
     "data": {
      "text/plain": [
       "dict_keys(['results', 'status', 'request_id'])"
      ]
     },
     "execution_count": 36,
     "metadata": {},
     "output_type": "execute_result"
    }
   ],
   "source": [
    "spls.keys()"
   ]
  },
  {
   "cell_type": "code",
   "execution_count": 38,
   "metadata": {},
   "outputs": [
    {
     "data": {
      "text/plain": [
       "dict_keys(['results', 'status', 'request_id', 'next_url'])"
      ]
     },
     "execution_count": 38,
     "metadata": {},
     "output_type": "execute_result"
    }
   ],
   "source": [
    "spls.keys()"
   ]
  },
  {
   "cell_type": "code",
   "execution_count": 30,
   "metadata": {},
   "outputs": [
    {
     "data": {
      "text/html": [
       "<div>\n",
       "<style scoped>\n",
       "    .dataframe tbody tr th:only-of-type {\n",
       "        vertical-align: middle;\n",
       "    }\n",
       "\n",
       "    .dataframe tbody tr th {\n",
       "        vertical-align: top;\n",
       "    }\n",
       "\n",
       "    .dataframe thead th {\n",
       "        text-align: right;\n",
       "    }\n",
       "</style>\n",
       "<table border=\"1\" class=\"dataframe\">\n",
       "  <thead>\n",
       "    <tr style=\"text-align: right;\">\n",
       "      <th></th>\n",
       "      <th>execution_date</th>\n",
       "      <th>split_from</th>\n",
       "      <th>split_to</th>\n",
       "      <th>ticker</th>\n",
       "    </tr>\n",
       "  </thead>\n",
       "  <tbody>\n",
       "    <tr>\n",
       "      <th>0</th>\n",
       "      <td>2024-10-09</td>\n",
       "      <td>1.0</td>\n",
       "      <td>5.0</td>\n",
       "      <td>SONY</td>\n",
       "    </tr>\n",
       "    <tr>\n",
       "      <th>1</th>\n",
       "      <td>2024-10-03</td>\n",
       "      <td>1.0</td>\n",
       "      <td>10.0</td>\n",
       "      <td>LRCX</td>\n",
       "    </tr>\n",
       "    <tr>\n",
       "      <th>2</th>\n",
       "      <td>2024-09-30</td>\n",
       "      <td>1.0</td>\n",
       "      <td>3.0</td>\n",
       "      <td>KDCLF</td>\n",
       "    </tr>\n",
       "    <tr>\n",
       "      <th>3</th>\n",
       "      <td>2024-09-16</td>\n",
       "      <td>2.0</td>\n",
       "      <td>1.0</td>\n",
       "      <td>HSMCX</td>\n",
       "    </tr>\n",
       "    <tr>\n",
       "      <th>4</th>\n",
       "      <td>2024-09-16</td>\n",
       "      <td>2.0</td>\n",
       "      <td>1.0</td>\n",
       "      <td>HSLCX</td>\n",
       "    </tr>\n",
       "    <tr>\n",
       "      <th>...</th>\n",
       "      <td>...</td>\n",
       "      <td>...</td>\n",
       "      <td>...</td>\n",
       "      <td>...</td>\n",
       "    </tr>\n",
       "    <tr>\n",
       "      <th>95</th>\n",
       "      <td>2024-06-13</td>\n",
       "      <td>20.0</td>\n",
       "      <td>1.0</td>\n",
       "      <td>NAAS</td>\n",
       "    </tr>\n",
       "    <tr>\n",
       "      <th>96</th>\n",
       "      <td>2024-06-13</td>\n",
       "      <td>5.0</td>\n",
       "      <td>1.0</td>\n",
       "      <td>MWFEX</td>\n",
       "    </tr>\n",
       "    <tr>\n",
       "      <th>97</th>\n",
       "      <td>2024-06-13</td>\n",
       "      <td>10.0</td>\n",
       "      <td>1.0</td>\n",
       "      <td>DDNFF</td>\n",
       "    </tr>\n",
       "    <tr>\n",
       "      <th>98</th>\n",
       "      <td>2024-06-12</td>\n",
       "      <td>15.0</td>\n",
       "      <td>1.0</td>\n",
       "      <td>PEGY</td>\n",
       "    </tr>\n",
       "    <tr>\n",
       "      <th>99</th>\n",
       "      <td>2024-06-12</td>\n",
       "      <td>500.0</td>\n",
       "      <td>1.0</td>\n",
       "      <td>KSSH</td>\n",
       "    </tr>\n",
       "  </tbody>\n",
       "</table>\n",
       "<p>100 rows × 4 columns</p>\n",
       "</div>"
      ],
      "text/plain": [
       "   execution_date  split_from  split_to ticker\n",
       "0      2024-10-09         1.0       5.0   SONY\n",
       "1      2024-10-03         1.0      10.0   LRCX\n",
       "2      2024-09-30         1.0       3.0  KDCLF\n",
       "3      2024-09-16         2.0       1.0  HSMCX\n",
       "4      2024-09-16         2.0       1.0  HSLCX\n",
       "..            ...         ...       ...    ...\n",
       "95     2024-06-13        20.0       1.0   NAAS\n",
       "96     2024-06-13         5.0       1.0  MWFEX\n",
       "97     2024-06-13        10.0       1.0  DDNFF\n",
       "98     2024-06-12        15.0       1.0   PEGY\n",
       "99     2024-06-12       500.0       1.0   KSSH\n",
       "\n",
       "[100 rows x 4 columns]"
      ]
     },
     "execution_count": 30,
     "metadata": {},
     "output_type": "execute_result"
    }
   ],
   "source": [
    "pd.DataFrame(spls['results'])"
   ]
  },
  {
   "cell_type": "code",
   "execution_count": 31,
   "metadata": {},
   "outputs": [
    {
     "data": {
      "text/plain": [
       "'https://api.polygon.io/v3/reference/splits?cursor=YXA9MjAyNC0wNi0xMiZhcz1DRUdIRiZleGVjdXRpb25fZGF0ZS5ndGU9MjAyNC0wMS0wMSZleGVjdXRpb25fZGF0ZS5sdGU9MjAyNC0wNi0xMiZsaW1pdD0xMDAmb3JkZXI9ZGVzYyZzb3J0PWV4ZWN1dGlvbl9kYXRl'"
      ]
     },
     "execution_count": 31,
     "metadata": {},
     "output_type": "execute_result"
    }
   ],
   "source": [
    "spls['next_url']"
   ]
  },
  {
   "cell_type": "code",
   "execution_count": null,
   "metadata": {},
   "outputs": [],
   "source": []
  },
  {
   "cell_type": "code",
   "execution_count": 149,
   "metadata": {},
   "outputs": [
    {
     "name": "stdout",
     "output_type": "stream",
     "text": [
      "?limit=2\n"
     ]
    }
   ],
   "source": [
    "a = get_splits(limit=2)"
   ]
  },
  {
   "cell_type": "code",
   "execution_count": 154,
   "metadata": {},
   "outputs": [
    {
     "data": {
      "text/plain": [
       "'https://api.polygon.io/v3/reference/splits?cursor=YXA9MjAyNC0wOS0zMCZhcz1LRENMRiZleGVjdXRpb25fZGF0ZS5sdGU9MjAyNC0wOS0zMCZsaW1pdD0yJm9yZGVyPWRlc2Mmc29ydD1leGVjdXRpb25fZGF0ZQ'"
      ]
     },
     "execution_count": 154,
     "metadata": {},
     "output_type": "execute_result"
    }
   ],
   "source": [
    "a['next_url']"
   ]
  },
  {
   "cell_type": "code",
   "execution_count": 179,
   "metadata": {},
   "outputs": [],
   "source": [
    "a = make_request('v3/reference/splits', limit=2, ticker='GOOG')"
   ]
  },
  {
   "cell_type": "code",
   "execution_count": 183,
   "metadata": {},
   "outputs": [
    {
     "data": {
      "text/plain": [
       "{'results': [{'execution_date': '2014-03-27',\n",
       "   'split_from': 1000,\n",
       "   'split_to': 2002,\n",
       "   'ticker': 'GOOG'}],\n",
       " 'status': 'OK',\n",
       " 'request_id': '64ced4ed718ae854c8de36a36ead6779'}"
      ]
     },
     "execution_count": 183,
     "metadata": {},
     "output_type": "execute_result"
    }
   ],
   "source": [
    "requests.get(a['next_url'] + '&apiKey=3CenRhJBzNqh2_C_5S38pOyt3ozLvQDm').json()"
   ]
  },
  {
   "cell_type": "code",
   "execution_count": 201,
   "metadata": {},
   "outputs": [
    {
     "name": "stdout",
     "output_type": "stream",
     "text": [
      "bla\n",
      "&apiKey=3CenRhJBzNqh2_C_5S38pOyt3ozLvQDm\n"
     ]
    },
    {
     "data": {
      "text/plain": [
       "{'results': [{'execution_date': '2014-03-27',\n",
       "   'split_from': 1000,\n",
       "   'split_to': 2002,\n",
       "   'ticker': 'GOOG'}],\n",
       " 'status': 'OK',\n",
       " 'request_id': '23604ecd99015c27beffc0933f2e2001'}"
      ]
     },
     "execution_count": 201,
     "metadata": {},
     "output_type": "execute_result"
    }
   ],
   "source": [
    "make_request(a['next_url'])\n"
   ]
  },
  {
   "cell_type": "code",
   "execution_count": 20,
   "metadata": {},
   "outputs": [],
   "source": [
    "req = make_request('v3/reference/splits', output='')"
   ]
  },
  {
   "cell_type": "code",
   "execution_count": 22,
   "metadata": {},
   "outputs": [],
   "source": [
    "req = req.json()"
   ]
  },
  {
   "cell_type": "code",
   "execution_count": 27,
   "metadata": {},
   "outputs": [
    {
     "data": {
      "text/plain": [
       "{'results': [{'execution_date': '2024-07-15',\n",
       "   'split_from': 1,\n",
       "   'split_to': 5,\n",
       "   'ticker': 'USLM'},\n",
       "  {'execution_date': '2024-07-15',\n",
       "   'split_from': 1,\n",
       "   'split_to': 10,\n",
       "   'ticker': 'AVGO'},\n",
       "  {'execution_date': '2024-07-10',\n",
       "   'split_from': 1,\n",
       "   'split_to': 2,\n",
       "   'ticker': 'MITSY'},\n",
       "  {'execution_date': '2024-07-09',\n",
       "   'split_from': 1,\n",
       "   'split_to': 2,\n",
       "   'ticker': 'WSM'},\n",
       "  {'execution_date': '2024-07-09',\n",
       "   'split_from': 1,\n",
       "   'split_to': 4,\n",
       "   'ticker': 'ASCCY'},\n",
       "  {'execution_date': '2024-07-03',\n",
       "   'split_from': 8,\n",
       "   'split_to': 1,\n",
       "   'ticker': 'ASLN'},\n",
       "  {'execution_date': '2024-07-01',\n",
       "   'split_from': 10,\n",
       "   'split_to': 1,\n",
       "   'ticker': 'JDST'},\n",
       "  {'execution_date': '2024-06-28',\n",
       "   'split_from': 20,\n",
       "   'split_to': 1,\n",
       "   'ticker': 'YYAI'},\n",
       "  {'execution_date': '2024-06-28',\n",
       "   'split_from': 1,\n",
       "   'split_to': 2,\n",
       "   'ticker': 'TMRNF'},\n",
       "  {'execution_date': '2024-06-28',\n",
       "   'split_from': 1,\n",
       "   'split_to': 5,\n",
       "   'ticker': 'EBCOF'}],\n",
       " 'status': 'OK',\n",
       " 'request_id': '265adcfa686a7c4e223f98f49d2f60af',\n",
       " 'next_url': 'https://api.polygon.io/v3/reference/splits?cursor=YXA9MjAyNC0wNi0yOCZhcz1BTE5LRiZleGVjdXRpb25fZGF0ZS5sdGU9MjAyNC0wNi0yOCZsaW1pdD0xMCZvcmRlcj1kZXNjJnNvcnQ9ZXhlY3V0aW9uX2RhdGU'}"
      ]
     },
     "execution_count": 27,
     "metadata": {},
     "output_type": "execute_result"
    }
   ],
   "source": [
    "make_request(req['next_url'])"
   ]
  },
  {
   "cell_type": "code",
   "execution_count": 23,
   "metadata": {},
   "outputs": [
    {
     "data": {
      "text/plain": [
       "'https://api.polygon.io/v3/reference/splits?cursor=YXA9MjAyNC0wNy0xNSZhcz1VU0xNJmV4ZWN1dGlvbl9kYXRlLmx0ZT0yMDI0LTA3LTE1JmxpbWl0PTEwJm9yZGVyPWRlc2Mmc29ydD1leGVjdXRpb25fZGF0ZQ'"
      ]
     },
     "execution_count": 23,
     "metadata": {},
     "output_type": "execute_result"
    }
   ],
   "source": [
    "req['next_url']"
   ]
  },
  {
   "cell_type": "code",
   "execution_count": 11,
   "metadata": {},
   "outputs": [],
   "source": [
    "splits = pd.DataFrame(make_request('v3/reference/splits')['results'])"
   ]
  },
  {
   "cell_type": "code",
   "execution_count": 15,
   "metadata": {},
   "outputs": [
    {
     "data": {
      "text/plain": [
       "(10, 4)"
      ]
     },
     "execution_count": 15,
     "metadata": {},
     "output_type": "execute_result"
    }
   ],
   "source": [
    "splits.shape"
   ]
  },
  {
   "cell_type": "code",
   "execution_count": 14,
   "metadata": {},
   "outputs": [
    {
     "data": {
      "text/plain": [
       "'2024-08-07'"
      ]
     },
     "execution_count": 14,
     "metadata": {},
     "output_type": "execute_result"
    }
   ],
   "source": [
    "splits.execution_date.min()"
   ]
  },
  {
   "cell_type": "code",
   "execution_count": 5,
   "metadata": {},
   "outputs": [],
   "source": [
    "date = '2020-01-01'\n",
    "url = f'https://api.polygon.io/v2/aggs/grouped/locale/us/market/stocks/{date}?apiKey={apikey}'"
   ]
  },
  {
   "cell_type": "code",
   "execution_count": 6,
   "metadata": {},
   "outputs": [],
   "source": [
    "response = requests.get(url)"
   ]
  },
  {
   "cell_type": "code",
   "execution_count": 7,
   "metadata": {},
   "outputs": [
    {
     "data": {
      "text/plain": [
       "{'queryCount': 0,\n",
       " 'resultsCount': 0,\n",
       " 'adjusted': True,\n",
       " 'status': 'OK',\n",
       " 'request_id': 'a426fcea4aa5004a97f7d0e49adcb888'}"
      ]
     },
     "execution_count": 7,
     "metadata": {},
     "output_type": "execute_result"
    }
   ],
   "source": [
    "response.json()"
   ]
  },
  {
   "cell_type": "code",
   "execution_count": 50,
   "metadata": {},
   "outputs": [
    {
     "name": "stdout",
     "output_type": "stream",
     "text": [
      "Attempted to request data past historical entitlements. Please upgrade your plan at https://polygon.io/pricing\n",
      "No data available for 2020-01-01\n"
     ]
    }
   ],
   "source": [
    "unauth = daily_agg('2018-01-02')\n",
    "holiday = daily_agg('2020-01-01')\n",
    "good = daily_agg('2020-06-01')"
   ]
  },
  {
   "cell_type": "code",
   "execution_count": 17,
   "metadata": {},
   "outputs": [],
   "source": [
    "mon = daily_agg('2024-06-03')\n",
    "tue = daily_agg('2024-06-04')\n",
    "wed = daily_agg('2024-06-05')"
   ]
  },
  {
   "cell_type": "code",
   "execution_count": 18,
   "metadata": {},
   "outputs": [],
   "source": [
    "alljson = []\n",
    "for json in [mon, tue, wed]:\n",
    "    alljson.extend(json)"
   ]
  },
  {
   "cell_type": "code",
   "execution_count": 135,
   "metadata": {},
   "outputs": [],
   "source": []
  },
  {
   "cell_type": "code",
   "execution_count": 85,
   "metadata": {},
   "outputs": [],
   "source": [
    "alldates = get_trading_days()\n",
    "all = datelist_to_df(alldates)"
   ]
  },
  {
   "cell_type": "code",
   "execution_count": 147,
   "metadata": {},
   "outputs": [],
   "source": [
    "import sqlite3"
   ]
  },
  {
   "cell_type": "code",
   "execution_count": 162,
   "metadata": {},
   "outputs": [],
   "source": [
    "conn = sqlite3.connect('main.db')"
   ]
  },
  {
   "cell_type": "code",
   "execution_count": 163,
   "metadata": {},
   "outputs": [
    {
     "data": {
      "text/html": [
       "<div>\n",
       "<style scoped>\n",
       "    .dataframe tbody tr th:only-of-type {\n",
       "        vertical-align: middle;\n",
       "    }\n",
       "\n",
       "    .dataframe tbody tr th {\n",
       "        vertical-align: top;\n",
       "    }\n",
       "\n",
       "    .dataframe thead th {\n",
       "        text-align: right;\n",
       "    }\n",
       "</style>\n",
       "<table border=\"1\" class=\"dataframe\">\n",
       "  <thead>\n",
       "    <tr style=\"text-align: right;\">\n",
       "      <th></th>\n",
       "      <th>T</th>\n",
       "      <th>v</th>\n",
       "      <th>vw</th>\n",
       "      <th>o</th>\n",
       "      <th>c</th>\n",
       "      <th>h</th>\n",
       "      <th>l</th>\n",
       "      <th>t</th>\n",
       "      <th>n</th>\n",
       "    </tr>\n",
       "  </thead>\n",
       "  <tbody>\n",
       "    <tr>\n",
       "      <th>0</th>\n",
       "      <td>WB</td>\n",
       "      <td>981967.0</td>\n",
       "      <td>41.5953</td>\n",
       "      <td>41.47</td>\n",
       "      <td>41.61</td>\n",
       "      <td>41.93</td>\n",
       "      <td>41.02</td>\n",
       "      <td>1560801600000</td>\n",
       "      <td>11076.0</td>\n",
       "    </tr>\n",
       "    <tr>\n",
       "      <th>1</th>\n",
       "      <td>DLNGpB</td>\n",
       "      <td>14056.0</td>\n",
       "      <td>16.1327</td>\n",
       "      <td>16.51</td>\n",
       "      <td>16.00</td>\n",
       "      <td>16.51</td>\n",
       "      <td>15.90</td>\n",
       "      <td>1560801600000</td>\n",
       "      <td>102.0</td>\n",
       "    </tr>\n",
       "    <tr>\n",
       "      <th>2</th>\n",
       "      <td>WDC</td>\n",
       "      <td>4109647.0</td>\n",
       "      <td>36.3187</td>\n",
       "      <td>36.21</td>\n",
       "      <td>36.27</td>\n",
       "      <td>36.66</td>\n",
       "      <td>35.61</td>\n",
       "      <td>1560801600000</td>\n",
       "      <td>33259.0</td>\n",
       "    </tr>\n",
       "    <tr>\n",
       "      <th>3</th>\n",
       "      <td>GNTX</td>\n",
       "      <td>998643.0</td>\n",
       "      <td>23.4434</td>\n",
       "      <td>23.54</td>\n",
       "      <td>23.36</td>\n",
       "      <td>23.67</td>\n",
       "      <td>23.32</td>\n",
       "      <td>1560801600000</td>\n",
       "      <td>9896.0</td>\n",
       "    </tr>\n",
       "    <tr>\n",
       "      <th>4</th>\n",
       "      <td>BZQ</td>\n",
       "      <td>33935.5</td>\n",
       "      <td>104.5164</td>\n",
       "      <td>104.88</td>\n",
       "      <td>105.64</td>\n",
       "      <td>106.44</td>\n",
       "      <td>103.28</td>\n",
       "      <td>1560801600000</td>\n",
       "      <td>627.0</td>\n",
       "    </tr>\n",
       "  </tbody>\n",
       "</table>\n",
       "</div>"
      ],
      "text/plain": [
       "        T          v        vw       o       c       h       l              t  \\\n",
       "0      WB   981967.0   41.5953   41.47   41.61   41.93   41.02  1560801600000   \n",
       "1  DLNGpB    14056.0   16.1327   16.51   16.00   16.51   15.90  1560801600000   \n",
       "2     WDC  4109647.0   36.3187   36.21   36.27   36.66   35.61  1560801600000   \n",
       "3    GNTX   998643.0   23.4434   23.54   23.36   23.67   23.32  1560801600000   \n",
       "4     BZQ    33935.5  104.5164  104.88  105.64  106.44  103.28  1560801600000   \n",
       "\n",
       "         n  \n",
       "0  11076.0  \n",
       "1    102.0  \n",
       "2  33259.0  \n",
       "3   9896.0  \n",
       "4    627.0  "
      ]
     },
     "execution_count": 163,
     "metadata": {},
     "output_type": "execute_result"
    }
   ],
   "source": [
    "all.head()"
   ]
  },
  {
   "cell_type": "code",
   "execution_count": 180,
   "metadata": {},
   "outputs": [],
   "source": [
    "c = conn.cursor()"
   ]
  },
  {
   "cell_type": "code",
   "execution_count": null,
   "metadata": {},
   "outputs": [],
   "source": [
    "c.execute('''\n",
    "CREATE TABLE stonks (\n",
    "    ticker TEXT,\n",
    "    volume REAL,\n",
    "    vw REAL,\n",
    "    open REAL,\n",
    "    close REAL,\n",
    "    high REAL,\n",
    "    low REAL,\n",
    "    time INTEGER,\n",
    "    n INTEGER\n",
    ")\n",
    "''')"
   ]
  },
  {
   "cell_type": "code",
   "execution_count": 189,
   "metadata": {},
   "outputs": [],
   "source": [
    "info = c.execute('PRAGMA table_info(stonks)').fetchall()"
   ]
  },
  {
   "cell_type": "code",
   "execution_count": 190,
   "metadata": {},
   "outputs": [
    {
     "data": {
      "text/plain": [
       "[(0, 'ticker', 'TEXT', 0, None, 0),\n",
       " (1, 'volume', 'REAL', 0, None, 0),\n",
       " (2, 'vw', 'REAL', 0, None, 0),\n",
       " (3, 'open', 'REAL', 0, None, 0),\n",
       " (4, 'close', 'REAL', 0, None, 0),\n",
       " (5, 'high', 'REAL', 0, None, 0),\n",
       " (6, 'low', 'REAL', 0, None, 0),\n",
       " (7, 'time', 'INTEGER', 0, None, 0),\n",
       " (8, 'n', 'INTEGER', 0, None, 0)]"
      ]
     },
     "execution_count": 190,
     "metadata": {},
     "output_type": "execute_result"
    }
   ],
   "source": [
    "info"
   ]
  },
  {
   "cell_type": "code",
   "execution_count": 192,
   "metadata": {},
   "outputs": [
    {
     "data": {
      "text/plain": [
       "['ticker', 'volume', 'vw', 'open', 'close', 'high', 'low', 'time', 'n']"
      ]
     },
     "execution_count": 192,
     "metadata": {},
     "output_type": "execute_result"
    }
   ],
   "source": [
    "[i[1] for i in info]   "
   ]
  },
  {
   "cell_type": "code",
   "execution_count": 197,
   "metadata": {},
   "outputs": [
    {
     "data": {
      "text/plain": [
       "12678885"
      ]
     },
     "execution_count": 197,
     "metadata": {},
     "output_type": "execute_result"
    }
   ],
   "source": [
    "all.to_sql('stonks', conn, if_exists='append', index=False)"
   ]
  },
  {
   "cell_type": "code",
   "execution_count": null,
   "metadata": {},
   "outputs": [],
   "source": []
  }
 ],
 "metadata": {
  "kernelspec": {
   "display_name": "stonks",
   "language": "python",
   "name": "python3"
  },
  "language_info": {
   "codemirror_mode": {
    "name": "ipython",
    "version": 3
   },
   "file_extension": ".py",
   "mimetype": "text/x-python",
   "name": "python",
   "nbconvert_exporter": "python",
   "pygments_lexer": "ipython3",
   "version": "3.12.3"
  }
 },
 "nbformat": 4,
 "nbformat_minor": 2
}
