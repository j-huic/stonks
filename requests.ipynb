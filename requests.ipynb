{
 "cells": [
  {
   "cell_type": "code",
   "execution_count": 1,
   "metadata": {},
   "outputs": [],
   "source": [
    "import requests\n",
    "import pandas as pd\n",
    "from datetime import datetime, timedelta\n",
    "import pandas_market_calendars as mcal\n",
    "from importlib import reload\n",
    "import sys\n",
    "import os\n",
    "import time\n",
    "from IPython.display import clear_output, display\n",
    "from tqdm import tqdm"
   ]
  },
  {
   "cell_type": "code",
   "execution_count": 2,
   "metadata": {},
   "outputs": [],
   "source": [
    "import functions; functions = reload(functions)\n",
    "from functions import *"
   ]
  },
  {
   "cell_type": "code",
   "execution_count": 3,
   "metadata": {},
   "outputs": [],
   "source": [
    "apikey = '3CenRhJBzNqh2_C_5S38pOyt3ozLvQDm'"
   ]
  },
  {
   "cell_type": "code",
   "execution_count": 4,
   "metadata": {},
   "outputs": [],
   "source": [
    "# todo\n",
    "# 1. test function for daily aggregates - none/errors/edge cases/before available\n",
    "# 2. design pipeline for many jsons to csv\n",
    "# 3. .db maybe?\n",
    "# 4. if not, make csv\n",
    "# 5. update/remake .py files to download and merge missing"
   ]
  },
  {
   "cell_type": "code",
   "execution_count": 68,
   "metadata": {},
   "outputs": [],
   "source": [
    "spliturl = 'https://api.polygon.io/v3/reference/splits?execution_date.lt=2024-06-01&apiKey=3CenRhJBzNqh2_C_5S38pOyt3ozLvQDm'"
   ]
  },
  {
   "cell_type": "code",
   "execution_count": 91,
   "metadata": {},
   "outputs": [
    {
     "data": {
      "text/plain": [
       "{'limit': 5,\n",
       " 'ticker': '+',\n",
       " 'execution_date.gte': 'from',\n",
       " 'execution_date.lte': 'to'}"
      ]
     },
     "execution_count": 91,
     "metadata": {},
     "output_type": "execute_result"
    }
   ],
   "source": [
    "args"
   ]
  },
  {
   "cell_type": "code",
   "execution_count": 177,
   "metadata": {},
   "outputs": [],
   "source": [
    "def option_handler(apikey='3CenRhJBzNqh2_C_5S38pOyt3ozLvQDm', noqm=False, **kwargs):\n",
    "    kwargs['apiKey'] = apikey\n",
    "\n",
    "    if 'from_date' in kwargs:\n",
    "        kwargs['execution_date.gte'] = kwargs['from_date']\n",
    "        del kwargs['from_date']\n",
    "    if 'to_date' in kwargs:\n",
    "        kwargs['execution_date.lte'] = kwargs['to_date']\n",
    "        del kwargs['to_date']\n",
    "        \n",
    "    options = [f'{key}={value}' for key, value in kwargs.items()]\n",
    "    \n",
    "    output = '?' + '&'.join(options) if not noqm else '&'.join(options)\n",
    "    \n",
    "    return output"
   ]
  },
  {
   "cell_type": "code",
   "execution_count": 143,
   "metadata": {},
   "outputs": [
    {
     "name": "stdout",
     "output_type": "stream",
     "text": [
      "?execution_date.gte=2024-06-28&execution_date.lte=2024-06-28\n"
     ]
    },
    {
     "data": {
      "text/plain": [
       "{'results': [{'execution_date': '2024-06-28',\n",
       "   'split_from': 20,\n",
       "   'split_to': 1,\n",
       "   'ticker': 'YYAI'}],\n",
       " 'status': 'OK',\n",
       " 'request_id': '69c8c2ece7973ac9d6defa55f6ae7fa0'}"
      ]
     },
     "execution_count": 143,
     "metadata": {},
     "output_type": "execute_result"
    }
   ],
   "source": [
    "get_splits(from_date='2024-06-28', to_date='2024-06-28')"
   ]
  },
  {
   "cell_type": "code",
   "execution_count": 149,
   "metadata": {},
   "outputs": [
    {
     "name": "stdout",
     "output_type": "stream",
     "text": [
      "?limit=2\n"
     ]
    }
   ],
   "source": [
    "a = get_splits(limit=2)"
   ]
  },
  {
   "cell_type": "code",
   "execution_count": 154,
   "metadata": {},
   "outputs": [
    {
     "data": {
      "text/plain": [
       "'https://api.polygon.io/v3/reference/splits?cursor=YXA9MjAyNC0wOS0zMCZhcz1LRENMRiZleGVjdXRpb25fZGF0ZS5sdGU9MjAyNC0wOS0zMCZsaW1pdD0yJm9yZGVyPWRlc2Mmc29ydD1leGVjdXRpb25fZGF0ZQ'"
      ]
     },
     "execution_count": 154,
     "metadata": {},
     "output_type": "execute_result"
    }
   ],
   "source": [
    "a['next_url']"
   ]
  },
  {
   "cell_type": "code",
   "execution_count": 135,
   "metadata": {},
   "outputs": [],
   "source": [
    "def get_splits(output='json', **kwargs):\n",
    "    if 'limit' in kwargs.keys() and kwargs['limit'] > 1000:\n",
    "        remaining = kwargs['limit']\n",
    "        full_outputs = limit // 1000\n",
    "        remainder = limit % 1000\n",
    "        output = []\n",
    "        \n",
    "        first = make_request('v3/reference/splits' + option_handler(**kwargs), output='json')\n",
    "        output.e\n",
    "        \n",
    "        \n",
    "    return make_request('v3/reference/splits' + option_handler(**kwargs), output)\n",
    "        \n",
    "    \n",
    "\n"
   ]
  },
  {
   "cell_type": "code",
   "execution_count": 179,
   "metadata": {},
   "outputs": [],
   "source": [
    "a = make_request('v3/reference/splits', limit=2, ticker='GOOG')"
   ]
  },
  {
   "cell_type": "code",
   "execution_count": 180,
   "metadata": {},
   "outputs": [
    {
     "data": {
      "text/plain": [
       "{'status': 'ERROR',\n",
       " 'request_id': 'd3994874a4b6f1da93c23ae054c04033',\n",
       " 'error': 'Unknown API Key'}"
      ]
     },
     "execution_count": 180,
     "metadata": {},
     "output_type": "execute_result"
    }
   ],
   "source": [
    "make_request(a['next_url']+'&apiKey=3CenRhJBzNqh2_C_5S38pOyt3ozLvQDm')\n"
   ]
  },
  {
   "cell_type": "code",
   "execution_count": 168,
   "metadata": {},
   "outputs": [],
   "source": [
    "def make_request(baseurl, output='json', apikey='3CenRhJBzNqh2_C_5S38pOyt3ozLvQDm', **kwargs):\n",
    "    if baseurl[:5] != 'https': baseurl = 'https://api.polygon.io/' + baseurl\n",
    "    \n",
    "    optionstring = option_handler(apikey, **kwargs)\n",
    "    url = baseurl + optionstring\n",
    "\n",
    "    if output == 'json':\n",
    "        return requests.get(url).json()\n",
    "    else:\n",
    "        return requests.get(url)"
   ]
  },
  {
   "cell_type": "code",
   "execution_count": 20,
   "metadata": {},
   "outputs": [],
   "source": [
    "req = make_request('v3/reference/splits', output='')"
   ]
  },
  {
   "cell_type": "code",
   "execution_count": 22,
   "metadata": {},
   "outputs": [],
   "source": [
    "req = req.json()"
   ]
  },
  {
   "cell_type": "code",
   "execution_count": 27,
   "metadata": {},
   "outputs": [
    {
     "data": {
      "text/plain": [
       "{'results': [{'execution_date': '2024-07-15',\n",
       "   'split_from': 1,\n",
       "   'split_to': 5,\n",
       "   'ticker': 'USLM'},\n",
       "  {'execution_date': '2024-07-15',\n",
       "   'split_from': 1,\n",
       "   'split_to': 10,\n",
       "   'ticker': 'AVGO'},\n",
       "  {'execution_date': '2024-07-10',\n",
       "   'split_from': 1,\n",
       "   'split_to': 2,\n",
       "   'ticker': 'MITSY'},\n",
       "  {'execution_date': '2024-07-09',\n",
       "   'split_from': 1,\n",
       "   'split_to': 2,\n",
       "   'ticker': 'WSM'},\n",
       "  {'execution_date': '2024-07-09',\n",
       "   'split_from': 1,\n",
       "   'split_to': 4,\n",
       "   'ticker': 'ASCCY'},\n",
       "  {'execution_date': '2024-07-03',\n",
       "   'split_from': 8,\n",
       "   'split_to': 1,\n",
       "   'ticker': 'ASLN'},\n",
       "  {'execution_date': '2024-07-01',\n",
       "   'split_from': 10,\n",
       "   'split_to': 1,\n",
       "   'ticker': 'JDST'},\n",
       "  {'execution_date': '2024-06-28',\n",
       "   'split_from': 20,\n",
       "   'split_to': 1,\n",
       "   'ticker': 'YYAI'},\n",
       "  {'execution_date': '2024-06-28',\n",
       "   'split_from': 1,\n",
       "   'split_to': 2,\n",
       "   'ticker': 'TMRNF'},\n",
       "  {'execution_date': '2024-06-28',\n",
       "   'split_from': 1,\n",
       "   'split_to': 5,\n",
       "   'ticker': 'EBCOF'}],\n",
       " 'status': 'OK',\n",
       " 'request_id': '265adcfa686a7c4e223f98f49d2f60af',\n",
       " 'next_url': 'https://api.polygon.io/v3/reference/splits?cursor=YXA9MjAyNC0wNi0yOCZhcz1BTE5LRiZleGVjdXRpb25fZGF0ZS5sdGU9MjAyNC0wNi0yOCZsaW1pdD0xMCZvcmRlcj1kZXNjJnNvcnQ9ZXhlY3V0aW9uX2RhdGU'}"
      ]
     },
     "execution_count": 27,
     "metadata": {},
     "output_type": "execute_result"
    }
   ],
   "source": [
    "make_request(req['next_url'])"
   ]
  },
  {
   "cell_type": "code",
   "execution_count": 23,
   "metadata": {},
   "outputs": [
    {
     "data": {
      "text/plain": [
       "'https://api.polygon.io/v3/reference/splits?cursor=YXA9MjAyNC0wNy0xNSZhcz1VU0xNJmV4ZWN1dGlvbl9kYXRlLmx0ZT0yMDI0LTA3LTE1JmxpbWl0PTEwJm9yZGVyPWRlc2Mmc29ydD1leGVjdXRpb25fZGF0ZQ'"
      ]
     },
     "execution_count": 23,
     "metadata": {},
     "output_type": "execute_result"
    }
   ],
   "source": [
    "req['next_url']"
   ]
  },
  {
   "cell_type": "code",
   "execution_count": 11,
   "metadata": {},
   "outputs": [],
   "source": [
    "splits = pd.DataFrame(make_request('v3/reference/splits')['results'])"
   ]
  },
  {
   "cell_type": "code",
   "execution_count": 15,
   "metadata": {},
   "outputs": [
    {
     "data": {
      "text/plain": [
       "(10, 4)"
      ]
     },
     "execution_count": 15,
     "metadata": {},
     "output_type": "execute_result"
    }
   ],
   "source": [
    "splits.shape"
   ]
  },
  {
   "cell_type": "code",
   "execution_count": 14,
   "metadata": {},
   "outputs": [
    {
     "data": {
      "text/plain": [
       "'2024-08-07'"
      ]
     },
     "execution_count": 14,
     "metadata": {},
     "output_type": "execute_result"
    }
   ],
   "source": [
    "splits.execution_date.min()"
   ]
  },
  {
   "cell_type": "code",
   "execution_count": 5,
   "metadata": {},
   "outputs": [],
   "source": [
    "date = '2020-01-01'\n",
    "url = f'https://api.polygon.io/v2/aggs/grouped/locale/us/market/stocks/{date}?apiKey={apikey}'"
   ]
  },
  {
   "cell_type": "code",
   "execution_count": 6,
   "metadata": {},
   "outputs": [],
   "source": [
    "response = requests.get(url)"
   ]
  },
  {
   "cell_type": "code",
   "execution_count": 7,
   "metadata": {},
   "outputs": [
    {
     "data": {
      "text/plain": [
       "{'queryCount': 0,\n",
       " 'resultsCount': 0,\n",
       " 'adjusted': True,\n",
       " 'status': 'OK',\n",
       " 'request_id': 'a426fcea4aa5004a97f7d0e49adcb888'}"
      ]
     },
     "execution_count": 7,
     "metadata": {},
     "output_type": "execute_result"
    }
   ],
   "source": [
    "response.json()"
   ]
  },
  {
   "cell_type": "code",
   "execution_count": 50,
   "metadata": {},
   "outputs": [
    {
     "name": "stdout",
     "output_type": "stream",
     "text": [
      "Attempted to request data past historical entitlements. Please upgrade your plan at https://polygon.io/pricing\n",
      "No data available for 2020-01-01\n"
     ]
    }
   ],
   "source": [
    "unauth = daily_agg('2018-01-02')\n",
    "holiday = daily_agg('2020-01-01')\n",
    "good = daily_agg('2020-06-01')"
   ]
  },
  {
   "cell_type": "code",
   "execution_count": 17,
   "metadata": {},
   "outputs": [],
   "source": [
    "mon = daily_agg('2024-06-03')\n",
    "tue = daily_agg('2024-06-04')\n",
    "wed = daily_agg('2024-06-05')"
   ]
  },
  {
   "cell_type": "code",
   "execution_count": 18,
   "metadata": {},
   "outputs": [],
   "source": [
    "alljson = []\n",
    "for json in [mon, tue, wed]:\n",
    "    alljson.extend(json)"
   ]
  },
  {
   "cell_type": "code",
   "execution_count": 135,
   "metadata": {},
   "outputs": [],
   "source": []
  },
  {
   "cell_type": "code",
   "execution_count": 85,
   "metadata": {},
   "outputs": [],
   "source": [
    "alldates = get_trading_days()\n",
    "all = datelist_to_df(alldates)"
   ]
  },
  {
   "cell_type": "code",
   "execution_count": 147,
   "metadata": {},
   "outputs": [],
   "source": [
    "import sqlite3"
   ]
  },
  {
   "cell_type": "code",
   "execution_count": 162,
   "metadata": {},
   "outputs": [],
   "source": [
    "conn = sqlite3.connect('main.db')"
   ]
  },
  {
   "cell_type": "code",
   "execution_count": 163,
   "metadata": {},
   "outputs": [
    {
     "data": {
      "text/html": [
       "<div>\n",
       "<style scoped>\n",
       "    .dataframe tbody tr th:only-of-type {\n",
       "        vertical-align: middle;\n",
       "    }\n",
       "\n",
       "    .dataframe tbody tr th {\n",
       "        vertical-align: top;\n",
       "    }\n",
       "\n",
       "    .dataframe thead th {\n",
       "        text-align: right;\n",
       "    }\n",
       "</style>\n",
       "<table border=\"1\" class=\"dataframe\">\n",
       "  <thead>\n",
       "    <tr style=\"text-align: right;\">\n",
       "      <th></th>\n",
       "      <th>T</th>\n",
       "      <th>v</th>\n",
       "      <th>vw</th>\n",
       "      <th>o</th>\n",
       "      <th>c</th>\n",
       "      <th>h</th>\n",
       "      <th>l</th>\n",
       "      <th>t</th>\n",
       "      <th>n</th>\n",
       "    </tr>\n",
       "  </thead>\n",
       "  <tbody>\n",
       "    <tr>\n",
       "      <th>0</th>\n",
       "      <td>WB</td>\n",
       "      <td>981967.0</td>\n",
       "      <td>41.5953</td>\n",
       "      <td>41.47</td>\n",
       "      <td>41.61</td>\n",
       "      <td>41.93</td>\n",
       "      <td>41.02</td>\n",
       "      <td>1560801600000</td>\n",
       "      <td>11076.0</td>\n",
       "    </tr>\n",
       "    <tr>\n",
       "      <th>1</th>\n",
       "      <td>DLNGpB</td>\n",
       "      <td>14056.0</td>\n",
       "      <td>16.1327</td>\n",
       "      <td>16.51</td>\n",
       "      <td>16.00</td>\n",
       "      <td>16.51</td>\n",
       "      <td>15.90</td>\n",
       "      <td>1560801600000</td>\n",
       "      <td>102.0</td>\n",
       "    </tr>\n",
       "    <tr>\n",
       "      <th>2</th>\n",
       "      <td>WDC</td>\n",
       "      <td>4109647.0</td>\n",
       "      <td>36.3187</td>\n",
       "      <td>36.21</td>\n",
       "      <td>36.27</td>\n",
       "      <td>36.66</td>\n",
       "      <td>35.61</td>\n",
       "      <td>1560801600000</td>\n",
       "      <td>33259.0</td>\n",
       "    </tr>\n",
       "    <tr>\n",
       "      <th>3</th>\n",
       "      <td>GNTX</td>\n",
       "      <td>998643.0</td>\n",
       "      <td>23.4434</td>\n",
       "      <td>23.54</td>\n",
       "      <td>23.36</td>\n",
       "      <td>23.67</td>\n",
       "      <td>23.32</td>\n",
       "      <td>1560801600000</td>\n",
       "      <td>9896.0</td>\n",
       "    </tr>\n",
       "    <tr>\n",
       "      <th>4</th>\n",
       "      <td>BZQ</td>\n",
       "      <td>33935.5</td>\n",
       "      <td>104.5164</td>\n",
       "      <td>104.88</td>\n",
       "      <td>105.64</td>\n",
       "      <td>106.44</td>\n",
       "      <td>103.28</td>\n",
       "      <td>1560801600000</td>\n",
       "      <td>627.0</td>\n",
       "    </tr>\n",
       "  </tbody>\n",
       "</table>\n",
       "</div>"
      ],
      "text/plain": [
       "        T          v        vw       o       c       h       l              t  \\\n",
       "0      WB   981967.0   41.5953   41.47   41.61   41.93   41.02  1560801600000   \n",
       "1  DLNGpB    14056.0   16.1327   16.51   16.00   16.51   15.90  1560801600000   \n",
       "2     WDC  4109647.0   36.3187   36.21   36.27   36.66   35.61  1560801600000   \n",
       "3    GNTX   998643.0   23.4434   23.54   23.36   23.67   23.32  1560801600000   \n",
       "4     BZQ    33935.5  104.5164  104.88  105.64  106.44  103.28  1560801600000   \n",
       "\n",
       "         n  \n",
       "0  11076.0  \n",
       "1    102.0  \n",
       "2  33259.0  \n",
       "3   9896.0  \n",
       "4    627.0  "
      ]
     },
     "execution_count": 163,
     "metadata": {},
     "output_type": "execute_result"
    }
   ],
   "source": [
    "all.head()"
   ]
  },
  {
   "cell_type": "code",
   "execution_count": 180,
   "metadata": {},
   "outputs": [],
   "source": [
    "c = conn.cursor()"
   ]
  },
  {
   "cell_type": "code",
   "execution_count": null,
   "metadata": {},
   "outputs": [],
   "source": [
    "c.execute('''\n",
    "CREATE TABLE stonks (\n",
    "    ticker TEXT,\n",
    "    volume REAL,\n",
    "    vw REAL,\n",
    "    open REAL,\n",
    "    close REAL,\n",
    "    high REAL,\n",
    "    low REAL,\n",
    "    time INTEGER,\n",
    "    n INTEGER\n",
    ")\n",
    "''')"
   ]
  },
  {
   "cell_type": "code",
   "execution_count": 189,
   "metadata": {},
   "outputs": [],
   "source": [
    "info = c.execute('PRAGMA table_info(stonks)').fetchall()"
   ]
  },
  {
   "cell_type": "code",
   "execution_count": 190,
   "metadata": {},
   "outputs": [
    {
     "data": {
      "text/plain": [
       "[(0, 'ticker', 'TEXT', 0, None, 0),\n",
       " (1, 'volume', 'REAL', 0, None, 0),\n",
       " (2, 'vw', 'REAL', 0, None, 0),\n",
       " (3, 'open', 'REAL', 0, None, 0),\n",
       " (4, 'close', 'REAL', 0, None, 0),\n",
       " (5, 'high', 'REAL', 0, None, 0),\n",
       " (6, 'low', 'REAL', 0, None, 0),\n",
       " (7, 'time', 'INTEGER', 0, None, 0),\n",
       " (8, 'n', 'INTEGER', 0, None, 0)]"
      ]
     },
     "execution_count": 190,
     "metadata": {},
     "output_type": "execute_result"
    }
   ],
   "source": [
    "info"
   ]
  },
  {
   "cell_type": "code",
   "execution_count": 192,
   "metadata": {},
   "outputs": [
    {
     "data": {
      "text/plain": [
       "['ticker', 'volume', 'vw', 'open', 'close', 'high', 'low', 'time', 'n']"
      ]
     },
     "execution_count": 192,
     "metadata": {},
     "output_type": "execute_result"
    }
   ],
   "source": [
    "[i[1] for i in info]   "
   ]
  },
  {
   "cell_type": "code",
   "execution_count": 197,
   "metadata": {},
   "outputs": [
    {
     "data": {
      "text/plain": [
       "12678885"
      ]
     },
     "execution_count": 197,
     "metadata": {},
     "output_type": "execute_result"
    }
   ],
   "source": [
    "all.to_sql('stonks', conn, if_exists='append', index=False)"
   ]
  },
  {
   "cell_type": "code",
   "execution_count": null,
   "metadata": {},
   "outputs": [],
   "source": []
  }
 ],
 "metadata": {
  "kernelspec": {
   "display_name": "stonks",
   "language": "python",
   "name": "python3"
  },
  "language_info": {
   "codemirror_mode": {
    "name": "ipython",
    "version": 3
   },
   "file_extension": ".py",
   "mimetype": "text/x-python",
   "name": "python",
   "nbconvert_exporter": "python",
   "pygments_lexer": "ipython3",
   "version": "3.12.3"
  }
 },
 "nbformat": 4,
 "nbformat_minor": 2
}
