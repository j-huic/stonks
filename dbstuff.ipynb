{
 "cells": [
  {
   "cell_type": "code",
   "execution_count": 2,
   "metadata": {},
   "outputs": [],
   "source": [
    "import talib\n",
    "import sqlite3\n",
    "import pandas as pd\n",
    "from datetime import datetime\n",
    "from importlib import reload\n",
    "import time\n",
    "import numpy as np\n",
    "import matplotlib.pyplot as plt"
   ]
  },
  {
   "cell_type": "code",
   "execution_count": 16,
   "metadata": {},
   "outputs": [],
   "source": [
    "import functions; reload(functions)\n",
    "from functions import *"
   ]
  },
  {
   "cell_type": "code",
   "execution_count": 3,
   "metadata": {},
   "outputs": [
    {
     "name": "stdout",
     "output_type": "stream",
     "text": [
      "c:\\Users\\Janko\\Miniconda3\\envs\\stonks\\python.exe\n"
     ]
    }
   ],
   "source": [
    "import sys\n",
    "print(sys.executable)"
   ]
  },
  {
   "cell_type": "code",
   "execution_count": 24,
   "metadata": {},
   "outputs": [],
   "source": [
    "conn = sqlite3.connect('main.db')\n",
    "c = conn.cursor()"
   ]
  },
  {
   "cell_type": "code",
   "execution_count": 4,
   "metadata": {},
   "outputs": [],
   "source": [
    "def get_max_value(var, database='main.db', table='stocks'):\n",
    "    conn = sqlite3.connect(database)\n",
    "    c = conn.cursor()\n",
    "    max = c.execute(f'SELECT MAX({var}) FROM {table};').fetchone()[0]\n",
    "    return max"
   ]
  },
  {
   "cell_type": "code",
   "execution_count": 5,
   "metadata": {},
   "outputs": [
    {
     "data": {
      "text/plain": [
       "1718395200000"
      ]
     },
     "execution_count": 5,
     "metadata": {},
     "output_type": "execute_result"
    }
   ],
   "source": [
    "maxtime = 'SELECT MAX(time) FROM stocks;'\n",
    "c.execute(maxtime).fetchone()[0]"
   ]
  },
  {
   "cell_type": "code",
   "execution_count": 32,
   "metadata": {},
   "outputs": [],
   "source": [
    "nvda = np.array([r[0] for r in get_data('SELECT close FROM stocks WHERE ticker = \"NVDA\"')])"
   ]
  },
  {
   "cell_type": "code",
   "execution_count": 42,
   "metadata": {},
   "outputs": [
    {
     "data": {
      "image/png": "[encoded data removed]",
      "text/plain": [
       "<Figure size 640x480 with 1 Axes>"
      ]
     },
     "metadata": {},
     "output_type": "display_data"
    }
   ],
   "source": [
    "plot_series(nvda)"
   ]
  },
  {
   "cell_type": "code",
   "execution_count": 33,
   "metadata": {},
   "outputs": [],
   "source": [
    "sma = talib.SMA(nvda, timeperiod=5)"
   ]
  },
  {
   "cell_type": "code",
   "execution_count": 40,
   "metadata": {},
   "outputs": [],
   "source": [
    "query = '''\n",
    "SELECT * FROM stocks\n",
    "WHERE ticker in (\n",
    "\tSELECT ticker FROM stocks\n",
    "\tWHERE time = (\n",
    "\t\tSELECT MAX(time) FROM stocks\n",
    "\t)\n",
    "\tORDER BY volume * vw DESC\n",
    "\tLIMIT 5000\n",
    ")\n",
    "'''"
   ]
  },
  {
   "cell_type": "code",
   "execution_count": 41,
   "metadata": {},
   "outputs": [],
   "source": [
    "data = get_data(query)"
   ]
  },
  {
   "cell_type": "code",
   "execution_count": 31,
   "metadata": {},
   "outputs": [
    {
     "data": {
      "text/plain": [
       "(9535192, 9)"
      ]
     },
     "execution_count": 31,
     "metadata": {},
     "output_type": "execute_result"
    }
   ],
   "source": [
    "test.shape"
   ]
  },
  {
   "cell_type": "code",
   "execution_count": 42,
   "metadata": {},
   "outputs": [],
   "source": [
    "import connectorx as cx"
   ]
  },
  {
   "cell_type": "code",
   "execution_count": 49,
   "metadata": {},
   "outputs": [
    {
     "ename": "ValueError",
     "evalue": "not enough values to unpack (expected 2, got 1)",
     "output_type": "error",
     "traceback": [
      "\u001b[1;31m---------------------------------------------------------------------------\u001b[0m",
      "\u001b[1;31mValueError\u001b[0m                                Traceback (most recent call last)",
      "Cell \u001b[1;32mIn[49], line 1\u001b[0m\n\u001b[1;32m----> 1\u001b[0m cxtest \u001b[38;5;241m=\u001b[39m \u001b[43mcx\u001b[49m\u001b[38;5;241;43m.\u001b[39;49m\u001b[43mread_sql\u001b[49m\u001b[43m(\u001b[49m\u001b[43mquery\u001b[49m\u001b[43m,\u001b[49m\u001b[43m \u001b[49m\u001b[38;5;124;43m'\u001b[39;49m\u001b[38;5;124;43msqlite:///main.db\u001b[39;49m\u001b[38;5;124;43m'\u001b[39;49m\u001b[43m)\u001b[49m\n",
      "File \u001b[1;32mc:\\Users\\Janko\\Miniconda3\\envs\\stonks\\Lib\\site-packages\\connectorx\\__init__.py:359\u001b[0m, in \u001b[0;36mread_sql\u001b[1;34m(conn, query, return_type, protocol, partition_on, partition_range, partition_num, index_col)\u001b[0m\n\u001b[0;32m    356\u001b[0m \u001b[38;5;28;01melse\u001b[39;00m:\n\u001b[0;32m    357\u001b[0m     \u001b[38;5;28;01mraise\u001b[39;00m \u001b[38;5;167;01mValueError\u001b[39;00m(\u001b[38;5;124m\"\u001b[39m\u001b[38;5;124mquery must be either str or a list of str\u001b[39m\u001b[38;5;124m\"\u001b[39m)\n\u001b[1;32m--> 359\u001b[0m conn, protocol \u001b[38;5;241m=\u001b[39m \u001b[43mrewrite_conn\u001b[49m\u001b[43m(\u001b[49m\u001b[43mconn\u001b[49m\u001b[43m,\u001b[49m\u001b[43m \u001b[49m\u001b[43mprotocol\u001b[49m\u001b[43m)\u001b[49m\n\u001b[0;32m    361\u001b[0m \u001b[38;5;28;01mif\u001b[39;00m return_type \u001b[38;5;129;01min\u001b[39;00m {\u001b[38;5;124m\"\u001b[39m\u001b[38;5;124mmodin\u001b[39m\u001b[38;5;124m\"\u001b[39m, \u001b[38;5;124m\"\u001b[39m\u001b[38;5;124mdask\u001b[39m\u001b[38;5;124m\"\u001b[39m, \u001b[38;5;124m\"\u001b[39m\u001b[38;5;124mpandas\u001b[39m\u001b[38;5;124m\"\u001b[39m}:\n\u001b[0;32m    362\u001b[0m     try_import_module(\u001b[38;5;124m\"\u001b[39m\u001b[38;5;124mpandas\u001b[39m\u001b[38;5;124m\"\u001b[39m)\n",
      "File \u001b[1;32mc:\\Users\\Janko\\Miniconda3\\envs\\stonks\\Lib\\site-packages\\connectorx\\__init__.py:56\u001b[0m, in \u001b[0;36mrewrite_conn\u001b[1;34m(conn, protocol)\u001b[0m\n\u001b[0;32m     50\u001b[0m \u001b[38;5;28;01mdef\u001b[39;00m \u001b[38;5;21mrewrite_conn\u001b[39m(\n\u001b[0;32m     51\u001b[0m     conn: \u001b[38;5;28mstr\u001b[39m \u001b[38;5;241m|\u001b[39m ConnectionUrl, protocol: Protocol \u001b[38;5;241m|\u001b[39m \u001b[38;5;28;01mNone\u001b[39;00m \u001b[38;5;241m=\u001b[39m \u001b[38;5;28;01mNone\u001b[39;00m\n\u001b[0;32m     52\u001b[0m ) \u001b[38;5;241m-\u001b[39m\u001b[38;5;241m>\u001b[39m \u001b[38;5;28mtuple\u001b[39m[\u001b[38;5;28mstr\u001b[39m, Protocol]:\n\u001b[0;32m     53\u001b[0m     \u001b[38;5;28;01mif\u001b[39;00m \u001b[38;5;129;01mnot\u001b[39;00m protocol:\n\u001b[0;32m     54\u001b[0m         \u001b[38;5;66;03m# note: redshift/clickhouse are not compatible with the 'binary' protocol, and use other database\u001b[39;00m\n\u001b[0;32m     55\u001b[0m         \u001b[38;5;66;03m# drivers to connect. set a compatible protocol and masquerade as the appropriate backend.\u001b[39;00m\n\u001b[1;32m---> 56\u001b[0m         backend, connection_details \u001b[38;5;241m=\u001b[39m conn\u001b[38;5;241m.\u001b[39msplit(\u001b[38;5;124m\"\u001b[39m\u001b[38;5;124m:\u001b[39m\u001b[38;5;124m\"\u001b[39m, \u001b[38;5;241m1\u001b[39m) \u001b[38;5;28;01mif\u001b[39;00m conn \u001b[38;5;28;01melse\u001b[39;00m (\u001b[38;5;124m\"\u001b[39m\u001b[38;5;124m\"\u001b[39m, \u001b[38;5;124m\"\u001b[39m\u001b[38;5;124m\"\u001b[39m)\n\u001b[0;32m     57\u001b[0m         \u001b[38;5;28;01mif\u001b[39;00m \u001b[38;5;124m\"\u001b[39m\u001b[38;5;124mredshift\u001b[39m\u001b[38;5;124m\"\u001b[39m \u001b[38;5;129;01min\u001b[39;00m backend:\n\u001b[0;32m     58\u001b[0m             conn \u001b[38;5;241m=\u001b[39m \u001b[38;5;124mf\u001b[39m\u001b[38;5;124m\"\u001b[39m\u001b[38;5;124mpostgresql:\u001b[39m\u001b[38;5;132;01m{\u001b[39;00mconnection_details\u001b[38;5;132;01m}\u001b[39;00m\u001b[38;5;124m\"\u001b[39m\n",
      "\u001b[1;31mValueError\u001b[0m: not enough values to unpack (expected 2, got 1)"
     ]
    }
   ],
   "source": [
    "cxtest = cx.read_sql(query, 'sqlite:///main.db')"
   ]
  },
  {
   "cell_type": "code",
   "execution_count": 51,
   "metadata": {},
   "outputs": [
    {
     "ename": "RuntimeError",
     "evalue": "Invalid column type Real at index: 1, name: volume",
     "output_type": "error",
     "traceback": [
      "\u001b[1;31m---------------------------------------------------------------------------\u001b[0m",
      "\u001b[1;31mRuntimeError\u001b[0m                              Traceback (most recent call last)",
      "Cell \u001b[1;32mIn[51], line 1\u001b[0m\n\u001b[1;32m----> 1\u001b[0m cxtest \u001b[38;5;241m=\u001b[39m \u001b[43mcx\u001b[49m\u001b[38;5;241;43m.\u001b[39;49m\u001b[43mread_sql\u001b[49m\u001b[43m(\u001b[49m\u001b[38;5;124;43m'\u001b[39;49m\u001b[38;5;124;43msqlite://main.db\u001b[39;49m\u001b[38;5;124;43m'\u001b[39;49m\u001b[43m,\u001b[49m\u001b[43m \u001b[49m\u001b[43mquery\u001b[49m\u001b[43m)\u001b[49m\n",
      "File \u001b[1;32mc:\\Users\\Janko\\Miniconda3\\envs\\stonks\\Lib\\site-packages\\connectorx\\__init__.py:364\u001b[0m, in \u001b[0;36mread_sql\u001b[1;34m(conn, query, return_type, protocol, partition_on, partition_range, partition_num, index_col)\u001b[0m\n\u001b[0;32m    361\u001b[0m \u001b[38;5;28;01mif\u001b[39;00m return_type \u001b[38;5;129;01min\u001b[39;00m {\u001b[38;5;124m\"\u001b[39m\u001b[38;5;124mmodin\u001b[39m\u001b[38;5;124m\"\u001b[39m, \u001b[38;5;124m\"\u001b[39m\u001b[38;5;124mdask\u001b[39m\u001b[38;5;124m\"\u001b[39m, \u001b[38;5;124m\"\u001b[39m\u001b[38;5;124mpandas\u001b[39m\u001b[38;5;124m\"\u001b[39m}:\n\u001b[0;32m    362\u001b[0m     try_import_module(\u001b[38;5;124m\"\u001b[39m\u001b[38;5;124mpandas\u001b[39m\u001b[38;5;124m\"\u001b[39m)\n\u001b[1;32m--> 364\u001b[0m     result \u001b[38;5;241m=\u001b[39m \u001b[43m_read_sql\u001b[49m\u001b[43m(\u001b[49m\n\u001b[0;32m    365\u001b[0m \u001b[43m        \u001b[49m\u001b[43mconn\u001b[49m\u001b[43m,\u001b[49m\n\u001b[0;32m    366\u001b[0m \u001b[43m        \u001b[49m\u001b[38;5;124;43m\"\u001b[39;49m\u001b[38;5;124;43mpandas\u001b[39;49m\u001b[38;5;124;43m\"\u001b[39;49m\u001b[43m,\u001b[49m\n\u001b[0;32m    367\u001b[0m \u001b[43m        \u001b[49m\u001b[43mqueries\u001b[49m\u001b[38;5;241;43m=\u001b[39;49m\u001b[43mqueries\u001b[49m\u001b[43m,\u001b[49m\n\u001b[0;32m    368\u001b[0m \u001b[43m        \u001b[49m\u001b[43mprotocol\u001b[49m\u001b[38;5;241;43m=\u001b[39;49m\u001b[43mprotocol\u001b[49m\u001b[43m,\u001b[49m\n\u001b[0;32m    369\u001b[0m \u001b[43m        \u001b[49m\u001b[43mpartition_query\u001b[49m\u001b[38;5;241;43m=\u001b[39;49m\u001b[43mpartition_query\u001b[49m\u001b[43m,\u001b[49m\n\u001b[0;32m    370\u001b[0m \u001b[43m    \u001b[49m\u001b[43m)\u001b[49m\n\u001b[0;32m    371\u001b[0m     df \u001b[38;5;241m=\u001b[39m reconstruct_pandas(result)\n\u001b[0;32m    373\u001b[0m     \u001b[38;5;28;01mif\u001b[39;00m index_col \u001b[38;5;129;01mis\u001b[39;00m \u001b[38;5;129;01mnot\u001b[39;00m \u001b[38;5;28;01mNone\u001b[39;00m:\n",
      "\u001b[1;31mRuntimeError\u001b[0m: Invalid column type Real at index: 1, name: volume"
     ]
    }
   ],
   "source": [
    "cxtest = cx.read_sql('sqlite://main.db', query)"
   ]
  },
  {
   "cell_type": "code",
   "execution_count": 32,
   "metadata": {},
   "outputs": [
    {
     "data": {
      "text/plain": [
       "(9535192, 9)"
      ]
     },
     "execution_count": 32,
     "metadata": {},
     "output_type": "execute_result"
    }
   ],
   "source": [
    "df.shape"
   ]
  },
  {
   "cell_type": "code",
   "execution_count": 33,
   "metadata": {},
   "outputs": [
    {
     "data": {
      "text/plain": [
       "1.0"
      ]
     },
     "execution_count": 33,
     "metadata": {},
     "output_type": "execute_result"
    }
   ],
   "source": [
    "df.n.min()"
   ]
  },
  {
   "cell_type": "code",
   "execution_count": 38,
   "metadata": {},
   "outputs": [],
   "source": [
    "test2 = pd.read_sql_query(query, conn)"
   ]
  },
  {
   "cell_type": "code",
   "execution_count": 39,
   "metadata": {},
   "outputs": [
    {
     "data": {
      "text/html": [
       "<div>\n",
       "<style scoped>\n",
       "    .dataframe tbody tr th:only-of-type {\n",
       "        vertical-align: middle;\n",
       "    }\n",
       "\n",
       "    .dataframe tbody tr th {\n",
       "        vertical-align: top;\n",
       "    }\n",
       "\n",
       "    .dataframe thead th {\n",
       "        text-align: right;\n",
       "    }\n",
       "</style>\n",
       "<table border=\"1\" class=\"dataframe\">\n",
       "  <thead>\n",
       "    <tr style=\"text-align: right;\">\n",
       "      <th></th>\n",
       "      <th>id</th>\n",
       "      <th>parent</th>\n",
       "      <th>notused</th>\n",
       "      <th>detail</th>\n",
       "    </tr>\n",
       "  </thead>\n",
       "  <tbody>\n",
       "    <tr>\n",
       "      <th>0</th>\n",
       "      <td>3</td>\n",
       "      <td>0</td>\n",
       "      <td>0</td>\n",
       "      <td>SEARCH stocks USING INDEX idx_ticker_time (tic...</td>\n",
       "    </tr>\n",
       "    <tr>\n",
       "      <th>1</th>\n",
       "      <td>7</td>\n",
       "      <td>0</td>\n",
       "      <td>0</td>\n",
       "      <td>LIST SUBQUERY 2</td>\n",
       "    </tr>\n",
       "    <tr>\n",
       "      <th>2</th>\n",
       "      <td>12</td>\n",
       "      <td>7</td>\n",
       "      <td>0</td>\n",
       "      <td>SEARCH stocks USING INDEX idx_time_n (time=?)</td>\n",
       "    </tr>\n",
       "    <tr>\n",
       "      <th>3</th>\n",
       "      <td>15</td>\n",
       "      <td>7</td>\n",
       "      <td>0</td>\n",
       "      <td>SCALAR SUBQUERY 1</td>\n",
       "    </tr>\n",
       "    <tr>\n",
       "      <th>4</th>\n",
       "      <td>20</td>\n",
       "      <td>15</td>\n",
       "      <td>0</td>\n",
       "      <td>SEARCH stocks USING COVERING INDEX idx_time_n</td>\n",
       "    </tr>\n",
       "    <tr>\n",
       "      <th>5</th>\n",
       "      <td>48</td>\n",
       "      <td>7</td>\n",
       "      <td>0</td>\n",
       "      <td>USE TEMP B-TREE FOR ORDER BY</td>\n",
       "    </tr>\n",
       "  </tbody>\n",
       "</table>\n",
       "</div>"
      ],
      "text/plain": [
       "   id  parent  notused                                             detail\n",
       "0   3       0        0  SEARCH stocks USING INDEX idx_ticker_time (tic...\n",
       "1   7       0        0                                    LIST SUBQUERY 2\n",
       "2  12       7        0      SEARCH stocks USING INDEX idx_time_n (time=?)\n",
       "3  15       7        0                                  SCALAR SUBQUERY 1\n",
       "4  20      15        0      SEARCH stocks USING COVERING INDEX idx_time_n\n",
       "5  48       7        0                       USE TEMP B-TREE FOR ORDER BY"
      ]
     },
     "execution_count": 39,
     "metadata": {},
     "output_type": "execute_result"
    }
   ],
   "source": [
    "test2"
   ]
  },
  {
   "cell_type": "code",
   "execution_count": 35,
   "metadata": {},
   "outputs": [],
   "source": [
    "test = pd.read_sql_query(query, conn)"
   ]
  },
  {
   "cell_type": "code",
   "execution_count": 16,
   "metadata": {},
   "outputs": [
    {
     "data": {
      "text/plain": [
       "'2024-07-03'"
      ]
     },
     "execution_count": 16,
     "metadata": {},
     "output_type": "execute_result"
    }
   ],
   "source": [
    "timestamp_to_date(get_data(maxtime)[0][0])"
   ]
  },
  {
   "cell_type": "code",
   "execution_count": null,
   "metadata": {},
   "outputs": [],
   "source": [
    "df.n.min()"
   ]
  },
  {
   "cell_type": "code",
   "execution_count": 28,
   "metadata": {},
   "outputs": [],
   "source": [
    "df = pd.read_sql_query(get_top_stocks(10000), conn)"
   ]
  },
  {
   "cell_type": "code",
   "execution_count": 26,
   "metadata": {},
   "outputs": [
    {
     "data": {
      "text/plain": [
       "(11980, 9)"
      ]
     },
     "execution_count": 26,
     "metadata": {},
     "output_type": "execute_result"
    }
   ],
   "source": [
    "df.shape"
   ]
  },
  {
   "cell_type": "code",
   "execution_count": 27,
   "metadata": {},
   "outputs": [
    {
     "data": {
      "text/plain": [
       "array(['AAPL', 'AMD', 'AMZN', 'AVGO', 'META', 'NVDA', 'QQQ', 'SMCI',\n",
       "       'SPY', 'TSLA'], dtype=object)"
      ]
     },
     "execution_count": 27,
     "metadata": {},
     "output_type": "execute_result"
    }
   ],
   "source": [
    "df.ticker.unique()"
   ]
  },
  {
   "cell_type": "code",
   "execution_count": 10,
   "metadata": {},
   "outputs": [],
   "source": [
    "def get_top_stocks(n=5000, all=True):\n",
    "    select = '*' if all else 'ticker, time, close'\n",
    "    command = f'''\n",
    "        SELECT {select} FROM stocks\n",
    "        WHERE ticker in (\n",
    "            SELECT ticker FROM stocks\n",
    "            WHERE time = (\n",
    "                SELECT MAX(time) FROM stocks\n",
    "            )\n",
    "            ORDER BY volume * vw DESC\n",
    "            LIMIT {n}\n",
    "        )\n",
    "        '''\n",
    "\n",
    "    return command"
   ]
  },
  {
   "cell_type": "code",
   "execution_count": 21,
   "metadata": {},
   "outputs": [
    {
     "data": {
      "text/plain": [
       "(11980, 9)"
      ]
     },
     "execution_count": 21,
     "metadata": {},
     "output_type": "execute_result"
    }
   ],
   "source": [
    "df.shape"
   ]
  },
  {
   "cell_type": "code",
   "execution_count": 20,
   "metadata": {},
   "outputs": [
    {
     "data": {
      "text/html": [
       "<div>\n",
       "<style scoped>\n",
       "    .dataframe tbody tr th:only-of-type {\n",
       "        vertical-align: middle;\n",
       "    }\n",
       "\n",
       "    .dataframe tbody tr th {\n",
       "        vertical-align: top;\n",
       "    }\n",
       "\n",
       "    .dataframe thead th {\n",
       "        text-align: right;\n",
       "    }\n",
       "</style>\n",
       "<table border=\"1\" class=\"dataframe\">\n",
       "  <thead>\n",
       "    <tr style=\"text-align: right;\">\n",
       "      <th></th>\n",
       "      <th>0</th>\n",
       "      <th>1</th>\n",
       "      <th>2</th>\n",
       "      <th>3</th>\n",
       "      <th>4</th>\n",
       "      <th>5</th>\n",
       "      <th>6</th>\n",
       "      <th>7</th>\n",
       "      <th>8</th>\n",
       "    </tr>\n",
       "  </thead>\n",
       "  <tbody>\n",
       "    <tr>\n",
       "      <th>0</th>\n",
       "      <td>AAPL</td>\n",
       "      <td>58676576</td>\n",
       "      <td>48.5258</td>\n",
       "      <td>48.2250</td>\n",
       "      <td>48.4725</td>\n",
       "      <td>48.7400</td>\n",
       "      <td>48.0425</td>\n",
       "      <td>1560801600000</td>\n",
       "      <td>114807</td>\n",
       "    </tr>\n",
       "    <tr>\n",
       "      <th>1</th>\n",
       "      <td>AAPL</td>\n",
       "      <td>106204016</td>\n",
       "      <td>49.6892</td>\n",
       "      <td>49.0125</td>\n",
       "      <td>49.6125</td>\n",
       "      <td>50.0725</td>\n",
       "      <td>48.8025</td>\n",
       "      <td>1560888000000</td>\n",
       "      <td>213982</td>\n",
       "    </tr>\n",
       "    <tr>\n",
       "      <th>2</th>\n",
       "      <td>AAPL</td>\n",
       "      <td>84496940</td>\n",
       "      <td>49.5686</td>\n",
       "      <td>49.9200</td>\n",
       "      <td>49.4675</td>\n",
       "      <td>49.9700</td>\n",
       "      <td>49.3275</td>\n",
       "      <td>1560974400000</td>\n",
       "      <td>155701</td>\n",
       "    </tr>\n",
       "    <tr>\n",
       "      <th>3</th>\n",
       "      <td>AAPL</td>\n",
       "      <td>85875952</td>\n",
       "      <td>49.8312</td>\n",
       "      <td>50.0925</td>\n",
       "      <td>49.8650</td>\n",
       "      <td>50.1525</td>\n",
       "      <td>49.5075</td>\n",
       "      <td>1561060800000</td>\n",
       "      <td>168119</td>\n",
       "    </tr>\n",
       "    <tr>\n",
       "      <th>4</th>\n",
       "      <td>AAPL</td>\n",
       "      <td>191202356</td>\n",
       "      <td>49.8109</td>\n",
       "      <td>49.7000</td>\n",
       "      <td>49.6950</td>\n",
       "      <td>50.2125</td>\n",
       "      <td>49.5375</td>\n",
       "      <td>1561147200000</td>\n",
       "      <td>182762</td>\n",
       "    </tr>\n",
       "  </tbody>\n",
       "</table>\n",
       "</div>"
      ],
      "text/plain": [
       "      0          1        2        3        4        5        6  \\\n",
       "0  AAPL   58676576  48.5258  48.2250  48.4725  48.7400  48.0425   \n",
       "1  AAPL  106204016  49.6892  49.0125  49.6125  50.0725  48.8025   \n",
       "2  AAPL   84496940  49.5686  49.9200  49.4675  49.9700  49.3275   \n",
       "3  AAPL   85875952  49.8312  50.0925  49.8650  50.1525  49.5075   \n",
       "4  AAPL  191202356  49.8109  49.7000  49.6950  50.2125  49.5375   \n",
       "\n",
       "               7       8  \n",
       "0  1560801600000  114807  \n",
       "1  1560888000000  213982  \n",
       "2  1560974400000  155701  \n",
       "3  1561060800000  168119  \n",
       "4  1561147200000  182762  "
      ]
     },
     "execution_count": 20,
     "metadata": {},
     "output_type": "execute_result"
    }
   ],
   "source": [
    "df.head()"
   ]
  },
  {
   "cell_type": "code",
   "execution_count": 19,
   "metadata": {},
   "outputs": [],
   "source": [
    "df = pd.DataFrame(df)"
   ]
  },
  {
   "cell_type": "code",
   "execution_count": 17,
   "metadata": {},
   "outputs": [],
   "source": [
    "df = get_data(get_top_stocks(10))"
   ]
  },
  {
   "cell_type": "code",
   "execution_count": null,
   "metadata": {},
   "outputs": [],
   "source": [
    "onlylast = '''\n",
    "    SELECT ticker FROM stocks\n",
    "\tWHERE time = (\n",
    "\t\tSELECT MAX(time) FROM stocks\n",
    "\t)\n",
    "\tORDER BY volume * vw DESC\n",
    "    LIMIT 1000;\n",
    "'''\n",
    "\n",
    "query = f'''\n",
    "    SELECT * \n",
    "    FROM stocks \n",
    "    WHERE time > {timestamp_from_datestring('2024-01-01')}\n",
    "    AND n > 1000\n",
    "    '''\n",
    "\t\n",
    "### test table\n",
    "beginning = date_to_timestamp('2023-01-01')\n",
    "end = date_to_timestamp('2024-06-01')\n",
    "query = f'''\n",
    "    SELECT * \n",
    "    FROM stocks \n",
    "    WHERE time > {beginning} AND time < {end}\n",
    "'''\n",
    "test = pd.read_sql_query(query, conn)\n",
    "test.to_sql('test', conn, if_exists='replace', index=False)"
   ]
  },
  {
   "cell_type": "code",
   "execution_count": 5,
   "metadata": {},
   "outputs": [
    {
     "data": {
      "text/plain": [
       "1672527600000"
      ]
     },
     "execution_count": 5,
     "metadata": {},
     "output_type": "execute_result"
    }
   ],
   "source": [
    "date_to_timestamp('2023-01-01')"
   ]
  },
  {
   "cell_type": "code",
   "execution_count": 4,
   "metadata": {},
   "outputs": [
    {
     "data": {
      "text/plain": [
       "'2024-01-01'"
      ]
     },
     "execution_count": 4,
     "metadata": {},
     "output_type": "execute_result"
    }
   ],
   "source": [
    "date_from_timestamp(1704063600000)"
   ]
  },
  {
   "cell_type": "code",
   "execution_count": 6,
   "metadata": {},
   "outputs": [],
   "source": [
    "def get_data(query):\n",
    "    c.execute(query)\n",
    "    data = c.fetchall()\n",
    "    return data"
   ]
  },
  {
   "cell_type": "code",
   "execution_count": 7,
   "metadata": {},
   "outputs": [],
   "source": [
    "timestamps = pd.read_sql_query('SELECT DISTINCT time FROM stocks', conn)\n",
    "dates = [date_from_timestamp(ts) for ts in timestamps['time']]"
   ]
  },
  {
   "cell_type": "code",
   "execution_count": 20,
   "metadata": {},
   "outputs": [],
   "source": [
    "date = get_trading_days(from_date=max(dates))[1]"
   ]
  },
  {
   "cell_type": "code",
   "execution_count": 44,
   "metadata": {},
   "outputs": [],
   "source": [
    "last_timestamp = pd.read_sql_query('SELECT MAX(time) FROM stocks', conn).iloc[0,0]"
   ]
  },
  {
   "cell_type": "code",
   "execution_count": 43,
   "metadata": {},
   "outputs": [
    {
     "data": {
      "text/plain": [
       "['2024-06-17']"
      ]
     },
     "execution_count": 43,
     "metadata": {},
     "output_type": "execute_result"
    }
   ],
   "source": [
    "missingdates(dates, get_trading_days(from_date=min(dates)))"
   ]
  },
  {
   "cell_type": "code",
   "execution_count": 16,
   "metadata": {},
   "outputs": [],
   "source": [
    "tablename = 'test'"
   ]
  },
  {
   "cell_type": "code",
   "execution_count": 56,
   "metadata": {},
   "outputs": [],
   "source": [
    "timestamps = pd.read_sql_query(f'SELECT DISTINCT time FROM {tablename}', conn)\n",
    "dates = [date_from_timestamp(ts) for ts in timestamps['time']]\n",
    "trading_days = get_trading_days(from_date=min(dates))[1:]\n",
    "missingdates = missingdates(dates, trading_days)"
   ]
  },
  {
   "cell_type": "code",
   "execution_count": 57,
   "metadata": {},
   "outputs": [
    {
     "data": {
      "text/plain": [
       "['2024-02-01',\n",
       " '2024-02-02',\n",
       " '2024-02-05',\n",
       " '2024-02-06',\n",
       " '2024-02-07',\n",
       " '2024-02-08',\n",
       " '2024-02-09',\n",
       " '2024-02-12',\n",
       " '2024-02-13',\n",
       " '2024-02-14',\n",
       " '2024-05-31',\n",
       " '2024-06-03',\n",
       " '2024-06-04',\n",
       " '2024-06-05',\n",
       " '2024-06-06',\n",
       " '2024-06-07',\n",
       " '2024-06-10',\n",
       " '2024-06-11',\n",
       " '2024-06-12',\n",
       " '2024-06-13',\n",
       " '2024-06-14',\n",
       " '2024-06-17']"
      ]
     },
     "execution_count": 57,
     "metadata": {},
     "output_type": "execute_result"
    }
   ],
   "source": [
    "missingdates"
   ]
  },
  {
   "cell_type": "code",
   "execution_count": 79,
   "metadata": {},
   "outputs": [
    {
     "data": {
      "text/plain": [
       "'2024-02-01-22-00-00'"
      ]
     },
     "execution_count": 79,
     "metadata": {},
     "output_type": "execute_result"
    }
   ],
   "source": [
    "datetime.fromtimestamp(1706821200000 / 1000).strftime('%Y-%m-%d-%H-%M-%S')"
   ]
  },
  {
   "cell_type": "code",
   "execution_count": 36,
   "metadata": {},
   "outputs": [],
   "source": [
    "newdf.columns = get_table_colnames('test')"
   ]
  },
  {
   "cell_type": "code",
   "execution_count": 40,
   "metadata": {},
   "outputs": [
    {
     "data": {
      "text/plain": [
       "105428"
      ]
     },
     "execution_count": 40,
     "metadata": {},
     "output_type": "execute_result"
    }
   ],
   "source": [
    "newdf.to_sql('test', conn, if_exists='append', index=False)"
   ]
  },
  {
   "cell_type": "code",
   "execution_count": null,
   "metadata": {},
   "outputs": [],
   "source": []
  },
  {
   "cell_type": "code",
   "execution_count": 80,
   "metadata": {},
   "outputs": [],
   "source": [
    "all = pd.read_sql_query('SELECT * FROM stocks', conn)"
   ]
  },
  {
   "cell_type": "code",
   "execution_count": 81,
   "metadata": {},
   "outputs": [],
   "source": [
    "allstamps = all['time'].unique()"
   ]
  },
  {
   "cell_type": "code",
   "execution_count": 82,
   "metadata": {},
   "outputs": [
    {
     "data": {
      "text/plain": [
       "1259"
      ]
     },
     "execution_count": 82,
     "metadata": {},
     "output_type": "execute_result"
    }
   ],
   "source": [
    "len(allstamps)"
   ]
  },
  {
   "cell_type": "code",
   "execution_count": 89,
   "metadata": {},
   "outputs": [
    {
     "data": {
      "text/plain": [
       "22"
      ]
     },
     "execution_count": 89,
     "metadata": {},
     "output_type": "execute_result"
    }
   ],
   "source": [
    "datetime.fromtimestamp(1706821200000 / 1000).hour\n"
   ]
  },
  {
   "cell_type": "code",
   "execution_count": 90,
   "metadata": {},
   "outputs": [],
   "source": [
    "times = [datetime.fromtimestamp(i / 1000).hour for i in allstamps]"
   ]
  },
  {
   "cell_type": "code",
   "execution_count": 91,
   "metadata": {},
   "outputs": [
    {
     "data": {
      "text/plain": [
       "{21, 22}"
      ]
     },
     "execution_count": 91,
     "metadata": {},
     "output_type": "execute_result"
    }
   ],
   "source": [
    "set(times)"
   ]
  },
  {
   "cell_type": "code",
   "execution_count": 94,
   "metadata": {},
   "outputs": [],
   "source": [
    "import numpy as np"
   ]
  },
  {
   "cell_type": "code",
   "execution_count": 96,
   "metadata": {},
   "outputs": [],
   "source": [
    "times = np.array(times)"
   ]
  },
  {
   "cell_type": "code",
   "execution_count": 100,
   "metadata": {},
   "outputs": [],
   "source": [
    "dates = [datetime.fromtimestamp(i / 1000).strftime('%Y-%m-%d') for i in allstamps]"
   ]
  },
  {
   "cell_type": "code",
   "execution_count": 99,
   "metadata": {},
   "outputs": [
    {
     "data": {
      "text/plain": [
       "1175"
      ]
     },
     "execution_count": 99,
     "metadata": {},
     "output_type": "execute_result"
    }
   ],
   "source": [
    "sum(times == 22)"
   ]
  },
  {
   "cell_type": "code",
   "execution_count": 103,
   "metadata": {},
   "outputs": [],
   "source": [
    "test = pd.read_sql_query('SELECT * FROM test', conn)"
   ]
  },
  {
   "cell_type": "code",
   "execution_count": 104,
   "metadata": {},
   "outputs": [
    {
     "data": {
      "text/plain": [
       "'2024-06-17'"
      ]
     },
     "execution_count": 104,
     "metadata": {},
     "output_type": "execute_result"
    }
   ],
   "source": [
    "date_from_timestamp(test.time.max())"
   ]
  },
  {
   "cell_type": "code",
   "execution_count": 106,
   "metadata": {},
   "outputs": [
    {
     "data": {
      "text/plain": [
       "(3870260, 9)"
      ]
     },
     "execution_count": 106,
     "metadata": {},
     "output_type": "execute_result"
    }
   ],
   "source": [
    "test.shape"
   ]
  },
  {
   "cell_type": "code",
   "execution_count": 107,
   "metadata": {},
   "outputs": [],
   "source": [
    "all2 = all[all.time >= test.time.min()]"
   ]
  },
  {
   "cell_type": "code",
   "execution_count": 108,
   "metadata": {},
   "outputs": [
    {
     "data": {
      "text/plain": [
       "(3869373, 9)"
      ]
     },
     "execution_count": 108,
     "metadata": {},
     "output_type": "execute_result"
    }
   ],
   "source": [
    "all2.shape"
   ]
  },
  {
   "cell_type": "code",
   "execution_count": 109,
   "metadata": {},
   "outputs": [
    {
     "data": {
      "text/plain": [
       "-887"
      ]
     },
     "execution_count": 109,
     "metadata": {},
     "output_type": "execute_result"
    }
   ],
   "source": [
    "all2.shape[0] - test.shape[0]"
   ]
  },
  {
   "cell_type": "code",
   "execution_count": 120,
   "metadata": {},
   "outputs": [],
   "source": [
    "mintest = test[test.time == test.time.min()]"
   ]
  },
  {
   "cell_type": "code",
   "execution_count": 121,
   "metadata": {},
   "outputs": [],
   "source": [
    "all2min = all2[all2.time == all2.time.min()]"
   ]
  },
  {
   "cell_type": "code",
   "execution_count": 125,
   "metadata": {},
   "outputs": [
    {
     "data": {
      "text/plain": [
       "1672779600000"
      ]
     },
     "execution_count": 125,
     "metadata": {},
     "output_type": "execute_result"
    }
   ],
   "source": [
    "test.time.min()"
   ]
  },
  {
   "cell_type": "code",
   "execution_count": 126,
   "metadata": {},
   "outputs": [
    {
     "data": {
      "text/plain": [
       "1672779600000"
      ]
     },
     "execution_count": 126,
     "metadata": {},
     "output_type": "execute_result"
    }
   ],
   "source": [
    "all2.time.min()"
   ]
  },
  {
   "cell_type": "code",
   "execution_count": 127,
   "metadata": {},
   "outputs": [
    {
     "data": {
      "text/plain": [
       "1718395200000"
      ]
     },
     "execution_count": 127,
     "metadata": {},
     "output_type": "execute_result"
    }
   ],
   "source": [
    "test.time.max()"
   ]
  },
  {
   "cell_type": "code",
   "execution_count": 128,
   "metadata": {},
   "outputs": [
    {
     "data": {
      "text/plain": [
       "1718395200000"
      ]
     },
     "execution_count": 128,
     "metadata": {},
     "output_type": "execute_result"
    }
   ],
   "source": [
    "all2.time.max()"
   ]
  },
  {
   "cell_type": "code",
   "execution_count": 131,
   "metadata": {},
   "outputs": [
    {
     "data": {
      "text/html": [
       "<div>\n",
       "<style scoped>\n",
       "    .dataframe tbody tr th:only-of-type {\n",
       "        vertical-align: middle;\n",
       "    }\n",
       "\n",
       "    .dataframe tbody tr th {\n",
       "        vertical-align: top;\n",
       "    }\n",
       "\n",
       "    .dataframe thead th {\n",
       "        text-align: right;\n",
       "    }\n",
       "</style>\n",
       "<table border=\"1\" class=\"dataframe\">\n",
       "  <thead>\n",
       "    <tr style=\"text-align: right;\">\n",
       "      <th></th>\n",
       "      <th>ticker</th>\n",
       "      <th>volume</th>\n",
       "      <th>vw</th>\n",
       "      <th>open</th>\n",
       "      <th>close</th>\n",
       "      <th>high</th>\n",
       "      <th>low</th>\n",
       "      <th>time</th>\n",
       "      <th>n</th>\n",
       "    </tr>\n",
       "  </thead>\n",
       "  <tbody>\n",
       "    <tr>\n",
       "      <th>3771990</th>\n",
       "      <td>STRR</td>\n",
       "      <td>13991.6</td>\n",
       "      <td>4.1965</td>\n",
       "      <td>4.2500</td>\n",
       "      <td>4.2400</td>\n",
       "      <td>4.2550</td>\n",
       "      <td>4.1005</td>\n",
       "      <td>1717444800000</td>\n",
       "      <td>244.0</td>\n",
       "    </tr>\n",
       "    <tr>\n",
       "      <th>3783019</th>\n",
       "      <td>STRR</td>\n",
       "      <td>16194.0</td>\n",
       "      <td>4.1660</td>\n",
       "      <td>4.1500</td>\n",
       "      <td>4.2000</td>\n",
       "      <td>4.2400</td>\n",
       "      <td>4.1245</td>\n",
       "      <td>1717531200000</td>\n",
       "      <td>166.0</td>\n",
       "    </tr>\n",
       "    <tr>\n",
       "      <th>3794600</th>\n",
       "      <td>STRR</td>\n",
       "      <td>21491.0</td>\n",
       "      <td>4.1540</td>\n",
       "      <td>4.1995</td>\n",
       "      <td>4.1753</td>\n",
       "      <td>4.1995</td>\n",
       "      <td>4.1250</td>\n",
       "      <td>1717617600000</td>\n",
       "      <td>210.0</td>\n",
       "    </tr>\n",
       "    <tr>\n",
       "      <th>3801380</th>\n",
       "      <td>STRR</td>\n",
       "      <td>2690.6</td>\n",
       "      <td>4.1965</td>\n",
       "      <td>4.1495</td>\n",
       "      <td>4.2000</td>\n",
       "      <td>4.2450</td>\n",
       "      <td>4.1495</td>\n",
       "      <td>1717704000000</td>\n",
       "      <td>92.0</td>\n",
       "    </tr>\n",
       "    <tr>\n",
       "      <th>3812713</th>\n",
       "      <td>STRR</td>\n",
       "      <td>2645.8</td>\n",
       "      <td>4.2215</td>\n",
       "      <td>4.3500</td>\n",
       "      <td>4.1255</td>\n",
       "      <td>4.3500</td>\n",
       "      <td>4.1000</td>\n",
       "      <td>1717790400000</td>\n",
       "      <td>56.0</td>\n",
       "    </tr>\n",
       "    <tr>\n",
       "      <th>3817810</th>\n",
       "      <td>STRR</td>\n",
       "      <td>965.8</td>\n",
       "      <td>4.2030</td>\n",
       "      <td>4.3500</td>\n",
       "      <td>4.1550</td>\n",
       "      <td>4.3500</td>\n",
       "      <td>4.1265</td>\n",
       "      <td>1718049600000</td>\n",
       "      <td>59.0</td>\n",
       "    </tr>\n",
       "    <tr>\n",
       "      <th>3835916</th>\n",
       "      <td>STRR</td>\n",
       "      <td>5349.6</td>\n",
       "      <td>4.1810</td>\n",
       "      <td>4.1775</td>\n",
       "      <td>4.1980</td>\n",
       "      <td>4.2000</td>\n",
       "      <td>4.1550</td>\n",
       "      <td>1718136000000</td>\n",
       "      <td>96.0</td>\n",
       "    </tr>\n",
       "    <tr>\n",
       "      <th>3839242</th>\n",
       "      <td>STRR</td>\n",
       "      <td>47165.0</td>\n",
       "      <td>4.1610</td>\n",
       "      <td>4.1500</td>\n",
       "      <td>4.2225</td>\n",
       "      <td>4.3000</td>\n",
       "      <td>4.1000</td>\n",
       "      <td>1718222400000</td>\n",
       "      <td>41092.0</td>\n",
       "    </tr>\n",
       "    <tr>\n",
       "      <th>3854857</th>\n",
       "      <td>STRR</td>\n",
       "      <td>38172.2</td>\n",
       "      <td>4.0575</td>\n",
       "      <td>4.1700</td>\n",
       "      <td>4.1620</td>\n",
       "      <td>4.2465</td>\n",
       "      <td>3.8050</td>\n",
       "      <td>1718308800000</td>\n",
       "      <td>18916.0</td>\n",
       "    </tr>\n",
       "    <tr>\n",
       "      <th>3859937</th>\n",
       "      <td>STRR</td>\n",
       "      <td>58309.2</td>\n",
       "      <td>4.0940</td>\n",
       "      <td>4.1170</td>\n",
       "      <td>4.1500</td>\n",
       "      <td>4.2500</td>\n",
       "      <td>3.9550</td>\n",
       "      <td>1718395200000</td>\n",
       "      <td>42849.0</td>\n",
       "    </tr>\n",
       "  </tbody>\n",
       "</table>\n",
       "</div>"
      ],
      "text/plain": [
       "        ticker   volume      vw    open   close    high     low  \\\n",
       "3771990   STRR  13991.6  4.1965  4.2500  4.2400  4.2550  4.1005   \n",
       "3783019   STRR  16194.0  4.1660  4.1500  4.2000  4.2400  4.1245   \n",
       "3794600   STRR  21491.0  4.1540  4.1995  4.1753  4.1995  4.1250   \n",
       "3801380   STRR   2690.6  4.1965  4.1495  4.2000  4.2450  4.1495   \n",
       "3812713   STRR   2645.8  4.2215  4.3500  4.1255  4.3500  4.1000   \n",
       "3817810   STRR    965.8  4.2030  4.3500  4.1550  4.3500  4.1265   \n",
       "3835916   STRR   5349.6  4.1810  4.1775  4.1980  4.2000  4.1550   \n",
       "3839242   STRR  47165.0  4.1610  4.1500  4.2225  4.3000  4.1000   \n",
       "3854857   STRR  38172.2  4.0575  4.1700  4.1620  4.2465  3.8050   \n",
       "3859937   STRR  58309.2  4.0940  4.1170  4.1500  4.2500  3.9550   \n",
       "\n",
       "                  time        n  \n",
       "3771990  1717444800000    244.0  \n",
       "3783019  1717531200000    166.0  \n",
       "3794600  1717617600000    210.0  \n",
       "3801380  1717704000000     92.0  \n",
       "3812713  1717790400000     56.0  \n",
       "3817810  1718049600000     59.0  \n",
       "3835916  1718136000000     96.0  \n",
       "3839242  1718222400000  41092.0  \n",
       "3854857  1718308800000  18916.0  \n",
       "3859937  1718395200000  42849.0  "
      ]
     },
     "execution_count": 131,
     "metadata": {},
     "output_type": "execute_result"
    }
   ],
   "source": [
    "test[test.ticker == 'STRR'].tail(10)"
   ]
  },
  {
   "cell_type": "code",
   "execution_count": 1,
   "metadata": {},
   "outputs": [
    {
     "data": {
      "text/plain": [
       "5.063743595853687"
      ]
     },
     "execution_count": 1,
     "metadata": {},
     "output_type": "execute_result"
    }
   ],
   "source": [
    "4.2500 / 0.8393"
   ]
  },
  {
   "cell_type": "code",
   "execution_count": 138,
   "metadata": {},
   "outputs": [
    {
     "data": {
      "text/html": [
       "<div>\n",
       "<style scoped>\n",
       "    .dataframe tbody tr th:only-of-type {\n",
       "        vertical-align: middle;\n",
       "    }\n",
       "\n",
       "    .dataframe tbody tr th {\n",
       "        vertical-align: top;\n",
       "    }\n",
       "\n",
       "    .dataframe thead th {\n",
       "        text-align: right;\n",
       "    }\n",
       "</style>\n",
       "<table border=\"1\" class=\"dataframe\">\n",
       "  <thead>\n",
       "    <tr style=\"text-align: right;\">\n",
       "      <th></th>\n",
       "      <th>v</th>\n",
       "      <th>vw</th>\n",
       "      <th>o</th>\n",
       "      <th>c</th>\n",
       "      <th>h</th>\n",
       "      <th>l</th>\n",
       "      <th>t</th>\n",
       "      <th>n</th>\n",
       "    </tr>\n",
       "  </thead>\n",
       "  <tbody>\n",
       "    <tr>\n",
       "      <th>0</th>\n",
       "      <td>13991.6</td>\n",
       "      <td>4.1965</td>\n",
       "      <td>4.2500</td>\n",
       "      <td>4.2400</td>\n",
       "      <td>4.2550</td>\n",
       "      <td>4.1005</td>\n",
       "      <td>1717387200000</td>\n",
       "      <td>244</td>\n",
       "    </tr>\n",
       "    <tr>\n",
       "      <th>1</th>\n",
       "      <td>16194.0</td>\n",
       "      <td>4.1660</td>\n",
       "      <td>4.1500</td>\n",
       "      <td>4.2000</td>\n",
       "      <td>4.2400</td>\n",
       "      <td>4.1245</td>\n",
       "      <td>1717473600000</td>\n",
       "      <td>166</td>\n",
       "    </tr>\n",
       "    <tr>\n",
       "      <th>2</th>\n",
       "      <td>21491.0</td>\n",
       "      <td>4.1540</td>\n",
       "      <td>4.1995</td>\n",
       "      <td>4.1753</td>\n",
       "      <td>4.1995</td>\n",
       "      <td>4.1250</td>\n",
       "      <td>1717560000000</td>\n",
       "      <td>210</td>\n",
       "    </tr>\n",
       "    <tr>\n",
       "      <th>3</th>\n",
       "      <td>2690.6</td>\n",
       "      <td>4.1965</td>\n",
       "      <td>4.1495</td>\n",
       "      <td>4.2000</td>\n",
       "      <td>4.2450</td>\n",
       "      <td>4.1495</td>\n",
       "      <td>1717646400000</td>\n",
       "      <td>92</td>\n",
       "    </tr>\n",
       "    <tr>\n",
       "      <th>4</th>\n",
       "      <td>2645.8</td>\n",
       "      <td>4.2215</td>\n",
       "      <td>4.3500</td>\n",
       "      <td>4.1255</td>\n",
       "      <td>4.3500</td>\n",
       "      <td>4.1000</td>\n",
       "      <td>1717732800000</td>\n",
       "      <td>56</td>\n",
       "    </tr>\n",
       "    <tr>\n",
       "      <th>5</th>\n",
       "      <td>965.8</td>\n",
       "      <td>4.2030</td>\n",
       "      <td>4.3500</td>\n",
       "      <td>4.1550</td>\n",
       "      <td>4.3500</td>\n",
       "      <td>4.1265</td>\n",
       "      <td>1717992000000</td>\n",
       "      <td>59</td>\n",
       "    </tr>\n",
       "    <tr>\n",
       "      <th>6</th>\n",
       "      <td>5349.6</td>\n",
       "      <td>4.1810</td>\n",
       "      <td>4.1775</td>\n",
       "      <td>4.1980</td>\n",
       "      <td>4.2000</td>\n",
       "      <td>4.1550</td>\n",
       "      <td>1718078400000</td>\n",
       "      <td>96</td>\n",
       "    </tr>\n",
       "    <tr>\n",
       "      <th>7</th>\n",
       "      <td>47165.0</td>\n",
       "      <td>4.1610</td>\n",
       "      <td>4.1500</td>\n",
       "      <td>4.2225</td>\n",
       "      <td>4.3000</td>\n",
       "      <td>4.1000</td>\n",
       "      <td>1718164800000</td>\n",
       "      <td>41092</td>\n",
       "    </tr>\n",
       "    <tr>\n",
       "      <th>8</th>\n",
       "      <td>38172.2</td>\n",
       "      <td>4.0575</td>\n",
       "      <td>4.1700</td>\n",
       "      <td>4.1620</td>\n",
       "      <td>4.2465</td>\n",
       "      <td>3.8050</td>\n",
       "      <td>1718251200000</td>\n",
       "      <td>18916</td>\n",
       "    </tr>\n",
       "    <tr>\n",
       "      <th>9</th>\n",
       "      <td>58309.2</td>\n",
       "      <td>4.0940</td>\n",
       "      <td>4.1170</td>\n",
       "      <td>4.1500</td>\n",
       "      <td>4.2500</td>\n",
       "      <td>3.9550</td>\n",
       "      <td>1718337600000</td>\n",
       "      <td>42849</td>\n",
       "    </tr>\n",
       "  </tbody>\n",
       "</table>\n",
       "</div>"
      ],
      "text/plain": [
       "         v      vw       o       c       h       l              t      n\n",
       "0  13991.6  4.1965  4.2500  4.2400  4.2550  4.1005  1717387200000    244\n",
       "1  16194.0  4.1660  4.1500  4.2000  4.2400  4.1245  1717473600000    166\n",
       "2  21491.0  4.1540  4.1995  4.1753  4.1995  4.1250  1717560000000    210\n",
       "3   2690.6  4.1965  4.1495  4.2000  4.2450  4.1495  1717646400000     92\n",
       "4   2645.8  4.2215  4.3500  4.1255  4.3500  4.1000  1717732800000     56\n",
       "5    965.8  4.2030  4.3500  4.1550  4.3500  4.1265  1717992000000     59\n",
       "6   5349.6  4.1810  4.1775  4.1980  4.2000  4.1550  1718078400000     96\n",
       "7  47165.0  4.1610  4.1500  4.2225  4.3000  4.1000  1718164800000  41092\n",
       "8  38172.2  4.0575  4.1700  4.1620  4.2465  3.8050  1718251200000  18916\n",
       "9  58309.2  4.0940  4.1170  4.1500  4.2500  3.9550  1718337600000  42849"
      ]
     },
     "execution_count": 138,
     "metadata": {},
     "output_type": "execute_result"
    }
   ],
   "source": [
    "strr.tail(10)"
   ]
  },
  {
   "cell_type": "code",
   "execution_count": 132,
   "metadata": {},
   "outputs": [
    {
     "data": {
      "text/html": [
       "<div>\n",
       "<style scoped>\n",
       "    .dataframe tbody tr th:only-of-type {\n",
       "        vertical-align: middle;\n",
       "    }\n",
       "\n",
       "    .dataframe tbody tr th {\n",
       "        vertical-align: top;\n",
       "    }\n",
       "\n",
       "    .dataframe thead th {\n",
       "        text-align: right;\n",
       "    }\n",
       "</style>\n",
       "<table border=\"1\" class=\"dataframe\">\n",
       "  <thead>\n",
       "    <tr style=\"text-align: right;\">\n",
       "      <th></th>\n",
       "      <th>ticker</th>\n",
       "      <th>volume</th>\n",
       "      <th>vw</th>\n",
       "      <th>open</th>\n",
       "      <th>close</th>\n",
       "      <th>high</th>\n",
       "      <th>low</th>\n",
       "      <th>time</th>\n",
       "      <th>n</th>\n",
       "    </tr>\n",
       "  </thead>\n",
       "  <tbody>\n",
       "    <tr>\n",
       "      <th>12581560</th>\n",
       "      <td>STRR</td>\n",
       "      <td>69958.0</td>\n",
       "      <td>0.8393</td>\n",
       "      <td>0.850000</td>\n",
       "      <td>0.84800</td>\n",
       "      <td>0.8510</td>\n",
       "      <td>0.820100</td>\n",
       "      <td>1717444800000</td>\n",
       "      <td>244.0</td>\n",
       "    </tr>\n",
       "    <tr>\n",
       "      <th>12592533</th>\n",
       "      <td>STRR</td>\n",
       "      <td>80970.0</td>\n",
       "      <td>0.8332</td>\n",
       "      <td>0.829999</td>\n",
       "      <td>0.84000</td>\n",
       "      <td>0.8480</td>\n",
       "      <td>0.824899</td>\n",
       "      <td>1717531200000</td>\n",
       "      <td>166.0</td>\n",
       "    </tr>\n",
       "    <tr>\n",
       "      <th>12604112</th>\n",
       "      <td>STRR</td>\n",
       "      <td>107455.0</td>\n",
       "      <td>0.8308</td>\n",
       "      <td>0.839900</td>\n",
       "      <td>0.83505</td>\n",
       "      <td>0.8399</td>\n",
       "      <td>0.824999</td>\n",
       "      <td>1717617600000</td>\n",
       "      <td>210.0</td>\n",
       "    </tr>\n",
       "    <tr>\n",
       "      <th>12611049</th>\n",
       "      <td>STRR</td>\n",
       "      <td>13453.0</td>\n",
       "      <td>0.8393</td>\n",
       "      <td>0.829900</td>\n",
       "      <td>0.84000</td>\n",
       "      <td>0.8490</td>\n",
       "      <td>0.829900</td>\n",
       "      <td>1717704000000</td>\n",
       "      <td>92.0</td>\n",
       "    </tr>\n",
       "    <tr>\n",
       "      <th>12622225</th>\n",
       "      <td>STRR</td>\n",
       "      <td>13229.0</td>\n",
       "      <td>0.8443</td>\n",
       "      <td>0.870000</td>\n",
       "      <td>0.82510</td>\n",
       "      <td>0.8700</td>\n",
       "      <td>0.820000</td>\n",
       "      <td>1717790400000</td>\n",
       "      <td>56.0</td>\n",
       "    </tr>\n",
       "    <tr>\n",
       "      <th>12627322</th>\n",
       "      <td>STRR</td>\n",
       "      <td>4829.0</td>\n",
       "      <td>0.8406</td>\n",
       "      <td>0.870000</td>\n",
       "      <td>0.83100</td>\n",
       "      <td>0.8700</td>\n",
       "      <td>0.825300</td>\n",
       "      <td>1718049600000</td>\n",
       "      <td>59.0</td>\n",
       "    </tr>\n",
       "    <tr>\n",
       "      <th>12645428</th>\n",
       "      <td>STRR</td>\n",
       "      <td>26748.0</td>\n",
       "      <td>0.8362</td>\n",
       "      <td>0.835500</td>\n",
       "      <td>0.83960</td>\n",
       "      <td>0.8400</td>\n",
       "      <td>0.831000</td>\n",
       "      <td>1718136000000</td>\n",
       "      <td>96.0</td>\n",
       "    </tr>\n",
       "    <tr>\n",
       "      <th>12648754</th>\n",
       "      <td>STRR</td>\n",
       "      <td>235825.0</td>\n",
       "      <td>0.8322</td>\n",
       "      <td>0.830000</td>\n",
       "      <td>0.84450</td>\n",
       "      <td>0.8600</td>\n",
       "      <td>0.820000</td>\n",
       "      <td>1718222400000</td>\n",
       "      <td>41092.0</td>\n",
       "    </tr>\n",
       "    <tr>\n",
       "      <th>12658972</th>\n",
       "      <td>STRR</td>\n",
       "      <td>190861.0</td>\n",
       "      <td>0.8115</td>\n",
       "      <td>0.834000</td>\n",
       "      <td>0.83240</td>\n",
       "      <td>0.8493</td>\n",
       "      <td>0.761000</td>\n",
       "      <td>1718308800000</td>\n",
       "      <td>18916.0</td>\n",
       "    </tr>\n",
       "    <tr>\n",
       "      <th>12669561</th>\n",
       "      <td>STRR</td>\n",
       "      <td>120992.0</td>\n",
       "      <td>0.8072</td>\n",
       "      <td>0.823400</td>\n",
       "      <td>0.80570</td>\n",
       "      <td>0.8500</td>\n",
       "      <td>0.791000</td>\n",
       "      <td>1718395200000</td>\n",
       "      <td>14598.0</td>\n",
       "    </tr>\n",
       "  </tbody>\n",
       "</table>\n",
       "</div>"
      ],
      "text/plain": [
       "         ticker    volume      vw      open    close    high       low  \\\n",
       "12581560   STRR   69958.0  0.8393  0.850000  0.84800  0.8510  0.820100   \n",
       "12592533   STRR   80970.0  0.8332  0.829999  0.84000  0.8480  0.824899   \n",
       "12604112   STRR  107455.0  0.8308  0.839900  0.83505  0.8399  0.824999   \n",
       "12611049   STRR   13453.0  0.8393  0.829900  0.84000  0.8490  0.829900   \n",
       "12622225   STRR   13229.0  0.8443  0.870000  0.82510  0.8700  0.820000   \n",
       "12627322   STRR    4829.0  0.8406  0.870000  0.83100  0.8700  0.825300   \n",
       "12645428   STRR   26748.0  0.8362  0.835500  0.83960  0.8400  0.831000   \n",
       "12648754   STRR  235825.0  0.8322  0.830000  0.84450  0.8600  0.820000   \n",
       "12658972   STRR  190861.0  0.8115  0.834000  0.83240  0.8493  0.761000   \n",
       "12669561   STRR  120992.0  0.8072  0.823400  0.80570  0.8500  0.791000   \n",
       "\n",
       "                   time        n  \n",
       "12581560  1717444800000    244.0  \n",
       "12592533  1717531200000    166.0  \n",
       "12604112  1717617600000    210.0  \n",
       "12611049  1717704000000     92.0  \n",
       "12622225  1717790400000     56.0  \n",
       "12627322  1718049600000     59.0  \n",
       "12645428  1718136000000     96.0  \n",
       "12648754  1718222400000  41092.0  \n",
       "12658972  1718308800000  18916.0  \n",
       "12669561  1718395200000  14598.0  "
      ]
     },
     "execution_count": 132,
     "metadata": {},
     "output_type": "execute_result"
    }
   ],
   "source": [
    "all2[all2.ticker == 'STRR'].tail(10)"
   ]
  },
  {
   "cell_type": "code",
   "execution_count": 140,
   "metadata": {},
   "outputs": [
    {
     "data": {
      "text/html": [
       "<div>\n",
       "<style scoped>\n",
       "    .dataframe tbody tr th:only-of-type {\n",
       "        vertical-align: middle;\n",
       "    }\n",
       "\n",
       "    .dataframe tbody tr th {\n",
       "        vertical-align: top;\n",
       "    }\n",
       "\n",
       "    .dataframe thead th {\n",
       "        text-align: right;\n",
       "    }\n",
       "</style>\n",
       "<table border=\"1\" class=\"dataframe\">\n",
       "  <thead>\n",
       "    <tr style=\"text-align: right;\">\n",
       "      <th></th>\n",
       "      <th>ticker</th>\n",
       "      <th>volume</th>\n",
       "      <th>vw</th>\n",
       "      <th>open</th>\n",
       "      <th>close</th>\n",
       "      <th>high</th>\n",
       "      <th>low</th>\n",
       "      <th>time</th>\n",
       "      <th>n</th>\n",
       "    </tr>\n",
       "  </thead>\n",
       "  <tbody>\n",
       "    <tr>\n",
       "      <th>875971</th>\n",
       "      <td>AIR</td>\n",
       "      <td>107455.0</td>\n",
       "      <td>43.4751</td>\n",
       "      <td>44.0800</td>\n",
       "      <td>43.350000</td>\n",
       "      <td>44.2900</td>\n",
       "      <td>43.140000</td>\n",
       "      <td>1573246800000</td>\n",
       "      <td>1889.0</td>\n",
       "    </tr>\n",
       "    <tr>\n",
       "      <th>1231422</th>\n",
       "      <td>PML</td>\n",
       "      <td>107455.0</td>\n",
       "      <td>15.6112</td>\n",
       "      <td>15.6500</td>\n",
       "      <td>15.590000</td>\n",
       "      <td>15.6500</td>\n",
       "      <td>15.550000</td>\n",
       "      <td>1578690000000</td>\n",
       "      <td>296.0</td>\n",
       "    </tr>\n",
       "    <tr>\n",
       "      <th>3564307</th>\n",
       "      <td>GIXr</td>\n",
       "      <td>107455.0</td>\n",
       "      <td>0.5091</td>\n",
       "      <td>0.5500</td>\n",
       "      <td>0.484599</td>\n",
       "      <td>0.6000</td>\n",
       "      <td>0.460400</td>\n",
       "      <td>1611867600000</td>\n",
       "      <td>139.0</td>\n",
       "    </tr>\n",
       "    <tr>\n",
       "      <th>4303389</th>\n",
       "      <td>VEI</td>\n",
       "      <td>107455.0</td>\n",
       "      <td>13.0496</td>\n",
       "      <td>12.7600</td>\n",
       "      <td>13.060000</td>\n",
       "      <td>13.1573</td>\n",
       "      <td>12.760000</td>\n",
       "      <td>1621022400000</td>\n",
       "      <td>1371.0</td>\n",
       "    </tr>\n",
       "    <tr>\n",
       "      <th>4489146</th>\n",
       "      <td>TGS</td>\n",
       "      <td>107455.0</td>\n",
       "      <td>5.6453</td>\n",
       "      <td>5.7000</td>\n",
       "      <td>5.650000</td>\n",
       "      <td>5.7200</td>\n",
       "      <td>5.570000</td>\n",
       "      <td>1623355200000</td>\n",
       "      <td>798.0</td>\n",
       "    </tr>\n",
       "    <tr>\n",
       "      <th>5272873</th>\n",
       "      <td>UNCY</td>\n",
       "      <td>107455.0</td>\n",
       "      <td>2.8230</td>\n",
       "      <td>2.8300</td>\n",
       "      <td>2.780000</td>\n",
       "      <td>2.8700</td>\n",
       "      <td>2.750000</td>\n",
       "      <td>1632772800000</td>\n",
       "      <td>436.0</td>\n",
       "    </tr>\n",
       "    <tr>\n",
       "      <th>6366123</th>\n",
       "      <td>YYY</td>\n",
       "      <td>107455.0</td>\n",
       "      <td>15.3362</td>\n",
       "      <td>15.2400</td>\n",
       "      <td>15.350000</td>\n",
       "      <td>15.3900</td>\n",
       "      <td>15.240000</td>\n",
       "      <td>1645045200000</td>\n",
       "      <td>498.0</td>\n",
       "    </tr>\n",
       "    <tr>\n",
       "      <th>8736181</th>\n",
       "      <td>ATMVU</td>\n",
       "      <td>107455.0</td>\n",
       "      <td>10.0510</td>\n",
       "      <td>10.0400</td>\n",
       "      <td>10.040000</td>\n",
       "      <td>10.0700</td>\n",
       "      <td>10.040000</td>\n",
       "      <td>1671656400000</td>\n",
       "      <td>450.0</td>\n",
       "    </tr>\n",
       "    <tr>\n",
       "      <th>9814011</th>\n",
       "      <td>ENTF</td>\n",
       "      <td>107455.0</td>\n",
       "      <td>10.5700</td>\n",
       "      <td>10.5700</td>\n",
       "      <td>10.570000</td>\n",
       "      <td>10.5800</td>\n",
       "      <td>10.560000</td>\n",
       "      <td>1684267200000</td>\n",
       "      <td>14.0</td>\n",
       "    </tr>\n",
       "    <tr>\n",
       "      <th>10479085</th>\n",
       "      <td>FEM</td>\n",
       "      <td>107455.0</td>\n",
       "      <td>21.4562</td>\n",
       "      <td>21.4000</td>\n",
       "      <td>21.400000</td>\n",
       "      <td>21.6300</td>\n",
       "      <td>21.390000</td>\n",
       "      <td>1692216000000</td>\n",
       "      <td>461.0</td>\n",
       "    </tr>\n",
       "    <tr>\n",
       "      <th>10675355</th>\n",
       "      <td>ETG</td>\n",
       "      <td>107455.0</td>\n",
       "      <td>16.2564</td>\n",
       "      <td>16.3300</td>\n",
       "      <td>16.200000</td>\n",
       "      <td>16.3764</td>\n",
       "      <td>16.150000</td>\n",
       "      <td>1694635200000</td>\n",
       "      <td>704.0</td>\n",
       "    </tr>\n",
       "    <tr>\n",
       "      <th>12604112</th>\n",
       "      <td>STRR</td>\n",
       "      <td>107455.0</td>\n",
       "      <td>0.8308</td>\n",
       "      <td>0.8399</td>\n",
       "      <td>0.835050</td>\n",
       "      <td>0.8399</td>\n",
       "      <td>0.824999</td>\n",
       "      <td>1717617600000</td>\n",
       "      <td>210.0</td>\n",
       "    </tr>\n",
       "  </tbody>\n",
       "</table>\n",
       "</div>"
      ],
      "text/plain": [
       "         ticker    volume       vw     open      close     high        low  \\\n",
       "875971      AIR  107455.0  43.4751  44.0800  43.350000  44.2900  43.140000   \n",
       "1231422     PML  107455.0  15.6112  15.6500  15.590000  15.6500  15.550000   \n",
       "3564307    GIXr  107455.0   0.5091   0.5500   0.484599   0.6000   0.460400   \n",
       "4303389     VEI  107455.0  13.0496  12.7600  13.060000  13.1573  12.760000   \n",
       "4489146     TGS  107455.0   5.6453   5.7000   5.650000   5.7200   5.570000   \n",
       "5272873    UNCY  107455.0   2.8230   2.8300   2.780000   2.8700   2.750000   \n",
       "6366123     YYY  107455.0  15.3362  15.2400  15.350000  15.3900  15.240000   \n",
       "8736181   ATMVU  107455.0  10.0510  10.0400  10.040000  10.0700  10.040000   \n",
       "9814011    ENTF  107455.0  10.5700  10.5700  10.570000  10.5800  10.560000   \n",
       "10479085    FEM  107455.0  21.4562  21.4000  21.400000  21.6300  21.390000   \n",
       "10675355    ETG  107455.0  16.2564  16.3300  16.200000  16.3764  16.150000   \n",
       "12604112   STRR  107455.0   0.8308   0.8399   0.835050   0.8399   0.824999   \n",
       "\n",
       "                   time       n  \n",
       "875971    1573246800000  1889.0  \n",
       "1231422   1578690000000   296.0  \n",
       "3564307   1611867600000   139.0  \n",
       "4303389   1621022400000  1371.0  \n",
       "4489146   1623355200000   798.0  \n",
       "5272873   1632772800000   436.0  \n",
       "6366123   1645045200000   498.0  \n",
       "8736181   1671656400000   450.0  \n",
       "9814011   1684267200000    14.0  \n",
       "10479085  1692216000000   461.0  \n",
       "10675355  1694635200000   704.0  \n",
       "12604112  1717617600000   210.0  "
      ]
     },
     "execution_count": 140,
     "metadata": {},
     "output_type": "execute_result"
    }
   ],
   "source": [
    "all[all.volume == 107455.0]"
   ]
  },
  {
   "cell_type": "code",
   "execution_count": 142,
   "metadata": {},
   "outputs": [],
   "source": [
    "df = pd.read_csv('all_dailies.csv')"
   ]
  },
  {
   "cell_type": "code",
   "execution_count": 143,
   "metadata": {},
   "outputs": [
    {
     "data": {
      "text/html": [
       "<div>\n",
       "<style scoped>\n",
       "    .dataframe tbody tr th:only-of-type {\n",
       "        vertical-align: middle;\n",
       "    }\n",
       "\n",
       "    .dataframe tbody tr th {\n",
       "        vertical-align: top;\n",
       "    }\n",
       "\n",
       "    .dataframe thead th {\n",
       "        text-align: right;\n",
       "    }\n",
       "</style>\n",
       "<table border=\"1\" class=\"dataframe\">\n",
       "  <thead>\n",
       "    <tr style=\"text-align: right;\">\n",
       "      <th></th>\n",
       "      <th>ticker</th>\n",
       "      <th>volume</th>\n",
       "      <th>open</th>\n",
       "      <th>close</th>\n",
       "      <th>high</th>\n",
       "      <th>low</th>\n",
       "      <th>window_start</th>\n",
       "      <th>transactions</th>\n",
       "      <th>date</th>\n",
       "    </tr>\n",
       "  </thead>\n",
       "  <tbody>\n",
       "    <tr>\n",
       "      <th>12882391</th>\n",
       "      <td>STRR</td>\n",
       "      <td>20653</td>\n",
       "      <td>0.9000</td>\n",
       "      <td>0.879900</td>\n",
       "      <td>0.910000</td>\n",
       "      <td>0.8799</td>\n",
       "      <td>1715918400000000000</td>\n",
       "      <td>111</td>\n",
       "      <td>2024-05-17</td>\n",
       "    </tr>\n",
       "    <tr>\n",
       "      <th>12892895</th>\n",
       "      <td>STRR</td>\n",
       "      <td>166319</td>\n",
       "      <td>0.9301</td>\n",
       "      <td>0.907100</td>\n",
       "      <td>0.950000</td>\n",
       "      <td>0.8799</td>\n",
       "      <td>1716177600000000000</td>\n",
       "      <td>394</td>\n",
       "      <td>2024-05-20</td>\n",
       "    </tr>\n",
       "    <tr>\n",
       "      <th>12903401</th>\n",
       "      <td>STRR</td>\n",
       "      <td>61911</td>\n",
       "      <td>0.9200</td>\n",
       "      <td>0.890000</td>\n",
       "      <td>0.950001</td>\n",
       "      <td>0.8900</td>\n",
       "      <td>1716264000000000000</td>\n",
       "      <td>138</td>\n",
       "      <td>2024-05-21</td>\n",
       "    </tr>\n",
       "    <tr>\n",
       "      <th>12913961</th>\n",
       "      <td>STRR</td>\n",
       "      <td>7208</td>\n",
       "      <td>0.9100</td>\n",
       "      <td>0.900000</td>\n",
       "      <td>0.910100</td>\n",
       "      <td>0.9000</td>\n",
       "      <td>1716350400000000000</td>\n",
       "      <td>79</td>\n",
       "      <td>2024-05-22</td>\n",
       "    </tr>\n",
       "    <tr>\n",
       "      <th>12924480</th>\n",
       "      <td>STRR</td>\n",
       "      <td>9387</td>\n",
       "      <td>0.9000</td>\n",
       "      <td>0.910000</td>\n",
       "      <td>0.939900</td>\n",
       "      <td>0.8900</td>\n",
       "      <td>1716436800000000000</td>\n",
       "      <td>85</td>\n",
       "      <td>2024-05-23</td>\n",
       "    </tr>\n",
       "    <tr>\n",
       "      <th>12934962</th>\n",
       "      <td>STRR</td>\n",
       "      <td>7453</td>\n",
       "      <td>0.9000</td>\n",
       "      <td>0.900000</td>\n",
       "      <td>0.940000</td>\n",
       "      <td>0.8905</td>\n",
       "      <td>1716523200000000000</td>\n",
       "      <td>120</td>\n",
       "      <td>2024-05-24</td>\n",
       "    </tr>\n",
       "    <tr>\n",
       "      <th>12945483</th>\n",
       "      <td>STRR</td>\n",
       "      <td>27413</td>\n",
       "      <td>0.9100</td>\n",
       "      <td>0.890000</td>\n",
       "      <td>0.910000</td>\n",
       "      <td>0.8900</td>\n",
       "      <td>1716868800000000000</td>\n",
       "      <td>137</td>\n",
       "      <td>2024-05-28</td>\n",
       "    </tr>\n",
       "    <tr>\n",
       "      <th>12955988</th>\n",
       "      <td>STRR</td>\n",
       "      <td>14054</td>\n",
       "      <td>0.9001</td>\n",
       "      <td>0.889401</td>\n",
       "      <td>0.900100</td>\n",
       "      <td>0.8894</td>\n",
       "      <td>1716955200000000000</td>\n",
       "      <td>53</td>\n",
       "      <td>2024-05-29</td>\n",
       "    </tr>\n",
       "    <tr>\n",
       "      <th>12966466</th>\n",
       "      <td>STRR</td>\n",
       "      <td>29199</td>\n",
       "      <td>0.8800</td>\n",
       "      <td>0.870000</td>\n",
       "      <td>0.899100</td>\n",
       "      <td>0.8700</td>\n",
       "      <td>1717041600000000000</td>\n",
       "      <td>161</td>\n",
       "      <td>2024-05-30</td>\n",
       "    </tr>\n",
       "    <tr>\n",
       "      <th>12976976</th>\n",
       "      <td>STRR</td>\n",
       "      <td>52171</td>\n",
       "      <td>0.8700</td>\n",
       "      <td>0.860000</td>\n",
       "      <td>0.899900</td>\n",
       "      <td>0.8600</td>\n",
       "      <td>1717128000000000000</td>\n",
       "      <td>182</td>\n",
       "      <td>2024-05-31</td>\n",
       "    </tr>\n",
       "  </tbody>\n",
       "</table>\n",
       "</div>"
      ],
      "text/plain": [
       "         ticker  volume    open     close      high     low  \\\n",
       "12882391   STRR   20653  0.9000  0.879900  0.910000  0.8799   \n",
       "12892895   STRR  166319  0.9301  0.907100  0.950000  0.8799   \n",
       "12903401   STRR   61911  0.9200  0.890000  0.950001  0.8900   \n",
       "12913961   STRR    7208  0.9100  0.900000  0.910100  0.9000   \n",
       "12924480   STRR    9387  0.9000  0.910000  0.939900  0.8900   \n",
       "12934962   STRR    7453  0.9000  0.900000  0.940000  0.8905   \n",
       "12945483   STRR   27413  0.9100  0.890000  0.910000  0.8900   \n",
       "12955988   STRR   14054  0.9001  0.889401  0.900100  0.8894   \n",
       "12966466   STRR   29199  0.8800  0.870000  0.899100  0.8700   \n",
       "12976976   STRR   52171  0.8700  0.860000  0.899900  0.8600   \n",
       "\n",
       "                 window_start  transactions        date  \n",
       "12882391  1715918400000000000           111  2024-05-17  \n",
       "12892895  1716177600000000000           394  2024-05-20  \n",
       "12903401  1716264000000000000           138  2024-05-21  \n",
       "12913961  1716350400000000000            79  2024-05-22  \n",
       "12924480  1716436800000000000            85  2024-05-23  \n",
       "12934962  1716523200000000000           120  2024-05-24  \n",
       "12945483  1716868800000000000           137  2024-05-28  \n",
       "12955988  1716955200000000000            53  2024-05-29  \n",
       "12966466  1717041600000000000           161  2024-05-30  \n",
       "12976976  1717128000000000000           182  2024-05-31  "
      ]
     },
     "execution_count": 143,
     "metadata": {},
     "output_type": "execute_result"
    }
   ],
   "source": [
    "df[df.ticker == 'STRR'].tail(10)"
   ]
  },
  {
   "cell_type": "code",
   "execution_count": 133,
   "metadata": {},
   "outputs": [
    {
     "data": {
      "text/plain": [
       "'2024-06-03'"
      ]
     },
     "execution_count": 133,
     "metadata": {},
     "output_type": "execute_result"
    }
   ],
   "source": [
    "date_from_timestamp(1717444800000)"
   ]
  },
  {
   "cell_type": "code",
   "execution_count": 146,
   "metadata": {},
   "outputs": [],
   "source": [
    "strr = pd.DataFrame(single_stock('STRR', '2021-06-03', '2024-06-14')['results'])"
   ]
  },
  {
   "cell_type": "code",
   "execution_count": 149,
   "metadata": {},
   "outputs": [
    {
     "data": {
      "text/html": [
       "<div>\n",
       "<style scoped>\n",
       "    .dataframe tbody tr th:only-of-type {\n",
       "        vertical-align: middle;\n",
       "    }\n",
       "\n",
       "    .dataframe tbody tr th {\n",
       "        vertical-align: top;\n",
       "    }\n",
       "\n",
       "    .dataframe thead th {\n",
       "        text-align: right;\n",
       "    }\n",
       "</style>\n",
       "<table border=\"1\" class=\"dataframe\">\n",
       "  <thead>\n",
       "    <tr style=\"text-align: right;\">\n",
       "      <th></th>\n",
       "      <th>ticker</th>\n",
       "      <th>volume</th>\n",
       "      <th>vw</th>\n",
       "      <th>open</th>\n",
       "      <th>close</th>\n",
       "      <th>high</th>\n",
       "      <th>low</th>\n",
       "      <th>time</th>\n",
       "      <th>n</th>\n",
       "    </tr>\n",
       "  </thead>\n",
       "  <tbody>\n",
       "    <tr>\n",
       "      <th>3263</th>\n",
       "      <td>CPIX</td>\n",
       "      <td>17222.0</td>\n",
       "      <td>2.3182</td>\n",
       "      <td>2.2500</td>\n",
       "      <td>2.31</td>\n",
       "      <td>2.3625</td>\n",
       "      <td>2.2400</td>\n",
       "      <td>1672779600000</td>\n",
       "      <td>92.0</td>\n",
       "    </tr>\n",
       "    <tr>\n",
       "      <th>13983</th>\n",
       "      <td>CPIX</td>\n",
       "      <td>17871.0</td>\n",
       "      <td>2.3539</td>\n",
       "      <td>2.3100</td>\n",
       "      <td>2.37</td>\n",
       "      <td>2.3799</td>\n",
       "      <td>2.3000</td>\n",
       "      <td>1672866000000</td>\n",
       "      <td>77.0</td>\n",
       "    </tr>\n",
       "    <tr>\n",
       "      <th>24454</th>\n",
       "      <td>CPIX</td>\n",
       "      <td>6630.0</td>\n",
       "      <td>2.3640</td>\n",
       "      <td>2.3100</td>\n",
       "      <td>2.41</td>\n",
       "      <td>2.4244</td>\n",
       "      <td>2.2667</td>\n",
       "      <td>1672952400000</td>\n",
       "      <td>44.0</td>\n",
       "    </tr>\n",
       "    <tr>\n",
       "      <th>36092</th>\n",
       "      <td>CPIX</td>\n",
       "      <td>8544.0</td>\n",
       "      <td>2.4399</td>\n",
       "      <td>2.2400</td>\n",
       "      <td>2.43</td>\n",
       "      <td>2.4800</td>\n",
       "      <td>2.2400</td>\n",
       "      <td>1673038800000</td>\n",
       "      <td>82.0</td>\n",
       "    </tr>\n",
       "    <tr>\n",
       "      <th>47374</th>\n",
       "      <td>CPIX</td>\n",
       "      <td>35111.0</td>\n",
       "      <td>2.4870</td>\n",
       "      <td>2.4100</td>\n",
       "      <td>2.51</td>\n",
       "      <td>2.5500</td>\n",
       "      <td>2.4100</td>\n",
       "      <td>1673298000000</td>\n",
       "      <td>114.0</td>\n",
       "    </tr>\n",
       "    <tr>\n",
       "      <th>...</th>\n",
       "      <td>...</td>\n",
       "      <td>...</td>\n",
       "      <td>...</td>\n",
       "      <td>...</td>\n",
       "      <td>...</td>\n",
       "      <td>...</td>\n",
       "      <td>...</td>\n",
       "      <td>...</td>\n",
       "      <td>...</td>\n",
       "    </tr>\n",
       "    <tr>\n",
       "      <th>3821981</th>\n",
       "      <td>CPIX</td>\n",
       "      <td>8760.0</td>\n",
       "      <td>1.4757</td>\n",
       "      <td>1.3800</td>\n",
       "      <td>1.42</td>\n",
       "      <td>1.5508</td>\n",
       "      <td>1.3800</td>\n",
       "      <td>1718049600000</td>\n",
       "      <td>128.0</td>\n",
       "    </tr>\n",
       "    <tr>\n",
       "      <th>3835528</th>\n",
       "      <td>CPIX</td>\n",
       "      <td>2118.0</td>\n",
       "      <td>1.4921</td>\n",
       "      <td>1.4400</td>\n",
       "      <td>1.53</td>\n",
       "      <td>1.5899</td>\n",
       "      <td>1.4400</td>\n",
       "      <td>1718136000000</td>\n",
       "      <td>49.0</td>\n",
       "    </tr>\n",
       "    <tr>\n",
       "      <th>3846739</th>\n",
       "      <td>CPIX</td>\n",
       "      <td>1660.0</td>\n",
       "      <td>1.5256</td>\n",
       "      <td>1.4600</td>\n",
       "      <td>1.51</td>\n",
       "      <td>1.5900</td>\n",
       "      <td>1.4600</td>\n",
       "      <td>1718222400000</td>\n",
       "      <td>61.0</td>\n",
       "    </tr>\n",
       "    <tr>\n",
       "      <th>3856164</th>\n",
       "      <td>CPIX</td>\n",
       "      <td>3691.0</td>\n",
       "      <td>1.5321</td>\n",
       "      <td>1.4600</td>\n",
       "      <td>1.55</td>\n",
       "      <td>1.5500</td>\n",
       "      <td>1.4600</td>\n",
       "      <td>1718308800000</td>\n",
       "      <td>190.0</td>\n",
       "    </tr>\n",
       "    <tr>\n",
       "      <th>3869403</th>\n",
       "      <td>CPIX</td>\n",
       "      <td>2328.0</td>\n",
       "      <td>1.4971</td>\n",
       "      <td>1.4953</td>\n",
       "      <td>1.51</td>\n",
       "      <td>1.5137</td>\n",
       "      <td>1.4600</td>\n",
       "      <td>1718395200000</td>\n",
       "      <td>56.0</td>\n",
       "    </tr>\n",
       "  </tbody>\n",
       "</table>\n",
       "<p>363 rows × 9 columns</p>\n",
       "</div>"
      ],
      "text/plain": [
       "        ticker   volume      vw    open  close    high     low           time  \\\n",
       "3263      CPIX  17222.0  2.3182  2.2500   2.31  2.3625  2.2400  1672779600000   \n",
       "13983     CPIX  17871.0  2.3539  2.3100   2.37  2.3799  2.3000  1672866000000   \n",
       "24454     CPIX   6630.0  2.3640  2.3100   2.41  2.4244  2.2667  1672952400000   \n",
       "36092     CPIX   8544.0  2.4399  2.2400   2.43  2.4800  2.2400  1673038800000   \n",
       "47374     CPIX  35111.0  2.4870  2.4100   2.51  2.5500  2.4100  1673298000000   \n",
       "...        ...      ...     ...     ...    ...     ...     ...            ...   \n",
       "3821981   CPIX   8760.0  1.4757  1.3800   1.42  1.5508  1.3800  1718049600000   \n",
       "3835528   CPIX   2118.0  1.4921  1.4400   1.53  1.5899  1.4400  1718136000000   \n",
       "3846739   CPIX   1660.0  1.5256  1.4600   1.51  1.5900  1.4600  1718222400000   \n",
       "3856164   CPIX   3691.0  1.5321  1.4600   1.55  1.5500  1.4600  1718308800000   \n",
       "3869403   CPIX   2328.0  1.4971  1.4953   1.51  1.5137  1.4600  1718395200000   \n",
       "\n",
       "             n  \n",
       "3263      92.0  \n",
       "13983     77.0  \n",
       "24454     44.0  \n",
       "36092     82.0  \n",
       "47374    114.0  \n",
       "...        ...  \n",
       "3821981  128.0  \n",
       "3835528   49.0  \n",
       "3846739   61.0  \n",
       "3856164  190.0  \n",
       "3869403   56.0  \n",
       "\n",
       "[363 rows x 9 columns]"
      ]
     },
     "execution_count": 149,
     "metadata": {},
     "output_type": "execute_result"
    }
   ],
   "source": [
    "test[test.ticker=='CPIX']"
   ]
  },
  {
   "cell_type": "code",
   "execution_count": 151,
   "metadata": {},
   "outputs": [
    {
     "data": {
      "text/plain": [
       "'2024-06-14'"
      ]
     },
     "execution_count": 151,
     "metadata": {},
     "output_type": "execute_result"
    }
   ],
   "source": [
    "date_from_timestamp(1718395200000)"
   ]
  },
  {
   "cell_type": "code",
   "execution_count": 150,
   "metadata": {},
   "outputs": [
    {
     "data": {
      "text/html": [
       "<div>\n",
       "<style scoped>\n",
       "    .dataframe tbody tr th:only-of-type {\n",
       "        vertical-align: middle;\n",
       "    }\n",
       "\n",
       "    .dataframe tbody tr th {\n",
       "        vertical-align: top;\n",
       "    }\n",
       "\n",
       "    .dataframe thead th {\n",
       "        text-align: right;\n",
       "    }\n",
       "</style>\n",
       "<table border=\"1\" class=\"dataframe\">\n",
       "  <thead>\n",
       "    <tr style=\"text-align: right;\">\n",
       "      <th></th>\n",
       "      <th>ticker</th>\n",
       "      <th>volume</th>\n",
       "      <th>vw</th>\n",
       "      <th>open</th>\n",
       "      <th>close</th>\n",
       "      <th>high</th>\n",
       "      <th>low</th>\n",
       "      <th>time</th>\n",
       "      <th>n</th>\n",
       "    </tr>\n",
       "  </thead>\n",
       "  <tbody>\n",
       "    <tr>\n",
       "      <th>8818525</th>\n",
       "      <td>CPIX</td>\n",
       "      <td>17222.0</td>\n",
       "      <td>2.3182</td>\n",
       "      <td>2.2500</td>\n",
       "      <td>2.31</td>\n",
       "      <td>2.3625</td>\n",
       "      <td>2.2400</td>\n",
       "      <td>1672779600000</td>\n",
       "      <td>92.0</td>\n",
       "    </tr>\n",
       "    <tr>\n",
       "      <th>8828579</th>\n",
       "      <td>CPIX</td>\n",
       "      <td>17871.0</td>\n",
       "      <td>2.3539</td>\n",
       "      <td>2.3100</td>\n",
       "      <td>2.37</td>\n",
       "      <td>2.3799</td>\n",
       "      <td>2.3000</td>\n",
       "      <td>1672866000000</td>\n",
       "      <td>77.0</td>\n",
       "    </tr>\n",
       "    <tr>\n",
       "      <th>8839375</th>\n",
       "      <td>CPIX</td>\n",
       "      <td>6630.0</td>\n",
       "      <td>2.3640</td>\n",
       "      <td>2.3100</td>\n",
       "      <td>2.41</td>\n",
       "      <td>2.4244</td>\n",
       "      <td>2.2667</td>\n",
       "      <td>1672952400000</td>\n",
       "      <td>44.0</td>\n",
       "    </tr>\n",
       "    <tr>\n",
       "      <th>8847954</th>\n",
       "      <td>CPIX</td>\n",
       "      <td>8544.0</td>\n",
       "      <td>2.4399</td>\n",
       "      <td>2.2400</td>\n",
       "      <td>2.43</td>\n",
       "      <td>2.4800</td>\n",
       "      <td>2.2400</td>\n",
       "      <td>1673038800000</td>\n",
       "      <td>82.0</td>\n",
       "    </tr>\n",
       "    <tr>\n",
       "      <th>8861599</th>\n",
       "      <td>CPIX</td>\n",
       "      <td>35111.0</td>\n",
       "      <td>2.4870</td>\n",
       "      <td>2.4100</td>\n",
       "      <td>2.51</td>\n",
       "      <td>2.5500</td>\n",
       "      <td>2.4100</td>\n",
       "      <td>1673298000000</td>\n",
       "      <td>114.0</td>\n",
       "    </tr>\n",
       "    <tr>\n",
       "      <th>...</th>\n",
       "      <td>...</td>\n",
       "      <td>...</td>\n",
       "      <td>...</td>\n",
       "      <td>...</td>\n",
       "      <td>...</td>\n",
       "      <td>...</td>\n",
       "      <td>...</td>\n",
       "      <td>...</td>\n",
       "      <td>...</td>\n",
       "    </tr>\n",
       "    <tr>\n",
       "      <th>12625732</th>\n",
       "      <td>CPIX</td>\n",
       "      <td>1841.0</td>\n",
       "      <td>1.4105</td>\n",
       "      <td>1.4308</td>\n",
       "      <td>1.39</td>\n",
       "      <td>1.4308</td>\n",
       "      <td>1.3900</td>\n",
       "      <td>1717790400000</td>\n",
       "      <td>104.0</td>\n",
       "    </tr>\n",
       "    <tr>\n",
       "      <th>12631493</th>\n",
       "      <td>CPIX</td>\n",
       "      <td>8760.0</td>\n",
       "      <td>1.4757</td>\n",
       "      <td>1.3800</td>\n",
       "      <td>1.42</td>\n",
       "      <td>1.5508</td>\n",
       "      <td>1.3800</td>\n",
       "      <td>1718049600000</td>\n",
       "      <td>128.0</td>\n",
       "    </tr>\n",
       "    <tr>\n",
       "      <th>12645010</th>\n",
       "      <td>CPIX</td>\n",
       "      <td>2118.0</td>\n",
       "      <td>1.4921</td>\n",
       "      <td>1.4400</td>\n",
       "      <td>1.53</td>\n",
       "      <td>1.5899</td>\n",
       "      <td>1.4400</td>\n",
       "      <td>1718136000000</td>\n",
       "      <td>49.0</td>\n",
       "    </tr>\n",
       "    <tr>\n",
       "      <th>12656251</th>\n",
       "      <td>CPIX</td>\n",
       "      <td>1660.0</td>\n",
       "      <td>1.5256</td>\n",
       "      <td>1.4600</td>\n",
       "      <td>1.51</td>\n",
       "      <td>1.5900</td>\n",
       "      <td>1.4600</td>\n",
       "      <td>1718222400000</td>\n",
       "      <td>61.0</td>\n",
       "    </tr>\n",
       "    <tr>\n",
       "      <th>12666048</th>\n",
       "      <td>CPIX</td>\n",
       "      <td>3691.0</td>\n",
       "      <td>1.5321</td>\n",
       "      <td>1.4600</td>\n",
       "      <td>1.55</td>\n",
       "      <td>1.5500</td>\n",
       "      <td>1.4600</td>\n",
       "      <td>1718308800000</td>\n",
       "      <td>190.0</td>\n",
       "    </tr>\n",
       "  </tbody>\n",
       "</table>\n",
       "<p>362 rows × 9 columns</p>\n",
       "</div>"
      ],
      "text/plain": [
       "         ticker   volume      vw    open  close    high     low  \\\n",
       "8818525    CPIX  17222.0  2.3182  2.2500   2.31  2.3625  2.2400   \n",
       "8828579    CPIX  17871.0  2.3539  2.3100   2.37  2.3799  2.3000   \n",
       "8839375    CPIX   6630.0  2.3640  2.3100   2.41  2.4244  2.2667   \n",
       "8847954    CPIX   8544.0  2.4399  2.2400   2.43  2.4800  2.2400   \n",
       "8861599    CPIX  35111.0  2.4870  2.4100   2.51  2.5500  2.4100   \n",
       "...         ...      ...     ...     ...    ...     ...     ...   \n",
       "12625732   CPIX   1841.0  1.4105  1.4308   1.39  1.4308  1.3900   \n",
       "12631493   CPIX   8760.0  1.4757  1.3800   1.42  1.5508  1.3800   \n",
       "12645010   CPIX   2118.0  1.4921  1.4400   1.53  1.5899  1.4400   \n",
       "12656251   CPIX   1660.0  1.5256  1.4600   1.51  1.5900  1.4600   \n",
       "12666048   CPIX   3691.0  1.5321  1.4600   1.55  1.5500  1.4600   \n",
       "\n",
       "                   time      n  \n",
       "8818525   1672779600000   92.0  \n",
       "8828579   1672866000000   77.0  \n",
       "8839375   1672952400000   44.0  \n",
       "8847954   1673038800000   82.0  \n",
       "8861599   1673298000000  114.0  \n",
       "...                 ...    ...  \n",
       "12625732  1717790400000  104.0  \n",
       "12631493  1718049600000  128.0  \n",
       "12645010  1718136000000   49.0  \n",
       "12656251  1718222400000   61.0  \n",
       "12666048  1718308800000  190.0  \n",
       "\n",
       "[362 rows x 9 columns]"
      ]
     },
     "execution_count": 150,
     "metadata": {},
     "output_type": "execute_result"
    }
   ],
   "source": [
    "all2[all2.ticker=='CPIX']"
   ]
  }
 ],
 "metadata": {
  "kernelspec": {
   "display_name": "stonks",
   "language": "python",
   "name": "python3"
  },
  "language_info": {
   "codemirror_mode": {
    "name": "ipython",
    "version": 3
   },
   "file_extension": ".py",
   "mimetype": "text/x-python",
   "name": "python",
   "nbconvert_exporter": "python",
   "pygments_lexer": "ipython3",
   "version": "3.12.3"
  }
 },
 "nbformat": 4,
 "nbformat_minor": 2
}
