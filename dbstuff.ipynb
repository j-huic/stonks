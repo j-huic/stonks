{
 "cells": [
  {
   "cell_type": "code",
   "execution_count": 2,
   "metadata": {},
   "outputs": [],
   "source": [
    "import talib\n",
    "import sqlite3\n",
    "import pandas as pd\n",
    "from datetime import datetime\n",
    "from importlib import reload\n",
    "import time\n",
    "import numpy as np\n",
    "import matplotlib.pyplot as plt\n",
    "import connectorx as cx"
   ]
  },
  {
   "cell_type": "code",
   "execution_count": 77,
   "metadata": {},
   "outputs": [],
   "source": [
    "import functions; reload(functions)\n",
    "from functions import *"
   ]
  },
  {
   "cell_type": "code",
   "execution_count": 3,
   "metadata": {},
   "outputs": [
    {
     "name": "stdout",
     "output_type": "stream",
     "text": [
      "c:\\Users\\Janko\\Miniconda3\\envs\\stonks\\python.exe\n"
     ]
    }
   ],
   "source": [
    "import sys\n",
    "print(sys.executable)"
   ]
  },
  {
   "cell_type": "code",
   "execution_count": 24,
   "metadata": {},
   "outputs": [],
   "source": [
    "conn = sqlite3.connect('main.db')\n",
    "c = conn.cursor()"
   ]
  },
  {
   "cell_type": "code",
   "execution_count": 78,
   "metadata": {},
   "outputs": [
    {
     "data": {
      "text/plain": [
       "1720468800000"
      ]
     },
     "execution_count": 78,
     "metadata": {},
     "output_type": "execute_result"
    }
   ],
   "source": [
    "maxtime = 'SELECT MAX(time) FROM stocks;'\n",
    "c.execute(maxtime).fetchone()[0]"
   ]
  },
  {
   "cell_type": "code",
   "execution_count": 40,
   "metadata": {},
   "outputs": [],
   "source": [
    "query = '''\n",
    "SELECT * FROM stocks\n",
    "WHERE ticker in (\n",
    "\tSELECT ticker FROM stocks\n",
    "\tWHERE time = (\n",
    "\t\tSELECT MAX(time) FROM stocks\n",
    "\t)\n",
    "\tORDER BY volume * vw DESC\n",
    "\tLIMIT 5000\n",
    ")\n",
    "'''"
   ]
  },
  {
   "cell_type": "code",
   "execution_count": 69,
   "metadata": {},
   "outputs": [],
   "source": [
    "bla = '''\n",
    "SELECT ticker, close, time FROM stocks\n",
    "WHERE ticker in (\n",
    "SELECT ticker FROM stocks\n",
    "\tWHERE time = (\n",
    "\t\tSELECT MAX(time) FROM stocks\n",
    "\t)\n",
    "    ORDER BY volume * vw DESC\n",
    "    LIMIT 5000\n",
    "  )\n",
    "'''"
   ]
  },
  {
   "cell_type": "code",
   "execution_count": 41,
   "metadata": {},
   "outputs": [],
   "source": [
    "data = get_data(query)"
   ]
  },
  {
   "cell_type": "code",
   "execution_count": 70,
   "metadata": {},
   "outputs": [],
   "source": [
    "cxtest = cx.read_sql('sqlite://main.db', bla)"
   ]
  },
  {
   "cell_type": "code",
   "execution_count": 76,
   "metadata": {},
   "outputs": [],
   "source": [
    "cx2 = cx.read_sql('sqlite://main.db', get_top_stocks())"
   ]
  },
  {
   "cell_type": "code",
   "execution_count": 35,
   "metadata": {},
   "outputs": [],
   "source": [
    "test = pd.read_sql_query(query, conn)"
   ]
  },
  {
   "cell_type": "code",
   "execution_count": 38,
   "metadata": {},
   "outputs": [],
   "source": [
    "test2 = pd.read_sql_query(query, conn)"
   ]
  },
  {
   "cell_type": "code",
   "execution_count": 16,
   "metadata": {},
   "outputs": [
    {
     "data": {
      "text/plain": [
       "'2024-07-03'"
      ]
     },
     "execution_count": 16,
     "metadata": {},
     "output_type": "execute_result"
    }
   ],
   "source": [
    "timestamp_to_date(get_data(maxtime)[0][0])"
   ]
  },
  {
   "cell_type": "code",
   "execution_count": 28,
   "metadata": {},
   "outputs": [],
   "source": [
    "df = pd.read_sql_query(get_top_stocks(10000), conn)"
   ]
  },
  {
   "cell_type": "code",
   "execution_count": 17,
   "metadata": {},
   "outputs": [],
   "source": [
    "df = get_data(get_top_stocks(10))"
   ]
  },
  {
   "cell_type": "code",
   "execution_count": 19,
   "metadata": {},
   "outputs": [],
   "source": [
    "df = pd.DataFrame(df)"
   ]
  },
  {
   "cell_type": "code",
   "execution_count": null,
   "metadata": {},
   "outputs": [],
   "source": [
    "onlylast = '''\n",
    "    SELECT ticker FROM stocks\n",
    "\tWHERE time = (\n",
    "\t\tSELECT MAX(time) FROM stocks\n",
    "\t)\n",
    "\tORDER BY volume * vw DESC\n",
    "    LIMIT 1000;\n",
    "'''\n",
    "\n",
    "query = f'''\n",
    "    SELECT * \n",
    "    FROM stocks \n",
    "    WHERE time > {timestamp_from_datestring('2024-01-01')}\n",
    "    AND n > 1000\n",
    "    '''\n",
    "\t\n",
    "### test table\n",
    "beginning = date_to_timestamp('2023-01-01')\n",
    "end = date_to_timestamp('2024-06-01')\n",
    "query = f'''\n",
    "    SELECT * \n",
    "    FROM stocks \n",
    "    WHERE time > {beginning} AND time < {end}\n",
    "'''\n",
    "test = pd.read_sql_query(query, conn)\n",
    "test.to_sql('test', conn, if_exists='replace', index=False)"
   ]
  },
  {
   "cell_type": "code",
   "execution_count": 6,
   "metadata": {},
   "outputs": [],
   "source": [
    "def get_data(query):\n",
    "    c.execute(query)\n",
    "    data = c.fetchall()\n",
    "    return data"
   ]
  },
  {
   "cell_type": "code",
   "execution_count": 56,
   "metadata": {},
   "outputs": [],
   "source": [
    "timestamps = pd.read_sql_query(f'SELECT DISTINCT time FROM {tablename}', conn)\n",
    "dates = [date_from_timestamp(ts) for ts in timestamps['time']]\n",
    "trading_days = get_trading_days(from_date=min(dates))[1:]\n",
    "missingdates = missingdates(dates, trading_days)"
   ]
  }
 ],
 "metadata": {
  "kernelspec": {
   "display_name": "stonks",
   "language": "python",
   "name": "python3"
  },
  "language_info": {
   "codemirror_mode": {
    "name": "ipython",
    "version": 3
   },
   "file_extension": ".py",
   "mimetype": "text/x-python",
   "name": "python",
   "nbconvert_exporter": "python",
   "pygments_lexer": "ipython3",
   "version": "3.12.3"
  }
 },
 "nbformat": 4,
 "nbformat_minor": 2
}
