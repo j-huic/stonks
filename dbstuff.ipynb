{
 "cells": [
  {
   "cell_type": "code",
   "execution_count": 31,
   "metadata": {},
   "outputs": [],
   "source": [
    "import talib\n",
    "import sqlite3\n",
    "import pandas as pd\n",
    "from datetime import datetime\n",
    "from importlib import reload\n",
    "import time\n",
    "import numpy as np\n",
    "import matplotlib.pyplot as plt\n",
    "import connectorx as cx\n",
    "from concurrent.futures import ThreadPoolExecutor, as_completed\n"
   ]
  },
  {
   "cell_type": "code",
   "execution_count": 11,
   "metadata": {},
   "outputs": [],
   "source": [
    "import functions; reload(functions)\n",
    "from functions import *"
   ]
  },
  {
   "cell_type": "code",
   "execution_count": 12,
   "metadata": {},
   "outputs": [
    {
     "name": "stdout",
     "output_type": "stream",
     "text": [
      "/opt/homebrew/Caskroom/miniconda/base/envs/stonks/bin/python\n"
     ]
    }
   ],
   "source": [
    "import sys\n",
    "print(sys.executable)"
   ]
  },
  {
   "cell_type": "code",
   "execution_count": 46,
   "metadata": {},
   "outputs": [],
   "source": [
    "conn = sqlite3.connect('main.db')\n",
    "c = conn.cursor()"
   ]
  },
  {
   "cell_type": "code",
   "execution_count": null,
   "metadata": {},
   "outputs": [],
   "source": [
    "tds = get_trading_days()"
   ]
  },
  {
   "cell_type": "code",
   "execution_count": 14,
   "metadata": {},
   "outputs": [],
   "source": []
  },
  {
   "cell_type": "code",
   "execution_count": 38,
   "metadata": {},
   "outputs": [
    {
     "data": {
      "text/plain": [
       "T      object\n",
       "v     float64\n",
       "vw    float64\n",
       "o     float64\n",
       "c     float64\n",
       "h     float64\n",
       "l     float64\n",
       "t       int64\n",
       "n     float64\n",
       "dtype: object"
      ]
     },
     "execution_count": 38,
     "metadata": {},
     "output_type": "execute_result"
    }
   ],
   "source": [
    "df.dtypes"
   ]
  },
  {
   "cell_type": "code",
   "execution_count": 37,
   "metadata": {},
   "outputs": [
    {
     "data": {
      "text/html": [
       "<div>\n",
       "<style scoped>\n",
       "    .dataframe tbody tr th:only-of-type {\n",
       "        vertical-align: middle;\n",
       "    }\n",
       "\n",
       "    .dataframe tbody tr th {\n",
       "        vertical-align: top;\n",
       "    }\n",
       "\n",
       "    .dataframe thead th {\n",
       "        text-align: right;\n",
       "    }\n",
       "</style>\n",
       "<table border=\"1\" class=\"dataframe\">\n",
       "  <thead>\n",
       "    <tr style=\"text-align: right;\">\n",
       "      <th></th>\n",
       "      <th>T</th>\n",
       "      <th>v</th>\n",
       "      <th>vw</th>\n",
       "      <th>o</th>\n",
       "      <th>c</th>\n",
       "      <th>h</th>\n",
       "      <th>l</th>\n",
       "      <th>t</th>\n",
       "      <th>n</th>\n",
       "    </tr>\n",
       "  </thead>\n",
       "  <tbody>\n",
       "    <tr>\n",
       "      <th>0</th>\n",
       "      <td>IYK</td>\n",
       "      <td>99318.0</td>\n",
       "      <td>42.0951</td>\n",
       "      <td>42.0333</td>\n",
       "      <td>42.04</td>\n",
       "      <td>42.1667</td>\n",
       "      <td>42.01</td>\n",
       "      <td>1564516800000</td>\n",
       "      <td>242.0</td>\n",
       "    </tr>\n",
       "    <tr>\n",
       "      <th>1</th>\n",
       "      <td>RST</td>\n",
       "      <td>179599.0</td>\n",
       "      <td>23.2769</td>\n",
       "      <td>22.6100</td>\n",
       "      <td>23.27</td>\n",
       "      <td>23.5750</td>\n",
       "      <td>22.40</td>\n",
       "      <td>1564516800000</td>\n",
       "      <td>2192.0</td>\n",
       "    </tr>\n",
       "    <tr>\n",
       "      <th>2</th>\n",
       "      <td>MYJ</td>\n",
       "      <td>27073.0</td>\n",
       "      <td>15.0528</td>\n",
       "      <td>15.0600</td>\n",
       "      <td>15.07</td>\n",
       "      <td>15.0800</td>\n",
       "      <td>15.01</td>\n",
       "      <td>1564516800000</td>\n",
       "      <td>145.0</td>\n",
       "    </tr>\n",
       "    <tr>\n",
       "      <th>3</th>\n",
       "      <td>OXFD</td>\n",
       "      <td>1296839.0</td>\n",
       "      <td>12.7405</td>\n",
       "      <td>12.6600</td>\n",
       "      <td>12.66</td>\n",
       "      <td>12.9800</td>\n",
       "      <td>12.56</td>\n",
       "      <td>1564516800000</td>\n",
       "      <td>2693.0</td>\n",
       "    </tr>\n",
       "    <tr>\n",
       "      <th>4</th>\n",
       "      <td>PLAN</td>\n",
       "      <td>909264.0</td>\n",
       "      <td>57.6294</td>\n",
       "      <td>57.1600</td>\n",
       "      <td>57.69</td>\n",
       "      <td>58.4700</td>\n",
       "      <td>56.70</td>\n",
       "      <td>1564516800000</td>\n",
       "      <td>8709.0</td>\n",
       "    </tr>\n",
       "  </tbody>\n",
       "</table>\n",
       "</div>"
      ],
      "text/plain": [
       "      T          v       vw        o      c        h      l              t  \\\n",
       "0   IYK    99318.0  42.0951  42.0333  42.04  42.1667  42.01  1564516800000   \n",
       "1   RST   179599.0  23.2769  22.6100  23.27  23.5750  22.40  1564516800000   \n",
       "2   MYJ    27073.0  15.0528  15.0600  15.07  15.0800  15.01  1564516800000   \n",
       "3  OXFD  1296839.0  12.7405  12.6600  12.66  12.9800  12.56  1564516800000   \n",
       "4  PLAN   909264.0  57.6294  57.1600  57.69  58.4700  56.70  1564516800000   \n",
       "\n",
       "        n  \n",
       "0   242.0  \n",
       "1  2192.0  \n",
       "2   145.0  \n",
       "3  2693.0  \n",
       "4  8709.0  "
      ]
     },
     "execution_count": 37,
     "metadata": {},
     "output_type": "execute_result"
    }
   ],
   "source": [
    "df.head()"
   ]
  },
  {
   "cell_type": "code",
   "execution_count": 26,
   "metadata": {},
   "outputs": [],
   "source": [
    "df.to_csv('alldata.csv', index=False)"
   ]
  },
  {
   "cell_type": "code",
   "execution_count": 25,
   "metadata": {},
   "outputs": [
    {
     "name": "stderr",
     "output_type": "stream",
     "text": [
      "100%|██████████| 1257/1257 [26:39<00:00,  1.27s/it] \n"
     ]
    },
    {
     "name": "stdout",
     "output_type": "stream",
     "text": [
      "1257 file requests done in 26.0 minutes and 39.68 seconds\n"
     ]
    }
   ],
   "source": [
    "df = datelist_to_df(tds)"
   ]
  },
  {
   "cell_type": "code",
   "execution_count": 53,
   "metadata": {},
   "outputs": [],
   "source": [
    "df.columns = get_table_colnames()"
   ]
  },
  {
   "cell_type": "code",
   "execution_count": 54,
   "metadata": {},
   "outputs": [
    {
     "data": {
      "text/html": [
       "<div>\n",
       "<style scoped>\n",
       "    .dataframe tbody tr th:only-of-type {\n",
       "        vertical-align: middle;\n",
       "    }\n",
       "\n",
       "    .dataframe tbody tr th {\n",
       "        vertical-align: top;\n",
       "    }\n",
       "\n",
       "    .dataframe thead th {\n",
       "        text-align: right;\n",
       "    }\n",
       "</style>\n",
       "<table border=\"1\" class=\"dataframe\">\n",
       "  <thead>\n",
       "    <tr style=\"text-align: right;\">\n",
       "      <th></th>\n",
       "      <th>ticker</th>\n",
       "      <th>volume</th>\n",
       "      <th>volume_weighted</th>\n",
       "      <th>open</th>\n",
       "      <th>close</th>\n",
       "      <th>high</th>\n",
       "      <th>low</th>\n",
       "      <th>timestamp</th>\n",
       "      <th>transactions</th>\n",
       "    </tr>\n",
       "  </thead>\n",
       "  <tbody>\n",
       "    <tr>\n",
       "      <th>0</th>\n",
       "      <td>IYK</td>\n",
       "      <td>99318.0</td>\n",
       "      <td>42.0951</td>\n",
       "      <td>42.0333</td>\n",
       "      <td>42.04</td>\n",
       "      <td>42.1667</td>\n",
       "      <td>42.01</td>\n",
       "      <td>1564516800000</td>\n",
       "      <td>242.0</td>\n",
       "    </tr>\n",
       "    <tr>\n",
       "      <th>1</th>\n",
       "      <td>RST</td>\n",
       "      <td>179599.0</td>\n",
       "      <td>23.2769</td>\n",
       "      <td>22.6100</td>\n",
       "      <td>23.27</td>\n",
       "      <td>23.5750</td>\n",
       "      <td>22.40</td>\n",
       "      <td>1564516800000</td>\n",
       "      <td>2192.0</td>\n",
       "    </tr>\n",
       "    <tr>\n",
       "      <th>2</th>\n",
       "      <td>MYJ</td>\n",
       "      <td>27073.0</td>\n",
       "      <td>15.0528</td>\n",
       "      <td>15.0600</td>\n",
       "      <td>15.07</td>\n",
       "      <td>15.0800</td>\n",
       "      <td>15.01</td>\n",
       "      <td>1564516800000</td>\n",
       "      <td>145.0</td>\n",
       "    </tr>\n",
       "    <tr>\n",
       "      <th>3</th>\n",
       "      <td>OXFD</td>\n",
       "      <td>1296839.0</td>\n",
       "      <td>12.7405</td>\n",
       "      <td>12.6600</td>\n",
       "      <td>12.66</td>\n",
       "      <td>12.9800</td>\n",
       "      <td>12.56</td>\n",
       "      <td>1564516800000</td>\n",
       "      <td>2693.0</td>\n",
       "    </tr>\n",
       "    <tr>\n",
       "      <th>4</th>\n",
       "      <td>PLAN</td>\n",
       "      <td>909264.0</td>\n",
       "      <td>57.6294</td>\n",
       "      <td>57.1600</td>\n",
       "      <td>57.69</td>\n",
       "      <td>58.4700</td>\n",
       "      <td>56.70</td>\n",
       "      <td>1564516800000</td>\n",
       "      <td>8709.0</td>\n",
       "    </tr>\n",
       "  </tbody>\n",
       "</table>\n",
       "</div>"
      ],
      "text/plain": [
       "  ticker     volume  volume_weighted     open  close     high    low  \\\n",
       "0    IYK    99318.0          42.0951  42.0333  42.04  42.1667  42.01   \n",
       "1    RST   179599.0          23.2769  22.6100  23.27  23.5750  22.40   \n",
       "2    MYJ    27073.0          15.0528  15.0600  15.07  15.0800  15.01   \n",
       "3   OXFD  1296839.0          12.7405  12.6600  12.66  12.9800  12.56   \n",
       "4   PLAN   909264.0          57.6294  57.1600  57.69  58.4700  56.70   \n",
       "\n",
       "       timestamp  transactions  \n",
       "0  1564516800000         242.0  \n",
       "1  1564516800000        2192.0  \n",
       "2  1564516800000         145.0  \n",
       "3  1564516800000        2693.0  \n",
       "4  1564516800000        8709.0  "
      ]
     },
     "execution_count": 54,
     "metadata": {},
     "output_type": "execute_result"
    }
   ],
   "source": [
    "df.head()"
   ]
  },
  {
   "cell_type": "code",
   "execution_count": 55,
   "metadata": {},
   "outputs": [
    {
     "data": {
      "text/plain": [
       "12719910"
      ]
     },
     "execution_count": 55,
     "metadata": {},
     "output_type": "execute_result"
    }
   ],
   "source": [
    "df.to_sql('stocks', conn, if_exists='append', index=False)"
   ]
  },
  {
   "cell_type": "code",
   "execution_count": 78,
   "metadata": {},
   "outputs": [
    {
     "data": {
      "text/plain": [
       "1720468800000"
      ]
     },
     "execution_count": 78,
     "metadata": {},
     "output_type": "execute_result"
    }
   ],
   "source": [
    "maxtime = 'SELECT MAX(time) FROM stocks;'\n",
    "c.execute(maxtime).fetchone()[0]"
   ]
  },
  {
   "cell_type": "code",
   "execution_count": 40,
   "metadata": {},
   "outputs": [],
   "source": [
    "query = '''\n",
    "SELECT * FROM stocks\n",
    "WHERE ticker in (\n",
    "\tSELECT ticker FROM stocks\n",
    "\tWHERE time = (\n",
    "\t\tSELECT MAX(time) FROM stocks\n",
    "\t)\n",
    "\tORDER BY volume * vw DESC\n",
    "\tLIMIT 5000\n",
    ")\n",
    "'''"
   ]
  },
  {
   "cell_type": "code",
   "execution_count": 69,
   "metadata": {},
   "outputs": [],
   "source": [
    "bla = '''\n",
    "SELECT ticker, close, time FROM stocks\n",
    "WHERE ticker in (\n",
    "SELECT ticker FROM stocks\n",
    "\tWHERE time = (\n",
    "\t\tSELECT MAX(time) FROM stocks\n",
    "\t)\n",
    "    ORDER BY volume * vw DESC\n",
    "    LIMIT 5000\n",
    "  )\n",
    "'''"
   ]
  },
  {
   "cell_type": "code",
   "execution_count": 41,
   "metadata": {},
   "outputs": [],
   "source": [
    "data = get_data(query)"
   ]
  },
  {
   "cell_type": "code",
   "execution_count": 70,
   "metadata": {},
   "outputs": [],
   "source": [
    "cxtest = cx.read_sql('sqlite://main.db', bla)"
   ]
  },
  {
   "cell_type": "code",
   "execution_count": 76,
   "metadata": {},
   "outputs": [],
   "source": [
    "cx2 = cx.read_sql('sqlite://main.db', get_top_stocks())"
   ]
  },
  {
   "cell_type": "code",
   "execution_count": 35,
   "metadata": {},
   "outputs": [],
   "source": [
    "test = pd.read_sql_query(query, conn)"
   ]
  },
  {
   "cell_type": "code",
   "execution_count": 38,
   "metadata": {},
   "outputs": [],
   "source": [
    "test2 = pd.read_sql_query(query, conn)"
   ]
  },
  {
   "cell_type": "code",
   "execution_count": 16,
   "metadata": {},
   "outputs": [
    {
     "data": {
      "text/plain": [
       "'2024-07-03'"
      ]
     },
     "execution_count": 16,
     "metadata": {},
     "output_type": "execute_result"
    }
   ],
   "source": [
    "timestamp_to_date(get_data(maxtime)[0][0])"
   ]
  },
  {
   "cell_type": "code",
   "execution_count": 28,
   "metadata": {},
   "outputs": [],
   "source": [
    "df = pd.read_sql_query(get_top_stocks(10000), conn)"
   ]
  },
  {
   "cell_type": "code",
   "execution_count": 17,
   "metadata": {},
   "outputs": [],
   "source": [
    "df = get_data(get_top_stocks(10))"
   ]
  },
  {
   "cell_type": "code",
   "execution_count": 19,
   "metadata": {},
   "outputs": [],
   "source": [
    "df = pd.DataFrame(df)"
   ]
  },
  {
   "cell_type": "code",
   "execution_count": null,
   "metadata": {},
   "outputs": [],
   "source": [
    "onlylast = '''\n",
    "    SELECT ticker FROM stocks\n",
    "\tWHERE time = (\n",
    "\t\tSELECT MAX(time) FROM stocks\n",
    "\t)\n",
    "\tORDER BY volume * vw DESC\n",
    "    LIMIT 1000;\n",
    "'''\n",
    "\n",
    "query = f'''\n",
    "    SELECT * \n",
    "    FROM stocks \n",
    "    WHERE time > {timestamp_from_datestring('2024-01-01')}\n",
    "    AND n > 1000\n",
    "    '''\n",
    "\t\n",
    "### test table\n",
    "beginning = date_to_timestamp('2023-01-01')\n",
    "end = date_to_timestamp('2024-06-01')\n",
    "query = f'''\n",
    "    SELECT * \n",
    "    FROM stocks \n",
    "    WHERE time > {beginning} AND time < {end}\n",
    "'''\n",
    "test = pd.read_sql_query(query, conn)\n",
    "test.to_sql('test', conn, if_exists='replace', index=False)"
   ]
  },
  {
   "cell_type": "code",
   "execution_count": 6,
   "metadata": {},
   "outputs": [],
   "source": [
    "def get_data(query):\n",
    "    c.execute(query)\n",
    "    data = c.fetchall()\n",
    "    return data"
   ]
  },
  {
   "cell_type": "code",
   "execution_count": 56,
   "metadata": {},
   "outputs": [],
   "source": [
    "timestamps = pd.read_sql_query(f'SELECT DISTINCT time FROM {tablename}', conn)\n",
    "dates = [date_from_timestamp(ts) for ts in timestamps['time']]\n",
    "trading_days = get_trading_days(from_date=min(dates))[1:]\n",
    "missingdates = missingdates(dates, trading_days)"
   ]
  }
 ],
 "metadata": {
  "kernelspec": {
   "display_name": "stonks",
   "language": "python",
   "name": "python3"
  },
  "language_info": {
   "codemirror_mode": {
    "name": "ipython",
    "version": 3
   },
   "file_extension": ".py",
   "mimetype": "text/x-python",
   "name": "python",
   "nbconvert_exporter": "python",
   "pygments_lexer": "ipython3",
   "version": "3.12.4"
  }
 },
 "nbformat": 4,
 "nbformat_minor": 2
}
