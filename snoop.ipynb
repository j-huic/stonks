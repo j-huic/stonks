{
 "cells": [
  {
   "cell_type": "code",
   "execution_count": 2,
   "metadata": {},
   "outputs": [],
   "source": [
    "import pandas as pd\n",
    "import talib\n",
    "import numpy as np"
   ]
  },
  {
   "cell_type": "code",
   "execution_count": 3,
   "metadata": {},
   "outputs": [],
   "source": [
    "df = pd.read_csv('all_dailies.csv')"
   ]
  },
  {
   "cell_type": "code",
   "execution_count": 4,
   "metadata": {},
   "outputs": [],
   "source": [
    "df['value'] = df['close'] * df['volume']"
   ]
  },
  {
   "cell_type": "code",
   "execution_count": 5,
   "metadata": {},
   "outputs": [],
   "source": [
    "latest = df[df['date'] == df['date'].max()].copy()\n",
    "latest.sort_values('value', ascending=False, inplace=True)"
   ]
  },
  {
   "cell_type": "code",
   "execution_count": 6,
   "metadata": {},
   "outputs": [],
   "source": [
    "order = latest['ticker'].tolist()"
   ]
  },
  {
   "cell_type": "code",
   "execution_count": 7,
   "metadata": {},
   "outputs": [],
   "source": [
    "rankdict = dict(zip(order, list(range(len(order)))))"
   ]
  },
  {
   "cell_type": "code",
   "execution_count": 8,
   "metadata": {},
   "outputs": [],
   "source": [
    "def ranking(ticker):\n",
    "    if ticker not in rankdict:\n",
    "        return None\n",
    "    return int(rankdict[ticker])"
   ]
  },
  {
   "cell_type": "code",
   "execution_count": 9,
   "metadata": {},
   "outputs": [],
   "source": [
    "df['rank'] = df['ticker'].apply(ranking)"
   ]
  },
  {
   "cell_type": "code",
   "execution_count": 10,
   "metadata": {},
   "outputs": [],
   "source": [
    "top = df[df['rank'] < 1000].copy()"
   ]
  },
  {
   "cell_type": "code",
   "execution_count": 11,
   "metadata": {},
   "outputs": [],
   "source": [
    "def getdistance(vector, n=20):\n",
    "    ma = talib.MA(vector, timeperiod=n)\n",
    "    stdev = talib.STDDEV(vector, timeperiod=n, nbdev=1)\n",
    "    return (vector - ma) / stdev"
   ]
  },
  {
   "cell_type": "code",
   "execution_count": 12,
   "metadata": {},
   "outputs": [],
   "source": [
    "def talib_wrap(group, func, colname, *args, **kwargs):\n",
    "    values = group[colname].values\n",
    "    result = func(values, *args, **kwargs)\n",
    "    return result"
   ]
  },
  {
   "cell_type": "code",
   "execution_count": 24,
   "metadata": {},
   "outputs": [],
   "source": [
    "def gethighestdistance(df, n=20):\n",
    "    df['distance'] = df['close'].groupby(df['ticker']).transform(getdistance)\n",
    "    last = df[df['date'] == df['date'].max()].copy()\n",
    "    lowest = last.nsmallest(n, 'distance').loc[:,['ticker', 'distance']]\n",
    "    highest = last.nlargest(n, 'distance').loc[:,['ticker', 'distance']]\n",
    "    return lowest, highest"
   ]
  },
  {
   "cell_type": "code",
   "execution_count": 35,
   "metadata": {},
   "outputs": [],
   "source": [
    "def printhighestdistance(df, n=20):\n",
    "    lowest, highest = gethighestdistance(df, n)\n",
    "    print(str(n) + ' Lowest stocks by distance:')\n",
    "    print(lowest.to_string(index=False))\n",
    "    print('\\n' + str(n) + ' Highest stocks by distance:')\n",
    "    print(highest.to_string(index=False))"
   ]
  }
 ],
 "metadata": {
  "kernelspec": {
   "display_name": "stonks",
   "language": "python",
   "name": "python3"
  },
  "language_info": {
   "codemirror_mode": {
    "name": "ipython",
    "version": 3
   },
   "file_extension": ".py",
   "mimetype": "text/x-python",
   "name": "python",
   "nbconvert_exporter": "python",
   "pygments_lexer": "ipython3",
   "version": "3.12.3"
  }
 },
 "nbformat": 4,
 "nbformat_minor": 2
}
