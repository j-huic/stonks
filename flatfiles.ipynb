{
 "cells": [
  {
   "cell_type": "code",
   "execution_count": 14,
   "metadata": {},
   "outputs": [],
   "source": [
    "import os\n",
    "import boto3\n",
    "import importlib\n",
    "from botocore.config import Config\n",
    "from datetime import datetime, timedelta"
   ]
  },
  {
   "cell_type": "code",
   "execution_count": 15,
   "metadata": {},
   "outputs": [],
   "source": [
    "import functions\n",
    "importlib.reload(functions)\n",
    "from functions import *"
   ]
  },
  {
   "cell_type": "code",
   "execution_count": 2,
   "metadata": {},
   "outputs": [],
   "source": [
    "session = boto3.Session(\n",
    "    aws_access_key_id=\"1c407b86-9d98-4a01-bf59-3b45eed92548\",\n",
    "    aws_secret_access_key=\"EuwKhItrKdGMxjTLTrltOOX5aJQ0ozpp\",\n",
    ")"
   ]
  },
  {
   "cell_type": "code",
   "execution_count": 3,
   "metadata": {},
   "outputs": [],
   "source": [
    "s3 = session.client(\n",
    "    \"s3\",\n",
    "    endpoint_url=\"https://files.polygon.io\",\n",
    "    config=Config(signature_version=\"s3v4\"),\n",
    ")"
   ]
  },
  {
   "cell_type": "code",
   "execution_count": 4,
   "metadata": {},
   "outputs": [],
   "source": [
    "paginator = s3.get_paginator(\"list_objects_v2\")"
   ]
  },
  {
   "cell_type": "code",
   "execution_count": 25,
   "metadata": {},
   "outputs": [],
   "source": [
    "prefix = \"us_stocks_sip/day_aggs_v1\"\n",
    "bucket = \"flatfiles\""
   ]
  },
  {
   "cell_type": "code",
   "execution_count": 26,
   "metadata": {},
   "outputs": [],
   "source": [
    "allfilenames = []\n",
    "\n",
    "for page in paginator.paginate(Bucket=bucket, Prefix=prefix):\n",
    "    for obj in page[\"Contents\"]:\n",
    "        allfilenames.append(obj[\"Key\"])"
   ]
  },
  {
   "cell_type": "code",
   "execution_count": 8,
   "metadata": {},
   "outputs": [],
   "source": [
    "dayaggs = os.listdir('day_aggs')"
   ]
  },
  {
   "cell_type": "code",
   "execution_count": 33,
   "metadata": {},
   "outputs": [],
   "source": [
    "havedates = [datefromfilename(x) for x in dayaggs]\n",
    "missingdates(havedates, availabledates)"
   ]
  },
  {
   "cell_type": "code",
   "execution_count": null,
   "metadata": {},
   "outputs": [],
   "source": [
    "downloadable = [x for x in allfilenames if datefromfilename(x) >= datefromfilename(dayaggs[0])]\n",
    "availabledates = [datefromfilename(x) for x in downloadable]"
   ]
  },
  {
   "cell_type": "code",
   "execution_count": 52,
   "metadata": {},
   "outputs": [],
   "source": [
    "category = [i.split(\"/\")[1] for i in allfilenames]\n",
    "stonkfilenames = [i for i in allfilenames if i.split(\"/\")[1] == \"day_aggs_v1\"]"
   ]
  },
  {
   "cell_type": "code",
   "execution_count": 201,
   "metadata": {},
   "outputs": [],
   "source": [
    "datestrings = [i.split(\"/\")[-1].split(\".\")[0] for i in allfilenames]\n",
    "date = [datetime.date(datetime.strptime(i, \"%Y-%m-%d\")) for i in datestrings]"
   ]
  },
  {
   "cell_type": "code",
   "execution_count": 198,
   "metadata": {},
   "outputs": [],
   "source": [
    "current_date = datetime.now()\n",
    "five_years_ago = current_date - timedelta(days=365*5)\n",
    "date_five_years_ago = five_years_ago.date()"
   ]
  },
  {
   "cell_type": "code",
   "execution_count": 207,
   "metadata": {},
   "outputs": [],
   "source": [
    "recent = [i for i,j in zip(stonkfilenames, date) if j > date_five_years_ago]"
   ]
  },
  {
   "cell_type": "code",
   "execution_count": 223,
   "metadata": {},
   "outputs": [],
   "source": [
    "for i in recent:\n",
    "    localfilename = \"day_aggs/\" + i.split(\"/\")[-1]\n",
    "\n",
    "    try:\n",
    "        s3.download_file(bucket, i, localfilename)\n",
    "    except Exception as e:\n",
    "        print(e)"
   ]
  }
 ],
 "metadata": {
  "kernelspec": {
   "display_name": "Python 3",
   "language": "python",
   "name": "python3"
  },
  "language_info": {
   "codemirror_mode": {
    "name": "ipython",
    "version": 3
   },
   "file_extension": ".py",
   "mimetype": "text/x-python",
   "name": "python",
   "nbconvert_exporter": "python",
   "pygments_lexer": "ipython3",
   "version": "3.12.3"
  }
 },
 "nbformat": 4,
 "nbformat_minor": 2
}
